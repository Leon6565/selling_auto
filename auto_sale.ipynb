{
 "cells": [
  {
   "cell_type": "markdown",
   "id": "06e28105-16d9-45b3-958e-795edd2e27d7",
   "metadata": {},
   "source": [
    "Импорт необходимых библиотек и настройка отображения информации и сообщений. "
   ]
  },
  {
   "cell_type": "code",
   "execution_count": 1,
   "id": "bd317ad5-1cc5-4c1e-84dd-fd46d62f89dc",
   "metadata": {
    "tags": []
   },
   "outputs": [],
   "source": [
    "import pandas as pd\n",
    "import matplotlib.pyplot as plt\n",
    "import matplotlib\n",
    "import seaborn as sns\n",
    "from sklearn.model_selection import train_test_split\n",
    "from sklearn.preprocessing import StandardScaler\n",
    "\n",
    "\n",
    "from sklearn.linear_model import LinearRegression\n",
    "from sklearn.ensemble import RandomForestRegressor\n",
    "\n",
    "from sklearn.model_selection import GridSearchCV, RandomizedSearchCV\n",
    "from sklearn.metrics import accuracy_score,roc_auc_score,f1_score,precision_score, recall_score\n",
    "from sklearn.utils import shuffle\n",
    "from sklearn.inspection import permutation_importance\n",
    "from collections import Counter\n",
    "from sklearn.preprocessing import OneHotEncoder\n",
    "from sklearn.compose import make_column_transformer\n",
    "from sklearn.metrics import mean_absolute_percentage_error\n",
    "\n",
    "from imblearn.over_sampling import SMOTE\n",
    "\n",
    "from sklearn.compose import make_column_selector\n",
    "from sklearn.pipeline import make_pipeline\n",
    "\n",
    "from sklearn.pipeline import Pipeline\n",
    "\n",
    "\n",
    "from catboost import CatBoostRegressor\n",
    "\n",
    "SEED = 123456\n",
    "\n",
    "import sys\n",
    "import numpy as np\n",
    "import random\n",
    "import warnings\n",
    "\n",
    "import dtale\n",
    "from statsmodels.stats.outliers_influence import variance_inflation_factor\n",
    "import plotly.express as px\n",
    "import seaborn as sns\n",
    "from tqdm.notebook import tqdm\n",
    "from vininfo import Vin"
   ]
  },
  {
   "cell_type": "code",
   "execution_count": 2,
   "id": "128f8c54-df19-45e3-b515-2d762a8040ec",
   "metadata": {
    "tags": []
   },
   "outputs": [],
   "source": [
    "warnings.filterwarnings('ignore')"
   ]
  },
  {
   "cell_type": "markdown",
   "id": "b94f4b79-baff-4df7-8f74-116bf13619bc",
   "metadata": {},
   "source": [
    "Настроим появления сообщений при импорте и работе различных быблиотек. "
   ]
  },
  {
   "cell_type": "code",
   "execution_count": 3,
   "id": "3dd99a02-586f-4b21-977b-a5349fcd0279",
   "metadata": {
    "tags": []
   },
   "outputs": [],
   "source": [
    "import warnings\n",
    "def ignore_warn(*args, **kwargs):\n",
    "    pass\n",
    "warnings.warn = ignore_warn"
   ]
  },
  {
   "cell_type": "code",
   "execution_count": 4,
   "id": "86badb90-908c-42f9-8071-9adfc9076b30",
   "metadata": {
    "tags": []
   },
   "outputs": [
    {
     "name": "stdout",
     "output_type": "stream",
     "text": [
      "Python       : 3.11.4 | packaged by Anaconda, Inc. | (main, Jul  5 2023, 13:38:37) [MSC v.1916 64 bit (AMD64)]\n",
      "Numpy        : 1.23.5\n"
     ]
    }
   ],
   "source": [
    "print('Python       :', sys.version.split('\\n')[0])\n",
    "print('Numpy        :', np.__version__)"
   ]
  },
  {
   "cell_type": "code",
   "execution_count": 5,
   "id": "45663d8f-1005-44c1-becf-910eef433a30",
   "metadata": {
    "tags": []
   },
   "outputs": [],
   "source": [
    "data_test = pd.read_csv('test.csv')"
   ]
  },
  {
   "cell_type": "code",
   "execution_count": 6,
   "id": "34b5eba3-28ec-44a8-9b94-2b6f8f5cda74",
   "metadata": {
    "tags": []
   },
   "outputs": [],
   "source": [
    "data_train = pd.read_csv('train.csv')"
   ]
  },
  {
   "cell_type": "markdown",
   "id": "0b1b7c31-1ade-4842-9b20-1b1dfbce7566",
   "metadata": {},
   "source": [
    "## Займемся изучением данных и заполнением пропусков. "
   ]
  },
  {
   "cell_type": "markdown",
   "id": "f315e5be-bf22-479b-9162-43304b56b833",
   "metadata": {},
   "source": [
    "Создадим функцию, которая выведет нам основную информацию о датасете. "
   ]
  },
  {
   "cell_type": "code",
   "execution_count": 7,
   "id": "4930bf14-1c10-4cec-895e-5f2f14a8d8b6",
   "metadata": {},
   "outputs": [],
   "source": [
    "def read_data(data):\n",
    "    name='data_'+data[:-4]\n",
    "    print(name)\n",
    "    name= pd.read_csv(data)\n",
    "    name.info()\n",
    "    display(name.head(10))\n",
    "    print(pd.DataFrame(round(name.isna().mean()*100,)))\n",
    "    print(round(name.isna().sum()))\n",
    "    print(name.duplicated().sum())"
   ]
  },
  {
   "cell_type": "code",
   "execution_count": 8,
   "id": "78d0c3ca-51d0-4b41-a18f-57407d2918ea",
   "metadata": {},
   "outputs": [
    {
     "name": "stdout",
     "output_type": "stream",
     "text": [
      "data_test\n",
      "<class 'pandas.core.frame.DataFrame'>\n",
      "RangeIndex: 110058 entries, 0 to 110057\n",
      "Data columns (total 14 columns):\n",
      " #   Column        Non-Null Count   Dtype  \n",
      "---  ------        --------------   -----  \n",
      " 0   year          110058 non-null  int64  \n",
      " 1   make          107997 non-null  object \n",
      " 2   model         107979 non-null  object \n",
      " 3   trim          107944 non-null  object \n",
      " 4   body          107464 non-null  object \n",
      " 5   transmission  97047 non-null   object \n",
      " 6   vin           110058 non-null  object \n",
      " 7   state         110058 non-null  object \n",
      " 8   condition     107679 non-null  float64\n",
      " 9   odometer      110039 non-null  float64\n",
      " 10  color         109900 non-null  object \n",
      " 11  interior      109900 non-null  object \n",
      " 12  seller        110058 non-null  object \n",
      " 13  saledate      110058 non-null  object \n",
      "dtypes: float64(2), int64(1), object(11)\n",
      "memory usage: 11.8+ MB\n"
     ]
    },
    {
     "data": {
      "text/html": [
       "<div>\n",
       "<style scoped>\n",
       "    .dataframe tbody tr th:only-of-type {\n",
       "        vertical-align: middle;\n",
       "    }\n",
       "\n",
       "    .dataframe tbody tr th {\n",
       "        vertical-align: top;\n",
       "    }\n",
       "\n",
       "    .dataframe thead th {\n",
       "        text-align: right;\n",
       "    }\n",
       "</style>\n",
       "<table border=\"1\" class=\"dataframe\">\n",
       "  <thead>\n",
       "    <tr style=\"text-align: right;\">\n",
       "      <th></th>\n",
       "      <th>year</th>\n",
       "      <th>make</th>\n",
       "      <th>model</th>\n",
       "      <th>trim</th>\n",
       "      <th>body</th>\n",
       "      <th>transmission</th>\n",
       "      <th>vin</th>\n",
       "      <th>state</th>\n",
       "      <th>condition</th>\n",
       "      <th>odometer</th>\n",
       "      <th>color</th>\n",
       "      <th>interior</th>\n",
       "      <th>seller</th>\n",
       "      <th>saledate</th>\n",
       "    </tr>\n",
       "  </thead>\n",
       "  <tbody>\n",
       "    <tr>\n",
       "      <th>0</th>\n",
       "      <td>2005</td>\n",
       "      <td>Cadillac</td>\n",
       "      <td>CTS</td>\n",
       "      <td>Base</td>\n",
       "      <td>Sedan</td>\n",
       "      <td>automatic</td>\n",
       "      <td>1g6dp567450124779</td>\n",
       "      <td>ca</td>\n",
       "      <td>2.7</td>\n",
       "      <td>116970.0</td>\n",
       "      <td>silver</td>\n",
       "      <td>black</td>\n",
       "      <td>lexus of stevens creek</td>\n",
       "      <td>Wed Jan 14 2015 04:30:00 GMT-0800 (PST)</td>\n",
       "    </tr>\n",
       "    <tr>\n",
       "      <th>1</th>\n",
       "      <td>2014</td>\n",
       "      <td>GMC</td>\n",
       "      <td>Savana Cargo</td>\n",
       "      <td>2500</td>\n",
       "      <td>Van</td>\n",
       "      <td>NaN</td>\n",
       "      <td>1gtw7fca7e1902207</td>\n",
       "      <td>pa</td>\n",
       "      <td>4.4</td>\n",
       "      <td>6286.0</td>\n",
       "      <td>white</td>\n",
       "      <td>gray</td>\n",
       "      <td>u-haul</td>\n",
       "      <td>Fri Feb 27 2015 01:00:00 GMT-0800 (PST)</td>\n",
       "    </tr>\n",
       "    <tr>\n",
       "      <th>2</th>\n",
       "      <td>2013</td>\n",
       "      <td>Nissan</td>\n",
       "      <td>Murano</td>\n",
       "      <td>S</td>\n",
       "      <td>SUV</td>\n",
       "      <td>automatic</td>\n",
       "      <td>jn8az1mw6dw303497</td>\n",
       "      <td>oh</td>\n",
       "      <td>4.6</td>\n",
       "      <td>11831.0</td>\n",
       "      <td>gray</td>\n",
       "      <td>black</td>\n",
       "      <td>nissan-infiniti lt</td>\n",
       "      <td>Tue Feb 24 2015 01:30:00 GMT-0800 (PST)</td>\n",
       "    </tr>\n",
       "    <tr>\n",
       "      <th>3</th>\n",
       "      <td>2013</td>\n",
       "      <td>Chevrolet</td>\n",
       "      <td>Impala</td>\n",
       "      <td>LS Fleet</td>\n",
       "      <td>Sedan</td>\n",
       "      <td>automatic</td>\n",
       "      <td>2g1wf5e34d1160703</td>\n",
       "      <td>fl</td>\n",
       "      <td>2.3</td>\n",
       "      <td>57105.0</td>\n",
       "      <td>silver</td>\n",
       "      <td>black</td>\n",
       "      <td>onemain rem/auto club of miami inc dba north dad</td>\n",
       "      <td>Fri Mar 06 2015 02:00:00 GMT-0800 (PST)</td>\n",
       "    </tr>\n",
       "    <tr>\n",
       "      <th>4</th>\n",
       "      <td>2013</td>\n",
       "      <td>Nissan</td>\n",
       "      <td>Titan</td>\n",
       "      <td>SV</td>\n",
       "      <td>Crew Cab</td>\n",
       "      <td>automatic</td>\n",
       "      <td>1n6aa0ec3dn301209</td>\n",
       "      <td>tn</td>\n",
       "      <td>2.9</td>\n",
       "      <td>31083.0</td>\n",
       "      <td>black</td>\n",
       "      <td>black</td>\n",
       "      <td>nissan north america inc.</td>\n",
       "      <td>Wed Jun 03 2015 03:30:00 GMT-0700 (PDT)</td>\n",
       "    </tr>\n",
       "    <tr>\n",
       "      <th>5</th>\n",
       "      <td>2003</td>\n",
       "      <td>Volkswagen</td>\n",
       "      <td>Passat</td>\n",
       "      <td>GLS 1.8T</td>\n",
       "      <td>wagon</td>\n",
       "      <td>automatic</td>\n",
       "      <td>wvwvd63b93e175638</td>\n",
       "      <td>nc</td>\n",
       "      <td>2.4</td>\n",
       "      <td>104155.0</td>\n",
       "      <td>silver</td>\n",
       "      <td>black</td>\n",
       "      <td>fred anderson nissan of fayetteville</td>\n",
       "      <td>Tue Jun 09 2015 03:00:00 GMT-0700 (PDT)</td>\n",
       "    </tr>\n",
       "    <tr>\n",
       "      <th>6</th>\n",
       "      <td>2013</td>\n",
       "      <td>Hyundai</td>\n",
       "      <td>Sonata</td>\n",
       "      <td>GLS</td>\n",
       "      <td>Sedan</td>\n",
       "      <td>automatic</td>\n",
       "      <td>5npeb4ac4dh809686</td>\n",
       "      <td>il</td>\n",
       "      <td>3.7</td>\n",
       "      <td>30669.0</td>\n",
       "      <td>silver</td>\n",
       "      <td>gray</td>\n",
       "      <td>merchants leasing</td>\n",
       "      <td>Tue Mar 03 2015 02:00:00 GMT-0800 (PST)</td>\n",
       "    </tr>\n",
       "    <tr>\n",
       "      <th>7</th>\n",
       "      <td>2013</td>\n",
       "      <td>Ford</td>\n",
       "      <td>Explorer</td>\n",
       "      <td>Base</td>\n",
       "      <td>SUV</td>\n",
       "      <td>automatic</td>\n",
       "      <td>1fm5k7b97dgb16454</td>\n",
       "      <td>nc</td>\n",
       "      <td>3.2</td>\n",
       "      <td>87862.0</td>\n",
       "      <td>black</td>\n",
       "      <td>gray</td>\n",
       "      <td>ge fleet services for itself/servicer</td>\n",
       "      <td>Tue Feb 10 2015 01:15:00 GMT-0800 (PST)</td>\n",
       "    </tr>\n",
       "    <tr>\n",
       "      <th>8</th>\n",
       "      <td>2011</td>\n",
       "      <td>Infiniti</td>\n",
       "      <td>G Sedan</td>\n",
       "      <td>G37x</td>\n",
       "      <td>G Sedan</td>\n",
       "      <td>automatic</td>\n",
       "      <td>jn1cv6ar5bm411441</td>\n",
       "      <td>tn</td>\n",
       "      <td>3.5</td>\n",
       "      <td>47028.0</td>\n",
       "      <td>black</td>\n",
       "      <td>beige</td>\n",
       "      <td>nissan infiniti lt</td>\n",
       "      <td>Wed Feb 04 2015 02:30:00 GMT-0800 (PST)</td>\n",
       "    </tr>\n",
       "    <tr>\n",
       "      <th>9</th>\n",
       "      <td>2007</td>\n",
       "      <td>Chevrolet</td>\n",
       "      <td>Suburban</td>\n",
       "      <td>1500 LS</td>\n",
       "      <td>SUV</td>\n",
       "      <td>automatic</td>\n",
       "      <td>3gnfc16j77g158033</td>\n",
       "      <td>ga</td>\n",
       "      <td>3.4</td>\n",
       "      <td>191211.0</td>\n",
       "      <td>black</td>\n",
       "      <td>tan</td>\n",
       "      <td>riverside chevrolet inc</td>\n",
       "      <td>Tue Feb 10 2015 04:30:00 GMT-0800 (PST)</td>\n",
       "    </tr>\n",
       "  </tbody>\n",
       "</table>\n",
       "</div>"
      ],
      "text/plain": [
       "   year        make         model      trim      body transmission  \\\n",
       "0  2005    Cadillac           CTS      Base     Sedan    automatic   \n",
       "1  2014         GMC  Savana Cargo      2500       Van          NaN   \n",
       "2  2013      Nissan        Murano         S       SUV    automatic   \n",
       "3  2013   Chevrolet        Impala  LS Fleet     Sedan    automatic   \n",
       "4  2013      Nissan         Titan        SV  Crew Cab    automatic   \n",
       "5  2003  Volkswagen        Passat  GLS 1.8T     wagon    automatic   \n",
       "6  2013     Hyundai        Sonata       GLS     Sedan    automatic   \n",
       "7  2013        Ford      Explorer      Base       SUV    automatic   \n",
       "8  2011    Infiniti       G Sedan      G37x   G Sedan    automatic   \n",
       "9  2007   Chevrolet      Suburban   1500 LS       SUV    automatic   \n",
       "\n",
       "                 vin state  condition  odometer   color interior  \\\n",
       "0  1g6dp567450124779    ca        2.7  116970.0  silver    black   \n",
       "1  1gtw7fca7e1902207    pa        4.4    6286.0   white     gray   \n",
       "2  jn8az1mw6dw303497    oh        4.6   11831.0    gray    black   \n",
       "3  2g1wf5e34d1160703    fl        2.3   57105.0  silver    black   \n",
       "4  1n6aa0ec3dn301209    tn        2.9   31083.0   black    black   \n",
       "5  wvwvd63b93e175638    nc        2.4  104155.0  silver    black   \n",
       "6  5npeb4ac4dh809686    il        3.7   30669.0  silver     gray   \n",
       "7  1fm5k7b97dgb16454    nc        3.2   87862.0   black     gray   \n",
       "8  jn1cv6ar5bm411441    tn        3.5   47028.0   black    beige   \n",
       "9  3gnfc16j77g158033    ga        3.4  191211.0   black      tan   \n",
       "\n",
       "                                             seller  \\\n",
       "0                            lexus of stevens creek   \n",
       "1                                            u-haul   \n",
       "2                                nissan-infiniti lt   \n",
       "3  onemain rem/auto club of miami inc dba north dad   \n",
       "4                         nissan north america inc.   \n",
       "5              fred anderson nissan of fayetteville   \n",
       "6                                 merchants leasing   \n",
       "7             ge fleet services for itself/servicer   \n",
       "8                                nissan infiniti lt   \n",
       "9                           riverside chevrolet inc   \n",
       "\n",
       "                                  saledate  \n",
       "0  Wed Jan 14 2015 04:30:00 GMT-0800 (PST)  \n",
       "1  Fri Feb 27 2015 01:00:00 GMT-0800 (PST)  \n",
       "2  Tue Feb 24 2015 01:30:00 GMT-0800 (PST)  \n",
       "3  Fri Mar 06 2015 02:00:00 GMT-0800 (PST)  \n",
       "4  Wed Jun 03 2015 03:30:00 GMT-0700 (PDT)  \n",
       "5  Tue Jun 09 2015 03:00:00 GMT-0700 (PDT)  \n",
       "6  Tue Mar 03 2015 02:00:00 GMT-0800 (PST)  \n",
       "7  Tue Feb 10 2015 01:15:00 GMT-0800 (PST)  \n",
       "8  Wed Feb 04 2015 02:30:00 GMT-0800 (PST)  \n",
       "9  Tue Feb 10 2015 04:30:00 GMT-0800 (PST)  "
      ]
     },
     "metadata": {},
     "output_type": "display_data"
    },
    {
     "name": "stdout",
     "output_type": "stream",
     "text": [
      "                 0\n",
      "year           0.0\n",
      "make           2.0\n",
      "model          2.0\n",
      "trim           2.0\n",
      "body           2.0\n",
      "transmission  12.0\n",
      "vin            0.0\n",
      "state          0.0\n",
      "condition      2.0\n",
      "odometer       0.0\n",
      "color          0.0\n",
      "interior       0.0\n",
      "seller         0.0\n",
      "saledate       0.0\n",
      "year                0\n",
      "make             2061\n",
      "model            2079\n",
      "trim             2114\n",
      "body             2594\n",
      "transmission    13011\n",
      "vin                 0\n",
      "state               0\n",
      "condition        2379\n",
      "odometer           19\n",
      "color             158\n",
      "interior          158\n",
      "seller              0\n",
      "saledate            0\n",
      "dtype: int64\n",
      "0\n"
     ]
    }
   ],
   "source": [
    "read_data('test.csv')"
   ]
  },
  {
   "cell_type": "code",
   "execution_count": 9,
   "id": "854e3a94-ba32-49ad-9ae3-2e9e3015df93",
   "metadata": {},
   "outputs": [
    {
     "name": "stdout",
     "output_type": "stream",
     "text": [
      "data_train\n",
      "<class 'pandas.core.frame.DataFrame'>\n",
      "RangeIndex: 440236 entries, 0 to 440235\n",
      "Data columns (total 15 columns):\n",
      " #   Column        Non-Null Count   Dtype  \n",
      "---  ------        --------------   -----  \n",
      " 0   year          440236 non-null  int64  \n",
      " 1   make          432193 non-null  object \n",
      " 2   model         432113 non-null  object \n",
      " 3   trim          431899 non-null  object \n",
      " 4   body          429843 non-null  object \n",
      " 5   transmission  388775 non-null  object \n",
      " 6   vin           440236 non-null  object \n",
      " 7   state         440236 non-null  object \n",
      " 8   condition     430831 non-null  float64\n",
      " 9   odometer      440167 non-null  float64\n",
      " 10  color         439650 non-null  object \n",
      " 11  interior      439650 non-null  object \n",
      " 12  seller        440236 non-null  object \n",
      " 13  sellingprice  440236 non-null  int64  \n",
      " 14  saledate      440236 non-null  object \n",
      "dtypes: float64(2), int64(2), object(11)\n",
      "memory usage: 50.4+ MB\n"
     ]
    },
    {
     "data": {
      "text/html": [
       "<div>\n",
       "<style scoped>\n",
       "    .dataframe tbody tr th:only-of-type {\n",
       "        vertical-align: middle;\n",
       "    }\n",
       "\n",
       "    .dataframe tbody tr th {\n",
       "        vertical-align: top;\n",
       "    }\n",
       "\n",
       "    .dataframe thead th {\n",
       "        text-align: right;\n",
       "    }\n",
       "</style>\n",
       "<table border=\"1\" class=\"dataframe\">\n",
       "  <thead>\n",
       "    <tr style=\"text-align: right;\">\n",
       "      <th></th>\n",
       "      <th>year</th>\n",
       "      <th>make</th>\n",
       "      <th>model</th>\n",
       "      <th>trim</th>\n",
       "      <th>body</th>\n",
       "      <th>transmission</th>\n",
       "      <th>vin</th>\n",
       "      <th>state</th>\n",
       "      <th>condition</th>\n",
       "      <th>odometer</th>\n",
       "      <th>color</th>\n",
       "      <th>interior</th>\n",
       "      <th>seller</th>\n",
       "      <th>sellingprice</th>\n",
       "      <th>saledate</th>\n",
       "    </tr>\n",
       "  </thead>\n",
       "  <tbody>\n",
       "    <tr>\n",
       "      <th>0</th>\n",
       "      <td>2011</td>\n",
       "      <td>Ford</td>\n",
       "      <td>Edge</td>\n",
       "      <td>SEL</td>\n",
       "      <td>suv</td>\n",
       "      <td>automatic</td>\n",
       "      <td>2fmdk3jc4bba41556</td>\n",
       "      <td>md</td>\n",
       "      <td>4.2</td>\n",
       "      <td>111041.0</td>\n",
       "      <td>black</td>\n",
       "      <td>black</td>\n",
       "      <td>santander consumer</td>\n",
       "      <td>12500</td>\n",
       "      <td>Tue Jun 02 2015 02:30:00 GMT-0700 (PDT)</td>\n",
       "    </tr>\n",
       "    <tr>\n",
       "      <th>1</th>\n",
       "      <td>2014</td>\n",
       "      <td>Ford</td>\n",
       "      <td>Fusion</td>\n",
       "      <td>SE</td>\n",
       "      <td>Sedan</td>\n",
       "      <td>automatic</td>\n",
       "      <td>3fa6p0h75er208976</td>\n",
       "      <td>mo</td>\n",
       "      <td>3.5</td>\n",
       "      <td>31034.0</td>\n",
       "      <td>black</td>\n",
       "      <td>black</td>\n",
       "      <td>ars/avis budget group</td>\n",
       "      <td>14500</td>\n",
       "      <td>Wed Feb 25 2015 02:00:00 GMT-0800 (PST)</td>\n",
       "    </tr>\n",
       "    <tr>\n",
       "      <th>2</th>\n",
       "      <td>2012</td>\n",
       "      <td>Nissan</td>\n",
       "      <td>Sentra</td>\n",
       "      <td>2.0 SL</td>\n",
       "      <td>sedan</td>\n",
       "      <td>automatic</td>\n",
       "      <td>3n1ab6ap4cl698412</td>\n",
       "      <td>nj</td>\n",
       "      <td>2.2</td>\n",
       "      <td>35619.0</td>\n",
       "      <td>black</td>\n",
       "      <td>black</td>\n",
       "      <td>nissan-infiniti lt</td>\n",
       "      <td>9100</td>\n",
       "      <td>Wed Jun 10 2015 02:30:00 GMT-0700 (PDT)</td>\n",
       "    </tr>\n",
       "    <tr>\n",
       "      <th>3</th>\n",
       "      <td>2003</td>\n",
       "      <td>HUMMER</td>\n",
       "      <td>H2</td>\n",
       "      <td>Base</td>\n",
       "      <td>suv</td>\n",
       "      <td>automatic</td>\n",
       "      <td>5grgn23u93h101360</td>\n",
       "      <td>tx</td>\n",
       "      <td>2.8</td>\n",
       "      <td>131301.0</td>\n",
       "      <td>gold</td>\n",
       "      <td>beige</td>\n",
       "      <td>wichita falls ford lin inc</td>\n",
       "      <td>13300</td>\n",
       "      <td>Wed Jun 17 2015 03:00:00 GMT-0700 (PDT)</td>\n",
       "    </tr>\n",
       "    <tr>\n",
       "      <th>4</th>\n",
       "      <td>2007</td>\n",
       "      <td>Ford</td>\n",
       "      <td>Fusion</td>\n",
       "      <td>SEL</td>\n",
       "      <td>Sedan</td>\n",
       "      <td>automatic</td>\n",
       "      <td>3fahp08z17r268380</td>\n",
       "      <td>md</td>\n",
       "      <td>2.0</td>\n",
       "      <td>127709.0</td>\n",
       "      <td>black</td>\n",
       "      <td>black</td>\n",
       "      <td>purple heart</td>\n",
       "      <td>1300</td>\n",
       "      <td>Tue Feb 03 2015 04:00:00 GMT-0800 (PST)</td>\n",
       "    </tr>\n",
       "    <tr>\n",
       "      <th>5</th>\n",
       "      <td>2013</td>\n",
       "      <td>Lincoln</td>\n",
       "      <td>MKZ</td>\n",
       "      <td>Base</td>\n",
       "      <td>Sedan</td>\n",
       "      <td>automatic</td>\n",
       "      <td>3ln6l2j91dr817800</td>\n",
       "      <td>mi</td>\n",
       "      <td>2.5</td>\n",
       "      <td>14894.0</td>\n",
       "      <td>black</td>\n",
       "      <td>black</td>\n",
       "      <td>ford motor credit company,llc</td>\n",
       "      <td>22600</td>\n",
       "      <td>Thu May 21 2015 02:00:00 GMT-0700 (PDT)</td>\n",
       "    </tr>\n",
       "    <tr>\n",
       "      <th>6</th>\n",
       "      <td>2010</td>\n",
       "      <td>pontiac</td>\n",
       "      <td>g6</td>\n",
       "      <td>4c</td>\n",
       "      <td>NaN</td>\n",
       "      <td>automatic</td>\n",
       "      <td>1g2za5eb4a4157380</td>\n",
       "      <td>nc</td>\n",
       "      <td>3.4</td>\n",
       "      <td>114587.0</td>\n",
       "      <td>silver</td>\n",
       "      <td>black</td>\n",
       "      <td>north state acceptance</td>\n",
       "      <td>5900</td>\n",
       "      <td>Mon Jan 12 2015 09:30:00 GMT-0800 (PST)</td>\n",
       "    </tr>\n",
       "    <tr>\n",
       "      <th>7</th>\n",
       "      <td>2013</td>\n",
       "      <td>Ford</td>\n",
       "      <td>Escape</td>\n",
       "      <td>SE</td>\n",
       "      <td>SUV</td>\n",
       "      <td>automatic</td>\n",
       "      <td>1fmcu0gx3duc59421</td>\n",
       "      <td>fl</td>\n",
       "      <td>4.8</td>\n",
       "      <td>26273.0</td>\n",
       "      <td>blue</td>\n",
       "      <td>gray</td>\n",
       "      <td>fields bmw</td>\n",
       "      <td>15200</td>\n",
       "      <td>Tue Feb 03 2015 01:00:00 GMT-0800 (PST)</td>\n",
       "    </tr>\n",
       "    <tr>\n",
       "      <th>8</th>\n",
       "      <td>2000</td>\n",
       "      <td>Hyundai</td>\n",
       "      <td>Elantra</td>\n",
       "      <td>GLS</td>\n",
       "      <td>Sedan</td>\n",
       "      <td>automatic</td>\n",
       "      <td>kmhjf35f2yu955691</td>\n",
       "      <td>oh</td>\n",
       "      <td>1.9</td>\n",
       "      <td>182624.0</td>\n",
       "      <td>black</td>\n",
       "      <td>tan</td>\n",
       "      <td>dt inventory</td>\n",
       "      <td>700</td>\n",
       "      <td>Thu Jan 22 2015 01:00:00 GMT-0800 (PST)</td>\n",
       "    </tr>\n",
       "    <tr>\n",
       "      <th>9</th>\n",
       "      <td>2005</td>\n",
       "      <td>Ford</td>\n",
       "      <td>Freestyle</td>\n",
       "      <td>Limited</td>\n",
       "      <td>wagon</td>\n",
       "      <td>automatic</td>\n",
       "      <td>1fmdk06135ga45438</td>\n",
       "      <td>oh</td>\n",
       "      <td>1.0</td>\n",
       "      <td>149364.0</td>\n",
       "      <td>black</td>\n",
       "      <td>tan</td>\n",
       "      <td>wells fargo dealer services</td>\n",
       "      <td>325</td>\n",
       "      <td>Tue Jun 16 2015 05:00:00 GMT-0700 (PDT)</td>\n",
       "    </tr>\n",
       "  </tbody>\n",
       "</table>\n",
       "</div>"
      ],
      "text/plain": [
       "   year     make      model     trim   body transmission                vin  \\\n",
       "0  2011     Ford       Edge      SEL    suv    automatic  2fmdk3jc4bba41556   \n",
       "1  2014     Ford     Fusion       SE  Sedan    automatic  3fa6p0h75er208976   \n",
       "2  2012   Nissan     Sentra   2.0 SL  sedan    automatic  3n1ab6ap4cl698412   \n",
       "3  2003   HUMMER         H2     Base    suv    automatic  5grgn23u93h101360   \n",
       "4  2007     Ford     Fusion      SEL  Sedan    automatic  3fahp08z17r268380   \n",
       "5  2013  Lincoln        MKZ     Base  Sedan    automatic  3ln6l2j91dr817800   \n",
       "6  2010  pontiac         g6       4c    NaN    automatic  1g2za5eb4a4157380   \n",
       "7  2013     Ford     Escape       SE    SUV    automatic  1fmcu0gx3duc59421   \n",
       "8  2000  Hyundai    Elantra      GLS  Sedan    automatic  kmhjf35f2yu955691   \n",
       "9  2005     Ford  Freestyle  Limited  wagon    automatic  1fmdk06135ga45438   \n",
       "\n",
       "  state  condition  odometer   color interior                         seller  \\\n",
       "0    md        4.2  111041.0   black    black             santander consumer   \n",
       "1    mo        3.5   31034.0   black    black          ars/avis budget group   \n",
       "2    nj        2.2   35619.0   black    black             nissan-infiniti lt   \n",
       "3    tx        2.8  131301.0    gold    beige     wichita falls ford lin inc   \n",
       "4    md        2.0  127709.0   black    black                   purple heart   \n",
       "5    mi        2.5   14894.0   black    black  ford motor credit company,llc   \n",
       "6    nc        3.4  114587.0  silver    black         north state acceptance   \n",
       "7    fl        4.8   26273.0    blue     gray                     fields bmw   \n",
       "8    oh        1.9  182624.0   black      tan                   dt inventory   \n",
       "9    oh        1.0  149364.0   black      tan    wells fargo dealer services   \n",
       "\n",
       "   sellingprice                                 saledate  \n",
       "0         12500  Tue Jun 02 2015 02:30:00 GMT-0700 (PDT)  \n",
       "1         14500  Wed Feb 25 2015 02:00:00 GMT-0800 (PST)  \n",
       "2          9100  Wed Jun 10 2015 02:30:00 GMT-0700 (PDT)  \n",
       "3         13300  Wed Jun 17 2015 03:00:00 GMT-0700 (PDT)  \n",
       "4          1300  Tue Feb 03 2015 04:00:00 GMT-0800 (PST)  \n",
       "5         22600  Thu May 21 2015 02:00:00 GMT-0700 (PDT)  \n",
       "6          5900  Mon Jan 12 2015 09:30:00 GMT-0800 (PST)  \n",
       "7         15200  Tue Feb 03 2015 01:00:00 GMT-0800 (PST)  \n",
       "8           700  Thu Jan 22 2015 01:00:00 GMT-0800 (PST)  \n",
       "9           325  Tue Jun 16 2015 05:00:00 GMT-0700 (PDT)  "
      ]
     },
     "metadata": {},
     "output_type": "display_data"
    },
    {
     "name": "stdout",
     "output_type": "stream",
     "text": [
      "                 0\n",
      "year           0.0\n",
      "make           2.0\n",
      "model          2.0\n",
      "trim           2.0\n",
      "body           2.0\n",
      "transmission  12.0\n",
      "vin            0.0\n",
      "state          0.0\n",
      "condition      2.0\n",
      "odometer       0.0\n",
      "color          0.0\n",
      "interior       0.0\n",
      "seller         0.0\n",
      "sellingprice   0.0\n",
      "saledate       0.0\n",
      "year                0\n",
      "make             8043\n",
      "model            8123\n",
      "trim             8337\n",
      "body            10393\n",
      "transmission    51461\n",
      "vin                 0\n",
      "state               0\n",
      "condition        9405\n",
      "odometer           69\n",
      "color             586\n",
      "interior          586\n",
      "seller              0\n",
      "sellingprice        0\n",
      "saledate            0\n",
      "dtype: int64\n",
      "0\n"
     ]
    }
   ],
   "source": [
    "read_data('train.csv')"
   ]
  },
  {
   "cell_type": "markdown",
   "id": "741f2147-3cf0-499a-a759-61ee577566bc",
   "metadata": {},
   "source": [
    "Мы можем увидеть, что в таблицах присутствуют пропуска, в процентном соотношении их количество не велико. Запишем количество строк каждой из таблиц впеременную, что бы произвести анализ после заполнения или удаления пропусков. Посмотрим на процентное соотношение данных до и после изменений. "
   ]
  },
  {
   "cell_type": "code",
   "execution_count": 10,
   "id": "90a32630-c05a-41bd-843b-e52b9b381540",
   "metadata": {
    "tags": []
   },
   "outputs": [],
   "source": [
    "size_train = data_train.shape[0]\n",
    "size_test = data_test.shape[0]"
   ]
  },
  {
   "cell_type": "markdown",
   "id": "43ceda3b-4acd-4614-96c3-34a3cfcf1d99",
   "metadata": {},
   "source": [
    "Напишем функцию, которая нам преобразует вид в понятный для нас формат и удалит лишнюю информацию, а именно время и часовой пояс."
   ]
  },
  {
   "cell_type": "code",
   "execution_count": 11,
   "id": "cd2901de-fd70-42b9-b430-1265ee4fecd0",
   "metadata": {
    "tags": []
   },
   "outputs": [],
   "source": [
    "def date(data):\n",
    "    data['date'] = pd.to_datetime(data['saledate'], infer_datetime_format=True, utc=True)\n",
    "    data['date'] = data['date'].dt.date\n",
    "    data = data.drop(columns=['saledate'], axis=1, inplace=True)\n",
    "    return data"
   ]
  },
  {
   "cell_type": "markdown",
   "id": "0b13a6ad-e8bb-4d46-8776-830861d36063",
   "metadata": {},
   "source": [
    "Применим нашу функцию к датасетам."
   ]
  },
  {
   "cell_type": "code",
   "execution_count": 12,
   "id": "05647cff-c0fd-42ee-b52a-85309d1c2716",
   "metadata": {
    "tags": []
   },
   "outputs": [],
   "source": [
    "date(data_test)"
   ]
  },
  {
   "cell_type": "code",
   "execution_count": 13,
   "id": "8a03dc28-accd-432f-b7d8-1c8ccf0c9990",
   "metadata": {
    "tags": []
   },
   "outputs": [],
   "source": [
    "date(data_train)"
   ]
  },
  {
   "cell_type": "code",
   "execution_count": 14,
   "id": "22d64874-0096-48dc-a404-250a99b1cbb5",
   "metadata": {
    "tags": []
   },
   "outputs": [],
   "source": [
    "data_test['date'] = data_test['date'].astype('datetime64[ns]')\n",
    "data_train['date'] = data_train['date'].astype('datetime64[ns]')"
   ]
  },
  {
   "cell_type": "code",
   "execution_count": 15,
   "id": "4f5cb4b2-0008-4c6f-bfe5-8972925b7c26",
   "metadata": {
    "tags": []
   },
   "outputs": [
    {
     "data": {
      "text/html": [
       "<div>\n",
       "<style scoped>\n",
       "    .dataframe tbody tr th:only-of-type {\n",
       "        vertical-align: middle;\n",
       "    }\n",
       "\n",
       "    .dataframe tbody tr th {\n",
       "        vertical-align: top;\n",
       "    }\n",
       "\n",
       "    .dataframe thead th {\n",
       "        text-align: right;\n",
       "    }\n",
       "</style>\n",
       "<table border=\"1\" class=\"dataframe\">\n",
       "  <thead>\n",
       "    <tr style=\"text-align: right;\">\n",
       "      <th></th>\n",
       "      <th>year</th>\n",
       "      <th>make</th>\n",
       "      <th>model</th>\n",
       "      <th>trim</th>\n",
       "      <th>body</th>\n",
       "      <th>transmission</th>\n",
       "      <th>vin</th>\n",
       "      <th>state</th>\n",
       "      <th>condition</th>\n",
       "      <th>odometer</th>\n",
       "      <th>color</th>\n",
       "      <th>interior</th>\n",
       "      <th>seller</th>\n",
       "      <th>sellingprice</th>\n",
       "      <th>date</th>\n",
       "    </tr>\n",
       "  </thead>\n",
       "  <tbody>\n",
       "    <tr>\n",
       "      <th>0</th>\n",
       "      <td>2011</td>\n",
       "      <td>Ford</td>\n",
       "      <td>Edge</td>\n",
       "      <td>SEL</td>\n",
       "      <td>suv</td>\n",
       "      <td>automatic</td>\n",
       "      <td>2fmdk3jc4bba41556</td>\n",
       "      <td>md</td>\n",
       "      <td>4.2</td>\n",
       "      <td>111041.0</td>\n",
       "      <td>black</td>\n",
       "      <td>black</td>\n",
       "      <td>santander consumer</td>\n",
       "      <td>12500</td>\n",
       "      <td>2015-06-01</td>\n",
       "    </tr>\n",
       "    <tr>\n",
       "      <th>1</th>\n",
       "      <td>2014</td>\n",
       "      <td>Ford</td>\n",
       "      <td>Fusion</td>\n",
       "      <td>SE</td>\n",
       "      <td>Sedan</td>\n",
       "      <td>automatic</td>\n",
       "      <td>3fa6p0h75er208976</td>\n",
       "      <td>mo</td>\n",
       "      <td>3.5</td>\n",
       "      <td>31034.0</td>\n",
       "      <td>black</td>\n",
       "      <td>black</td>\n",
       "      <td>ars/avis budget group</td>\n",
       "      <td>14500</td>\n",
       "      <td>2015-02-24</td>\n",
       "    </tr>\n",
       "    <tr>\n",
       "      <th>2</th>\n",
       "      <td>2012</td>\n",
       "      <td>Nissan</td>\n",
       "      <td>Sentra</td>\n",
       "      <td>2.0 SL</td>\n",
       "      <td>sedan</td>\n",
       "      <td>automatic</td>\n",
       "      <td>3n1ab6ap4cl698412</td>\n",
       "      <td>nj</td>\n",
       "      <td>2.2</td>\n",
       "      <td>35619.0</td>\n",
       "      <td>black</td>\n",
       "      <td>black</td>\n",
       "      <td>nissan-infiniti lt</td>\n",
       "      <td>9100</td>\n",
       "      <td>2015-06-09</td>\n",
       "    </tr>\n",
       "    <tr>\n",
       "      <th>3</th>\n",
       "      <td>2003</td>\n",
       "      <td>HUMMER</td>\n",
       "      <td>H2</td>\n",
       "      <td>Base</td>\n",
       "      <td>suv</td>\n",
       "      <td>automatic</td>\n",
       "      <td>5grgn23u93h101360</td>\n",
       "      <td>tx</td>\n",
       "      <td>2.8</td>\n",
       "      <td>131301.0</td>\n",
       "      <td>gold</td>\n",
       "      <td>beige</td>\n",
       "      <td>wichita falls ford lin inc</td>\n",
       "      <td>13300</td>\n",
       "      <td>2015-06-16</td>\n",
       "    </tr>\n",
       "    <tr>\n",
       "      <th>4</th>\n",
       "      <td>2007</td>\n",
       "      <td>Ford</td>\n",
       "      <td>Fusion</td>\n",
       "      <td>SEL</td>\n",
       "      <td>Sedan</td>\n",
       "      <td>automatic</td>\n",
       "      <td>3fahp08z17r268380</td>\n",
       "      <td>md</td>\n",
       "      <td>2.0</td>\n",
       "      <td>127709.0</td>\n",
       "      <td>black</td>\n",
       "      <td>black</td>\n",
       "      <td>purple heart</td>\n",
       "      <td>1300</td>\n",
       "      <td>2015-02-02</td>\n",
       "    </tr>\n",
       "    <tr>\n",
       "      <th>5</th>\n",
       "      <td>2013</td>\n",
       "      <td>Lincoln</td>\n",
       "      <td>MKZ</td>\n",
       "      <td>Base</td>\n",
       "      <td>Sedan</td>\n",
       "      <td>automatic</td>\n",
       "      <td>3ln6l2j91dr817800</td>\n",
       "      <td>mi</td>\n",
       "      <td>2.5</td>\n",
       "      <td>14894.0</td>\n",
       "      <td>black</td>\n",
       "      <td>black</td>\n",
       "      <td>ford motor credit company,llc</td>\n",
       "      <td>22600</td>\n",
       "      <td>2015-05-20</td>\n",
       "    </tr>\n",
       "    <tr>\n",
       "      <th>6</th>\n",
       "      <td>2010</td>\n",
       "      <td>pontiac</td>\n",
       "      <td>g6</td>\n",
       "      <td>4c</td>\n",
       "      <td>NaN</td>\n",
       "      <td>automatic</td>\n",
       "      <td>1g2za5eb4a4157380</td>\n",
       "      <td>nc</td>\n",
       "      <td>3.4</td>\n",
       "      <td>114587.0</td>\n",
       "      <td>silver</td>\n",
       "      <td>black</td>\n",
       "      <td>north state acceptance</td>\n",
       "      <td>5900</td>\n",
       "      <td>2015-01-12</td>\n",
       "    </tr>\n",
       "    <tr>\n",
       "      <th>7</th>\n",
       "      <td>2013</td>\n",
       "      <td>Ford</td>\n",
       "      <td>Escape</td>\n",
       "      <td>SE</td>\n",
       "      <td>SUV</td>\n",
       "      <td>automatic</td>\n",
       "      <td>1fmcu0gx3duc59421</td>\n",
       "      <td>fl</td>\n",
       "      <td>4.8</td>\n",
       "      <td>26273.0</td>\n",
       "      <td>blue</td>\n",
       "      <td>gray</td>\n",
       "      <td>fields bmw</td>\n",
       "      <td>15200</td>\n",
       "      <td>2015-02-02</td>\n",
       "    </tr>\n",
       "    <tr>\n",
       "      <th>8</th>\n",
       "      <td>2000</td>\n",
       "      <td>Hyundai</td>\n",
       "      <td>Elantra</td>\n",
       "      <td>GLS</td>\n",
       "      <td>Sedan</td>\n",
       "      <td>automatic</td>\n",
       "      <td>kmhjf35f2yu955691</td>\n",
       "      <td>oh</td>\n",
       "      <td>1.9</td>\n",
       "      <td>182624.0</td>\n",
       "      <td>black</td>\n",
       "      <td>tan</td>\n",
       "      <td>dt inventory</td>\n",
       "      <td>700</td>\n",
       "      <td>2015-01-21</td>\n",
       "    </tr>\n",
       "    <tr>\n",
       "      <th>9</th>\n",
       "      <td>2005</td>\n",
       "      <td>Ford</td>\n",
       "      <td>Freestyle</td>\n",
       "      <td>Limited</td>\n",
       "      <td>wagon</td>\n",
       "      <td>automatic</td>\n",
       "      <td>1fmdk06135ga45438</td>\n",
       "      <td>oh</td>\n",
       "      <td>1.0</td>\n",
       "      <td>149364.0</td>\n",
       "      <td>black</td>\n",
       "      <td>tan</td>\n",
       "      <td>wells fargo dealer services</td>\n",
       "      <td>325</td>\n",
       "      <td>2015-06-15</td>\n",
       "    </tr>\n",
       "  </tbody>\n",
       "</table>\n",
       "</div>"
      ],
      "text/plain": [
       "   year     make      model     trim   body transmission                vin  \\\n",
       "0  2011     Ford       Edge      SEL    suv    automatic  2fmdk3jc4bba41556   \n",
       "1  2014     Ford     Fusion       SE  Sedan    automatic  3fa6p0h75er208976   \n",
       "2  2012   Nissan     Sentra   2.0 SL  sedan    automatic  3n1ab6ap4cl698412   \n",
       "3  2003   HUMMER         H2     Base    suv    automatic  5grgn23u93h101360   \n",
       "4  2007     Ford     Fusion      SEL  Sedan    automatic  3fahp08z17r268380   \n",
       "5  2013  Lincoln        MKZ     Base  Sedan    automatic  3ln6l2j91dr817800   \n",
       "6  2010  pontiac         g6       4c    NaN    automatic  1g2za5eb4a4157380   \n",
       "7  2013     Ford     Escape       SE    SUV    automatic  1fmcu0gx3duc59421   \n",
       "8  2000  Hyundai    Elantra      GLS  Sedan    automatic  kmhjf35f2yu955691   \n",
       "9  2005     Ford  Freestyle  Limited  wagon    automatic  1fmdk06135ga45438   \n",
       "\n",
       "  state  condition  odometer   color interior                         seller  \\\n",
       "0    md        4.2  111041.0   black    black             santander consumer   \n",
       "1    mo        3.5   31034.0   black    black          ars/avis budget group   \n",
       "2    nj        2.2   35619.0   black    black             nissan-infiniti lt   \n",
       "3    tx        2.8  131301.0    gold    beige     wichita falls ford lin inc   \n",
       "4    md        2.0  127709.0   black    black                   purple heart   \n",
       "5    mi        2.5   14894.0   black    black  ford motor credit company,llc   \n",
       "6    nc        3.4  114587.0  silver    black         north state acceptance   \n",
       "7    fl        4.8   26273.0    blue     gray                     fields bmw   \n",
       "8    oh        1.9  182624.0   black      tan                   dt inventory   \n",
       "9    oh        1.0  149364.0   black      tan    wells fargo dealer services   \n",
       "\n",
       "   sellingprice       date  \n",
       "0         12500 2015-06-01  \n",
       "1         14500 2015-02-24  \n",
       "2          9100 2015-06-09  \n",
       "3         13300 2015-06-16  \n",
       "4          1300 2015-02-02  \n",
       "5         22600 2015-05-20  \n",
       "6          5900 2015-01-12  \n",
       "7         15200 2015-02-02  \n",
       "8           700 2015-01-21  \n",
       "9           325 2015-06-15  "
      ]
     },
     "metadata": {},
     "output_type": "display_data"
    }
   ],
   "source": [
    "display(data_train.head(10))"
   ]
  },
  {
   "cell_type": "code",
   "execution_count": 16,
   "id": "6f2e7cdb-37ba-4b01-9f39-c18ce892da00",
   "metadata": {
    "tags": []
   },
   "outputs": [],
   "source": [
    "numeric_list = ['year', 'odometer', 'sellingprice', 'condition']"
   ]
  },
  {
   "cell_type": "code",
   "execution_count": 17,
   "id": "593a3bb4-3ec4-4b72-a22e-419282bf7733",
   "metadata": {
    "tags": []
   },
   "outputs": [],
   "source": [
    "text_list = ['make', 'model', 'trim', 'body', 'transmission', 'vin', 'state',  'color', 'interior', 'seller']"
   ]
  },
  {
   "cell_type": "markdown",
   "id": "542a5130-8bd8-428b-8445-8d08d1132f9b",
   "metadata": {},
   "source": [
    "Займемся заполнением самого большого количества пропусков, а именно 'transmission'.  При долгих попытках заполнить пропуски при помощи LogisticRegression успеха не достиг, поскльку в 2-х датасетах находятся разлиыное количество моделей, и при получении предсказаний, мы получаем несоответствеи количества колонок, были удалены различные колони, даже получены результаты заполнения пропусков, но было удало 50% несоответствующих моделей(колонок) и было принято решение изменить подход, данный способ работает быстрее и стабильнее. "
   ]
  },
  {
   "cell_type": "code",
   "execution_count": 18,
   "id": "4d25feed-2ff3-4610-ae3e-975c43009009",
   "metadata": {
    "tags": []
   },
   "outputs": [],
   "source": [
    "def transmission(data):\n",
    "    new_transmission = {}\n",
    "    for i in data['model'].unique():\n",
    "        counted=[]\n",
    "        try:\n",
    "            for x in data['transmission'].unique():\n",
    "                if x == 'Nan':\n",
    "                    pass\n",
    "                counted.append([x, data.loc[(data['model'] == i) & (data['transmission'] == x), ['transmission']].count()])\n",
    "        except:\n",
    "            counted.append('Nan')\n",
    "        try:\n",
    "            if counted[0][1] >= counted[1][0]:\n",
    "                new_transmission[i] = counted[0][0]\n",
    "            else:\n",
    "                new_transmission[i] = counted[1][0]\n",
    "        except:\n",
    "            new_transmission[i] = counted[0][0]\n",
    "    for y in data['model'].unique():\n",
    "        data.loc[(data['model'] == y) & (data['transmission'].isna()), 'transmission'] = new_transmission[y]\n",
    "    return data"
   ]
  },
  {
   "cell_type": "code",
   "execution_count": 19,
   "id": "5c7c1708-bd22-4d01-8682-85fd52ca5cc2",
   "metadata": {
    "tags": []
   },
   "outputs": [
    {
     "data": {
      "text/html": [
       "<div>\n",
       "<style scoped>\n",
       "    .dataframe tbody tr th:only-of-type {\n",
       "        vertical-align: middle;\n",
       "    }\n",
       "\n",
       "    .dataframe tbody tr th {\n",
       "        vertical-align: top;\n",
       "    }\n",
       "\n",
       "    .dataframe thead th {\n",
       "        text-align: right;\n",
       "    }\n",
       "</style>\n",
       "<table border=\"1\" class=\"dataframe\">\n",
       "  <thead>\n",
       "    <tr style=\"text-align: right;\">\n",
       "      <th></th>\n",
       "      <th>year</th>\n",
       "      <th>make</th>\n",
       "      <th>model</th>\n",
       "      <th>trim</th>\n",
       "      <th>body</th>\n",
       "      <th>transmission</th>\n",
       "      <th>vin</th>\n",
       "      <th>state</th>\n",
       "      <th>condition</th>\n",
       "      <th>odometer</th>\n",
       "      <th>color</th>\n",
       "      <th>interior</th>\n",
       "      <th>seller</th>\n",
       "      <th>date</th>\n",
       "    </tr>\n",
       "  </thead>\n",
       "  <tbody>\n",
       "    <tr>\n",
       "      <th>0</th>\n",
       "      <td>2005</td>\n",
       "      <td>Cadillac</td>\n",
       "      <td>CTS</td>\n",
       "      <td>Base</td>\n",
       "      <td>Sedan</td>\n",
       "      <td>automatic</td>\n",
       "      <td>1g6dp567450124779</td>\n",
       "      <td>ca</td>\n",
       "      <td>2.7</td>\n",
       "      <td>116970.0</td>\n",
       "      <td>silver</td>\n",
       "      <td>black</td>\n",
       "      <td>lexus of stevens creek</td>\n",
       "      <td>2015-01-13</td>\n",
       "    </tr>\n",
       "    <tr>\n",
       "      <th>1</th>\n",
       "      <td>2014</td>\n",
       "      <td>GMC</td>\n",
       "      <td>Savana Cargo</td>\n",
       "      <td>2500</td>\n",
       "      <td>Van</td>\n",
       "      <td>automatic</td>\n",
       "      <td>1gtw7fca7e1902207</td>\n",
       "      <td>pa</td>\n",
       "      <td>4.4</td>\n",
       "      <td>6286.0</td>\n",
       "      <td>white</td>\n",
       "      <td>gray</td>\n",
       "      <td>u-haul</td>\n",
       "      <td>2015-02-26</td>\n",
       "    </tr>\n",
       "    <tr>\n",
       "      <th>2</th>\n",
       "      <td>2013</td>\n",
       "      <td>Nissan</td>\n",
       "      <td>Murano</td>\n",
       "      <td>S</td>\n",
       "      <td>SUV</td>\n",
       "      <td>automatic</td>\n",
       "      <td>jn8az1mw6dw303497</td>\n",
       "      <td>oh</td>\n",
       "      <td>4.6</td>\n",
       "      <td>11831.0</td>\n",
       "      <td>gray</td>\n",
       "      <td>black</td>\n",
       "      <td>nissan-infiniti lt</td>\n",
       "      <td>2015-02-23</td>\n",
       "    </tr>\n",
       "    <tr>\n",
       "      <th>3</th>\n",
       "      <td>2013</td>\n",
       "      <td>Chevrolet</td>\n",
       "      <td>Impala</td>\n",
       "      <td>LS Fleet</td>\n",
       "      <td>Sedan</td>\n",
       "      <td>automatic</td>\n",
       "      <td>2g1wf5e34d1160703</td>\n",
       "      <td>fl</td>\n",
       "      <td>2.3</td>\n",
       "      <td>57105.0</td>\n",
       "      <td>silver</td>\n",
       "      <td>black</td>\n",
       "      <td>onemain rem/auto club of miami inc dba north dad</td>\n",
       "      <td>2015-03-05</td>\n",
       "    </tr>\n",
       "    <tr>\n",
       "      <th>4</th>\n",
       "      <td>2013</td>\n",
       "      <td>Nissan</td>\n",
       "      <td>Titan</td>\n",
       "      <td>SV</td>\n",
       "      <td>Crew Cab</td>\n",
       "      <td>automatic</td>\n",
       "      <td>1n6aa0ec3dn301209</td>\n",
       "      <td>tn</td>\n",
       "      <td>2.9</td>\n",
       "      <td>31083.0</td>\n",
       "      <td>black</td>\n",
       "      <td>black</td>\n",
       "      <td>nissan north america inc.</td>\n",
       "      <td>2015-06-02</td>\n",
       "    </tr>\n",
       "    <tr>\n",
       "      <th>...</th>\n",
       "      <td>...</td>\n",
       "      <td>...</td>\n",
       "      <td>...</td>\n",
       "      <td>...</td>\n",
       "      <td>...</td>\n",
       "      <td>...</td>\n",
       "      <td>...</td>\n",
       "      <td>...</td>\n",
       "      <td>...</td>\n",
       "      <td>...</td>\n",
       "      <td>...</td>\n",
       "      <td>...</td>\n",
       "      <td>...</td>\n",
       "      <td>...</td>\n",
       "    </tr>\n",
       "    <tr>\n",
       "      <th>110053</th>\n",
       "      <td>2011</td>\n",
       "      <td>Jeep</td>\n",
       "      <td>Wrangler</td>\n",
       "      <td>Sport</td>\n",
       "      <td>SUV</td>\n",
       "      <td>automatic</td>\n",
       "      <td>1j4aa2d17bl584330</td>\n",
       "      <td>ca</td>\n",
       "      <td>3.8</td>\n",
       "      <td>66085.0</td>\n",
       "      <td>orange</td>\n",
       "      <td>black</td>\n",
       "      <td>dtg operations inc</td>\n",
       "      <td>2015-01-14</td>\n",
       "    </tr>\n",
       "    <tr>\n",
       "      <th>110054</th>\n",
       "      <td>2014</td>\n",
       "      <td>Lexus</td>\n",
       "      <td>IS 250</td>\n",
       "      <td>Base</td>\n",
       "      <td>sedan</td>\n",
       "      <td>automatic</td>\n",
       "      <td>jthbf1d23e5007526</td>\n",
       "      <td>fl</td>\n",
       "      <td>4.8</td>\n",
       "      <td>17588.0</td>\n",
       "      <td>gray</td>\n",
       "      <td>black</td>\n",
       "      <td>lexus financial services</td>\n",
       "      <td>2015-06-15</td>\n",
       "    </tr>\n",
       "    <tr>\n",
       "      <th>110055</th>\n",
       "      <td>2004</td>\n",
       "      <td>Nissan</td>\n",
       "      <td>Maxima</td>\n",
       "      <td>3.5 SL</td>\n",
       "      <td>Sedan</td>\n",
       "      <td>automatic</td>\n",
       "      <td>1n4ba41e54c831950</td>\n",
       "      <td>va</td>\n",
       "      <td>2.9</td>\n",
       "      <td>124036.0</td>\n",
       "      <td>silver</td>\n",
       "      <td>gray</td>\n",
       "      <td>shirlie slack mitsubishi</td>\n",
       "      <td>2015-02-04</td>\n",
       "    </tr>\n",
       "    <tr>\n",
       "      <th>110056</th>\n",
       "      <td>2013</td>\n",
       "      <td>Nissan</td>\n",
       "      <td>370Z</td>\n",
       "      <td>Base</td>\n",
       "      <td>coupe</td>\n",
       "      <td>manual</td>\n",
       "      <td>jn1az4eh3dm382431</td>\n",
       "      <td>tx</td>\n",
       "      <td>2.2</td>\n",
       "      <td>27169.0</td>\n",
       "      <td>—</td>\n",
       "      <td>black</td>\n",
       "      <td>nissan motor acceptance corporation</td>\n",
       "      <td>2015-06-16</td>\n",
       "    </tr>\n",
       "    <tr>\n",
       "      <th>110057</th>\n",
       "      <td>2012</td>\n",
       "      <td>Chevrolet</td>\n",
       "      <td>Camaro</td>\n",
       "      <td>LS</td>\n",
       "      <td>Coupe</td>\n",
       "      <td>automatic</td>\n",
       "      <td>2g1fa1e32c9193058</td>\n",
       "      <td>pa</td>\n",
       "      <td>3.7</td>\n",
       "      <td>40399.0</td>\n",
       "      <td>blue</td>\n",
       "      <td>black</td>\n",
       "      <td>ingersoll auto of danbury</td>\n",
       "      <td>2015-01-09</td>\n",
       "    </tr>\n",
       "  </tbody>\n",
       "</table>\n",
       "<p>110058 rows × 14 columns</p>\n",
       "</div>"
      ],
      "text/plain": [
       "        year       make         model      trim      body transmission  \\\n",
       "0       2005   Cadillac           CTS      Base     Sedan    automatic   \n",
       "1       2014        GMC  Savana Cargo      2500       Van    automatic   \n",
       "2       2013     Nissan        Murano         S       SUV    automatic   \n",
       "3       2013  Chevrolet        Impala  LS Fleet     Sedan    automatic   \n",
       "4       2013     Nissan         Titan        SV  Crew Cab    automatic   \n",
       "...      ...        ...           ...       ...       ...          ...   \n",
       "110053  2011       Jeep      Wrangler     Sport       SUV    automatic   \n",
       "110054  2014      Lexus        IS 250      Base     sedan    automatic   \n",
       "110055  2004     Nissan        Maxima    3.5 SL     Sedan    automatic   \n",
       "110056  2013     Nissan          370Z      Base     coupe       manual   \n",
       "110057  2012  Chevrolet        Camaro        LS     Coupe    automatic   \n",
       "\n",
       "                      vin state  condition  odometer   color interior  \\\n",
       "0       1g6dp567450124779    ca        2.7  116970.0  silver    black   \n",
       "1       1gtw7fca7e1902207    pa        4.4    6286.0   white     gray   \n",
       "2       jn8az1mw6dw303497    oh        4.6   11831.0    gray    black   \n",
       "3       2g1wf5e34d1160703    fl        2.3   57105.0  silver    black   \n",
       "4       1n6aa0ec3dn301209    tn        2.9   31083.0   black    black   \n",
       "...                   ...   ...        ...       ...     ...      ...   \n",
       "110053  1j4aa2d17bl584330    ca        3.8   66085.0  orange    black   \n",
       "110054  jthbf1d23e5007526    fl        4.8   17588.0    gray    black   \n",
       "110055  1n4ba41e54c831950    va        2.9  124036.0  silver     gray   \n",
       "110056  jn1az4eh3dm382431    tx        2.2   27169.0       —    black   \n",
       "110057  2g1fa1e32c9193058    pa        3.7   40399.0    blue    black   \n",
       "\n",
       "                                                  seller       date  \n",
       "0                                 lexus of stevens creek 2015-01-13  \n",
       "1                                                 u-haul 2015-02-26  \n",
       "2                                     nissan-infiniti lt 2015-02-23  \n",
       "3       onemain rem/auto club of miami inc dba north dad 2015-03-05  \n",
       "4                              nissan north america inc. 2015-06-02  \n",
       "...                                                  ...        ...  \n",
       "110053                                dtg operations inc 2015-01-14  \n",
       "110054                          lexus financial services 2015-06-15  \n",
       "110055                          shirlie slack mitsubishi 2015-02-04  \n",
       "110056               nissan motor acceptance corporation 2015-06-16  \n",
       "110057                         ingersoll auto of danbury 2015-01-09  \n",
       "\n",
       "[110058 rows x 14 columns]"
      ]
     },
     "execution_count": 19,
     "metadata": {},
     "output_type": "execute_result"
    }
   ],
   "source": [
    "transmission(data_test)"
   ]
  },
  {
   "cell_type": "code",
   "execution_count": 20,
   "id": "6ed7e4f7-faf3-4d95-acb2-c7efae83520c",
   "metadata": {
    "tags": []
   },
   "outputs": [
    {
     "data": {
      "text/html": [
       "<div>\n",
       "<style scoped>\n",
       "    .dataframe tbody tr th:only-of-type {\n",
       "        vertical-align: middle;\n",
       "    }\n",
       "\n",
       "    .dataframe tbody tr th {\n",
       "        vertical-align: top;\n",
       "    }\n",
       "\n",
       "    .dataframe thead th {\n",
       "        text-align: right;\n",
       "    }\n",
       "</style>\n",
       "<table border=\"1\" class=\"dataframe\">\n",
       "  <thead>\n",
       "    <tr style=\"text-align: right;\">\n",
       "      <th></th>\n",
       "      <th>year</th>\n",
       "      <th>make</th>\n",
       "      <th>model</th>\n",
       "      <th>trim</th>\n",
       "      <th>body</th>\n",
       "      <th>transmission</th>\n",
       "      <th>vin</th>\n",
       "      <th>state</th>\n",
       "      <th>condition</th>\n",
       "      <th>odometer</th>\n",
       "      <th>color</th>\n",
       "      <th>interior</th>\n",
       "      <th>seller</th>\n",
       "      <th>sellingprice</th>\n",
       "      <th>date</th>\n",
       "    </tr>\n",
       "  </thead>\n",
       "  <tbody>\n",
       "    <tr>\n",
       "      <th>0</th>\n",
       "      <td>2011</td>\n",
       "      <td>Ford</td>\n",
       "      <td>Edge</td>\n",
       "      <td>SEL</td>\n",
       "      <td>suv</td>\n",
       "      <td>automatic</td>\n",
       "      <td>2fmdk3jc4bba41556</td>\n",
       "      <td>md</td>\n",
       "      <td>4.2</td>\n",
       "      <td>111041.0</td>\n",
       "      <td>black</td>\n",
       "      <td>black</td>\n",
       "      <td>santander consumer</td>\n",
       "      <td>12500</td>\n",
       "      <td>2015-06-01</td>\n",
       "    </tr>\n",
       "    <tr>\n",
       "      <th>1</th>\n",
       "      <td>2014</td>\n",
       "      <td>Ford</td>\n",
       "      <td>Fusion</td>\n",
       "      <td>SE</td>\n",
       "      <td>Sedan</td>\n",
       "      <td>automatic</td>\n",
       "      <td>3fa6p0h75er208976</td>\n",
       "      <td>mo</td>\n",
       "      <td>3.5</td>\n",
       "      <td>31034.0</td>\n",
       "      <td>black</td>\n",
       "      <td>black</td>\n",
       "      <td>ars/avis budget group</td>\n",
       "      <td>14500</td>\n",
       "      <td>2015-02-24</td>\n",
       "    </tr>\n",
       "    <tr>\n",
       "      <th>2</th>\n",
       "      <td>2012</td>\n",
       "      <td>Nissan</td>\n",
       "      <td>Sentra</td>\n",
       "      <td>2.0 SL</td>\n",
       "      <td>sedan</td>\n",
       "      <td>automatic</td>\n",
       "      <td>3n1ab6ap4cl698412</td>\n",
       "      <td>nj</td>\n",
       "      <td>2.2</td>\n",
       "      <td>35619.0</td>\n",
       "      <td>black</td>\n",
       "      <td>black</td>\n",
       "      <td>nissan-infiniti lt</td>\n",
       "      <td>9100</td>\n",
       "      <td>2015-06-09</td>\n",
       "    </tr>\n",
       "    <tr>\n",
       "      <th>3</th>\n",
       "      <td>2003</td>\n",
       "      <td>HUMMER</td>\n",
       "      <td>H2</td>\n",
       "      <td>Base</td>\n",
       "      <td>suv</td>\n",
       "      <td>automatic</td>\n",
       "      <td>5grgn23u93h101360</td>\n",
       "      <td>tx</td>\n",
       "      <td>2.8</td>\n",
       "      <td>131301.0</td>\n",
       "      <td>gold</td>\n",
       "      <td>beige</td>\n",
       "      <td>wichita falls ford lin inc</td>\n",
       "      <td>13300</td>\n",
       "      <td>2015-06-16</td>\n",
       "    </tr>\n",
       "    <tr>\n",
       "      <th>4</th>\n",
       "      <td>2007</td>\n",
       "      <td>Ford</td>\n",
       "      <td>Fusion</td>\n",
       "      <td>SEL</td>\n",
       "      <td>Sedan</td>\n",
       "      <td>automatic</td>\n",
       "      <td>3fahp08z17r268380</td>\n",
       "      <td>md</td>\n",
       "      <td>2.0</td>\n",
       "      <td>127709.0</td>\n",
       "      <td>black</td>\n",
       "      <td>black</td>\n",
       "      <td>purple heart</td>\n",
       "      <td>1300</td>\n",
       "      <td>2015-02-02</td>\n",
       "    </tr>\n",
       "    <tr>\n",
       "      <th>...</th>\n",
       "      <td>...</td>\n",
       "      <td>...</td>\n",
       "      <td>...</td>\n",
       "      <td>...</td>\n",
       "      <td>...</td>\n",
       "      <td>...</td>\n",
       "      <td>...</td>\n",
       "      <td>...</td>\n",
       "      <td>...</td>\n",
       "      <td>...</td>\n",
       "      <td>...</td>\n",
       "      <td>...</td>\n",
       "      <td>...</td>\n",
       "      <td>...</td>\n",
       "      <td>...</td>\n",
       "    </tr>\n",
       "    <tr>\n",
       "      <th>440231</th>\n",
       "      <td>2013</td>\n",
       "      <td>Kia</td>\n",
       "      <td>Optima</td>\n",
       "      <td>EX Hybrid</td>\n",
       "      <td>Sedan</td>\n",
       "      <td>automatic</td>\n",
       "      <td>knagm4ad4d5057805</td>\n",
       "      <td>ca</td>\n",
       "      <td>4.5</td>\n",
       "      <td>20434.0</td>\n",
       "      <td>white</td>\n",
       "      <td>beige</td>\n",
       "      <td>kia motors america, inc</td>\n",
       "      <td>16000</td>\n",
       "      <td>2015-01-19</td>\n",
       "    </tr>\n",
       "    <tr>\n",
       "      <th>440232</th>\n",
       "      <td>2014</td>\n",
       "      <td>MINI</td>\n",
       "      <td>Cooper Countryman</td>\n",
       "      <td>S ALL4</td>\n",
       "      <td>Wagon</td>\n",
       "      <td>automatic</td>\n",
       "      <td>wmwzc5c55ewp36517</td>\n",
       "      <td>wi</td>\n",
       "      <td>2.9</td>\n",
       "      <td>14675.0</td>\n",
       "      <td>white</td>\n",
       "      <td>black</td>\n",
       "      <td>bmw mini financial services</td>\n",
       "      <td>24250</td>\n",
       "      <td>2015-02-10</td>\n",
       "    </tr>\n",
       "    <tr>\n",
       "      <th>440233</th>\n",
       "      <td>2008</td>\n",
       "      <td>BMW</td>\n",
       "      <td>6 Series</td>\n",
       "      <td>650i</td>\n",
       "      <td>Coupe</td>\n",
       "      <td>automatic</td>\n",
       "      <td>wbaea53588cv90110</td>\n",
       "      <td>ca</td>\n",
       "      <td>3.7</td>\n",
       "      <td>102552.0</td>\n",
       "      <td>gray</td>\n",
       "      <td>black</td>\n",
       "      <td>studio city auto group</td>\n",
       "      <td>16750</td>\n",
       "      <td>2015-03-02</td>\n",
       "    </tr>\n",
       "    <tr>\n",
       "      <th>440234</th>\n",
       "      <td>2014</td>\n",
       "      <td>Ram</td>\n",
       "      <td>2500</td>\n",
       "      <td>SLT</td>\n",
       "      <td>Crew Cab</td>\n",
       "      <td>automatic</td>\n",
       "      <td>3c6ur5dl2eg243568</td>\n",
       "      <td>tx</td>\n",
       "      <td>3.0</td>\n",
       "      <td>29367.0</td>\n",
       "      <td>white</td>\n",
       "      <td>gray</td>\n",
       "      <td>express car &amp; truck rental</td>\n",
       "      <td>33000</td>\n",
       "      <td>2015-01-13</td>\n",
       "    </tr>\n",
       "    <tr>\n",
       "      <th>440235</th>\n",
       "      <td>2013</td>\n",
       "      <td>Nissan</td>\n",
       "      <td>Rogue</td>\n",
       "      <td>SV</td>\n",
       "      <td>SUV</td>\n",
       "      <td>automatic</td>\n",
       "      <td>jn8as5mt9dw038107</td>\n",
       "      <td>il</td>\n",
       "      <td>3.5</td>\n",
       "      <td>27924.0</td>\n",
       "      <td>silver</td>\n",
       "      <td>gray</td>\n",
       "      <td>ec sales,llc</td>\n",
       "      <td>14500</td>\n",
       "      <td>2015-01-14</td>\n",
       "    </tr>\n",
       "  </tbody>\n",
       "</table>\n",
       "<p>440236 rows × 15 columns</p>\n",
       "</div>"
      ],
      "text/plain": [
       "        year    make              model       trim      body transmission  \\\n",
       "0       2011    Ford               Edge        SEL       suv    automatic   \n",
       "1       2014    Ford             Fusion         SE     Sedan    automatic   \n",
       "2       2012  Nissan             Sentra     2.0 SL     sedan    automatic   \n",
       "3       2003  HUMMER                 H2       Base       suv    automatic   \n",
       "4       2007    Ford             Fusion        SEL     Sedan    automatic   \n",
       "...      ...     ...                ...        ...       ...          ...   \n",
       "440231  2013     Kia             Optima  EX Hybrid     Sedan    automatic   \n",
       "440232  2014    MINI  Cooper Countryman     S ALL4     Wagon    automatic   \n",
       "440233  2008     BMW           6 Series       650i     Coupe    automatic   \n",
       "440234  2014     Ram               2500        SLT  Crew Cab    automatic   \n",
       "440235  2013  Nissan              Rogue         SV       SUV    automatic   \n",
       "\n",
       "                      vin state  condition  odometer   color interior  \\\n",
       "0       2fmdk3jc4bba41556    md        4.2  111041.0   black    black   \n",
       "1       3fa6p0h75er208976    mo        3.5   31034.0   black    black   \n",
       "2       3n1ab6ap4cl698412    nj        2.2   35619.0   black    black   \n",
       "3       5grgn23u93h101360    tx        2.8  131301.0    gold    beige   \n",
       "4       3fahp08z17r268380    md        2.0  127709.0   black    black   \n",
       "...                   ...   ...        ...       ...     ...      ...   \n",
       "440231  knagm4ad4d5057805    ca        4.5   20434.0   white    beige   \n",
       "440232  wmwzc5c55ewp36517    wi        2.9   14675.0   white    black   \n",
       "440233  wbaea53588cv90110    ca        3.7  102552.0    gray    black   \n",
       "440234  3c6ur5dl2eg243568    tx        3.0   29367.0   white     gray   \n",
       "440235  jn8as5mt9dw038107    il        3.5   27924.0  silver     gray   \n",
       "\n",
       "                             seller  sellingprice       date  \n",
       "0                santander consumer         12500 2015-06-01  \n",
       "1             ars/avis budget group         14500 2015-02-24  \n",
       "2                nissan-infiniti lt          9100 2015-06-09  \n",
       "3        wichita falls ford lin inc         13300 2015-06-16  \n",
       "4                      purple heart          1300 2015-02-02  \n",
       "...                             ...           ...        ...  \n",
       "440231      kia motors america, inc         16000 2015-01-19  \n",
       "440232  bmw mini financial services         24250 2015-02-10  \n",
       "440233       studio city auto group         16750 2015-03-02  \n",
       "440234   express car & truck rental         33000 2015-01-13  \n",
       "440235                 ec sales,llc         14500 2015-01-14  \n",
       "\n",
       "[440236 rows x 15 columns]"
      ]
     },
     "execution_count": 20,
     "metadata": {},
     "output_type": "execute_result"
    }
   ],
   "source": [
    "transmission(data_train)"
   ]
  },
  {
   "cell_type": "code",
   "execution_count": 21,
   "id": "3bff2c94-baf0-4312-8407-e7d54d17f4b6",
   "metadata": {
    "tags": []
   },
   "outputs": [
    {
     "name": "stdout",
     "output_type": "stream",
     "text": [
      "1390\n"
     ]
    }
   ],
   "source": [
    "print(round(data_train['transmission'].isna().sum()))"
   ]
  },
  {
   "cell_type": "code",
   "execution_count": 22,
   "id": "210764eb-5c0c-48eb-b331-e3a33a86b3d7",
   "metadata": {
    "tags": []
   },
   "outputs": [],
   "source": [
    "data_train = data_train.dropna(subset=['transmission', 'body', 'condition', 'color', 'model', 'odometer'])"
   ]
  },
  {
   "cell_type": "code",
   "execution_count": 23,
   "id": "0043d6c1-8790-4723-b359-e1143f6d0d0f",
   "metadata": {
    "tags": []
   },
   "outputs": [],
   "source": [
    "size_train_after = data_train.shape[0]\n"
   ]
  },
  {
   "cell_type": "code",
   "execution_count": 24,
   "id": "ffc868ac-a59d-4be6-b4ca-78ebec848ba5",
   "metadata": {
    "tags": []
   },
   "outputs": [],
   "source": [
    "lost_data = size_train_after/size_train *100"
   ]
  },
  {
   "cell_type": "code",
   "execution_count": 25,
   "id": "78770e27-e4ff-4da1-a886-b44d16f2e1f4",
   "metadata": {
    "tags": []
   },
   "outputs": [
    {
     "name": "stdout",
     "output_type": "stream",
     "text": [
      "4.522119953842946\n"
     ]
    }
   ],
   "source": [
    "print(100 - lost_data)"
   ]
  },
  {
   "cell_type": "markdown",
   "id": "facd082a-670e-46c2-af87-4b3d7cbf67bf",
   "metadata": {},
   "source": [
    "При заполнении и удалении пропусков было потеряно 5% данных, значение не велико, если это пагубно скажется на обучении модели, то вернемся к вопросу заполнения пропусков. Использование библиотек, по декодировке Vin пользы не принесло. Работает медленно и не стабильно. Новых библиотек, которые поддерживались бы в актуальном состоянии нет. "
   ]
  },
  {
   "cell_type": "markdown",
   "id": "7ba3ccc4-187c-45d1-a423-4617620283c8",
   "metadata": {
    "tags": []
   },
   "source": [
    "## Изучение данных"
   ]
  },
  {
   "cell_type": "markdown",
   "id": "fd49d46f-fc9d-4bf4-856b-d167ab06baf8",
   "metadata": {},
   "source": [
    "Изучим полученные результаты при помощи Dtale"
   ]
  },
  {
   "cell_type": "code",
   "execution_count": 26,
   "id": "b27677ed-dcfd-4d4c-bf40-6e167a354f90",
   "metadata": {
    "tags": []
   },
   "outputs": [
    {
     "data": {
      "text/html": [
       "\n",
       "        <iframe\n",
       "            width=\"100%\"\n",
       "            height=\"475\"\n",
       "            src=\"http://Leon665:40000/dtale/iframe/1\"\n",
       "            frameborder=\"0\"\n",
       "            allowfullscreen\n",
       "            \n",
       "        ></iframe>\n",
       "        "
      ],
      "text/plain": [
       "<IPython.lib.display.IFrame at 0x22ca7965190>"
      ]
     },
     "metadata": {},
     "output_type": "display_data"
    },
    {
     "data": {
      "text/plain": []
     },
     "execution_count": 26,
     "metadata": {},
     "output_type": "execute_result"
    }
   ],
   "source": [
    "dtale.show(data_train)"
   ]
  },
  {
   "cell_type": "markdown",
   "id": "a5c9d57e-0222-4395-bb92-4a5b6a148c49",
   "metadata": {},
   "source": [
    "В данных имеются аномальные чилосвые значения, изучим их более детальо.  Проверим данные на высокую степень кореляции, поскольку данный фактор негативно сказывается на обучении моделей. Напишем отдельную функцию, которая позволит проверить на мультиколлинеарность наши модели и используем для этого фактор инфляции дисперсии(VIF), посколько данный фактор лучше определит зависимости. Коэффициент VIF определяется границами 5 - 10, если значение находится в данных пределах, значит имеется высокая колеряционная зависимость между данными и следует рассмотреть их удаление."
   ]
  },
  {
   "cell_type": "code",
   "execution_count": 27,
   "id": "074473e5-5ba4-4450-a70f-15356cbdedef",
   "metadata": {
    "tags": []
   },
   "outputs": [],
   "source": [
    "def data_correllation(data):\n",
    "    numeric = list(data.select_dtypes('number').columns)\n",
    "    print(pd.Series(\n",
    "    [variance_inflation_factor(data[numeric].values, i) \n",
    "     for i in range(data[numeric].shape[1])],\n",
    "    index=data[numeric].columns\n",
    "    ))"
   ]
  },
  {
   "cell_type": "code",
   "execution_count": 28,
   "id": "5a99b6cc-f039-4f36-8c0b-044362f1803f",
   "metadata": {
    "tags": []
   },
   "outputs": [
    {
     "name": "stdout",
     "output_type": "stream",
     "text": [
      "year            29.847566\n",
      "condition       22.401945\n",
      "odometer         4.364124\n",
      "sellingprice     5.121004\n",
      "dtype: float64\n"
     ]
    }
   ],
   "source": [
    "data_correllation(data_train)"
   ]
  },
  {
   "cell_type": "markdown",
   "id": "98c54b7a-e6f8-419e-8535-ee268baba092",
   "metadata": {},
   "source": [
    "Мультиколлинеарность присутствует, но в минимальных пределах, совершенно закономерная зависмиость пробега от года, а так же цены от года. Если модель будет вести себя не корректно, вернумся к данному вопросу. "
   ]
  },
  {
   "cell_type": "markdown",
   "id": "4d33c7e5-80e2-4f4c-b821-4e3872b62725",
   "metadata": {},
   "source": [
    "Изучим всплески в цифровых значениях. "
   ]
  },
  {
   "cell_type": "code",
   "execution_count": 29,
   "id": "e49ae17d-ac5c-4b2c-9e8d-4e75b74b4011",
   "metadata": {
    "tags": []
   },
   "outputs": [
    {
     "data": {
      "image/png": "[encoded data removed]",
      "text/plain": [
       "<Figure size 2300x2000 with 6 Axes>"
      ]
     },
     "metadata": {},
     "output_type": "display_data"
    }
   ],
   "source": [
    "data_train.hist(figsize=(23, 20));"
   ]
  },
  {
   "cell_type": "markdown",
   "id": "54f1db81-8960-4ff4-9a8a-359d35d35f89",
   "metadata": {},
   "source": [
    "Изучим числовые данные более детально. "
   ]
  },
  {
   "cell_type": "code",
   "execution_count": 30,
   "id": "e108ec7a-a818-4851-a478-516704e0b8a6",
   "metadata": {
    "tags": []
   },
   "outputs": [],
   "source": [
    "def plot(data): \n",
    "    plt.figure(figsize=(15,8))\n",
    "    sns.set(style='white')\n",
    "    boxplot = sns.boxplot(data=data, palette = \"Set2\", width=0.75, whis=2)\n",
    "    boxplot.axes.set_title(\"всплески\", fontsize=20, color='Green')"
   ]
  },
  {
   "cell_type": "code",
   "execution_count": 31,
   "id": "2cccd7c4-5070-4a23-a4d1-63dc736267f2",
   "metadata": {
    "tags": []
   },
   "outputs": [
    {
     "data": {
      "image/png": "[encoded data removed]",
      "text/plain": [
       "<Figure size 1500x800 with 1 Axes>"
      ]
     },
     "metadata": {},
     "output_type": "display_data"
    }
   ],
   "source": [
    "plot(data_train)"
   ]
  },
  {
   "cell_type": "markdown",
   "id": "a9f17999-0d71-41ac-8e9f-1035989443ad",
   "metadata": {},
   "source": [
    "Кам мы можем заметить в данных присутствуют всплески, а именно в пробеге (тестовая выборка) и в пробеге, в стоимости(обучающая выборка). изучим их более деально. "
   ]
  },
  {
   "cell_type": "code",
   "execution_count": 32,
   "id": "b46337f2-d8ed-449a-9286-a3db0c871542",
   "metadata": {
    "tags": []
   },
   "outputs": [
    {
     "data": {
      "image/png": "[encoded data removed]",
      "text/plain": [
       "<Figure size 640x480 with 1 Axes>"
      ]
     },
     "metadata": {},
     "output_type": "display_data"
    }
   ],
   "source": [
    "data_train.boxplot(column=['odometer']);"
   ]
  },
  {
   "cell_type": "markdown",
   "id": "74f79c2c-0b6b-4267-9208-281b69434212",
   "metadata": {},
   "source": [
    "Выведем общую информацию о данных. "
   ]
  },
  {
   "cell_type": "code",
   "execution_count": 33,
   "id": "bd86937d-dc16-447c-bfcf-d5e0dbb8d8e0",
   "metadata": {
    "tags": []
   },
   "outputs": [
    {
     "data": {
      "text/plain": [
       "count    420328.000000\n",
       "mean      66260.870156\n",
       "std       52235.162609\n",
       "min           1.000000\n",
       "25%       27615.000000\n",
       "50%       49980.000000\n",
       "75%       95931.000000\n",
       "max      999999.000000\n",
       "Name: odometer, dtype: float64"
      ]
     },
     "execution_count": 33,
     "metadata": {},
     "output_type": "execute_result"
    }
   ],
   "source": [
    "data_train['odometer'].describe()"
   ]
  },
  {
   "cell_type": "markdown",
   "id": "94a7a70e-ab35-4fe4-9de1-338fd1988a2d",
   "metadata": {},
   "source": [
    "Мы видим, что в данных есть анамальные значения, такие как 999.999км пробега. Наверное в мире существуют автомобили с данным пробегом, но это редкость. Посмотрим какое количество записей мы имеем в данном диапазаоне."
   ]
  },
  {
   "cell_type": "code",
   "execution_count": 34,
   "id": "24edc5be-6861-48b0-995c-5d562f7e01ec",
   "metadata": {
    "tags": []
   },
   "outputs": [
    {
     "data": {
      "text/plain": [
       "8237"
      ]
     },
     "execution_count": 34,
     "metadata": {},
     "output_type": "execute_result"
    }
   ],
   "source": [
    "data_train.query('odometer >= 200000')['odometer'].count()"
   ]
  },
  {
   "cell_type": "code",
   "execution_count": 35,
   "id": "2be7f4ae-1e91-4e2c-91f9-1cf2e0a7c884",
   "metadata": {
    "tags": []
   },
   "outputs": [
    {
     "data": {
      "text/plain": [
       "915"
      ]
     },
     "execution_count": 35,
     "metadata": {},
     "output_type": "execute_result"
    }
   ],
   "source": [
    "data_train.query('odometer <=1')['odometer'].count()"
   ]
  },
  {
   "cell_type": "code",
   "execution_count": 36,
   "id": "fa162ae3-619d-4e47-8f7c-9254f065bc46",
   "metadata": {
    "tags": []
   },
   "outputs": [],
   "source": [
    "data_train = data_train.query('odometer <= 200000')"
   ]
  },
  {
   "cell_type": "markdown",
   "id": "a84ea41f-157a-41f0-9a9d-53800d3a9734",
   "metadata": {},
   "source": [
    "После изучения данных было принято решение, оставить пробег, который не привышает 200т.км. Проверим, как это повлияет на распределение данных. "
   ]
  },
  {
   "cell_type": "code",
   "execution_count": 37,
   "id": "6c73b820-43da-4702-bb4e-38fdef3d4339",
   "metadata": {
    "tags": []
   },
   "outputs": [
    {
     "data": {
      "text/plain": [
       "count    412093.000000\n",
       "mean      62807.826503\n",
       "std       45575.013653\n",
       "min           1.000000\n",
       "25%       27188.000000\n",
       "50%       48683.000000\n",
       "75%       92751.000000\n",
       "max      200000.000000\n",
       "Name: odometer, dtype: float64"
      ]
     },
     "execution_count": 37,
     "metadata": {},
     "output_type": "execute_result"
    }
   ],
   "source": [
    "data_train['odometer'].describe()"
   ]
  },
  {
   "cell_type": "code",
   "execution_count": 38,
   "id": "db71a3b9-8737-4ebc-8d3e-b648afbfff7d",
   "metadata": {
    "tags": []
   },
   "outputs": [
    {
     "data": {
      "image/png": "[encoded data removed]",
      "text/plain": [
       "<Figure size 640x480 with 1 Axes>"
      ]
     },
     "metadata": {},
     "output_type": "display_data"
    }
   ],
   "source": [
    "data_train.boxplot(column=['odometer']);"
   ]
  },
  {
   "cell_type": "markdown",
   "id": "54bbd7a6-7240-42cf-aaa1-85fa396d7a04",
   "metadata": {},
   "source": [
    "Мы смогли привести данные к нормальному распределению значений, всплесков минимальное количество, данных было удалено не более 2-х процентов. Но это позволит значительно улучшить метрику модели. Посмотрим как изменилось распределение данных в колонке стоимости, после внесенных  нами изменений. "
   ]
  },
  {
   "cell_type": "code",
   "execution_count": 39,
   "id": "f50f6cce-6158-4f06-9037-035e3fa7371d",
   "metadata": {
    "tags": []
   },
   "outputs": [
    {
     "data": {
      "image/png": "[encoded data removed]",
      "text/plain": [
       "<Figure size 640x480 with 1 Axes>"
      ]
     },
     "metadata": {},
     "output_type": "display_data"
    }
   ],
   "source": [
    "data_train.boxplot(column=['sellingprice']);"
   ]
  },
  {
   "cell_type": "code",
   "execution_count": 40,
   "id": "c339fc6e-9cbc-45d9-8488-94c5476e93d8",
   "metadata": {
    "tags": []
   },
   "outputs": [
    {
     "data": {
      "text/plain": [
       "2601"
      ]
     },
     "execution_count": 40,
     "metadata": {},
     "output_type": "execute_result"
    }
   ],
   "source": [
    "data_train.query('sellingprice >= 50000')['sellingprice'].count()"
   ]
  },
  {
   "cell_type": "markdown",
   "id": "4b8affdb-0a13-4238-a92a-e6812e946a70",
   "metadata": {},
   "source": [
    "Мы можем свами увидеть, что анамальных значений не так уж и много, мы можем их удалить, поскольку стрим модель для более широкого применнеия, а дорогие и редкие автомобили, могут негативно сказаться на обучающей моделе. Редкие авто могут стоить дорого, даже если у них очень большой пробег, а так же очень старый год изготовления. А данные фактора корелируют между собой, что может повлесь негативные последствия для обучающей модели. Удалим их. "
   ]
  },
  {
   "cell_type": "code",
   "execution_count": 41,
   "id": "4235e95e-02b4-467c-8762-dcfb91bc9544",
   "metadata": {
    "tags": []
   },
   "outputs": [],
   "source": [
    "data_train = data_train.query('sellingprice <= 50000')"
   ]
  },
  {
   "cell_type": "code",
   "execution_count": 42,
   "id": "f15ed64a-c923-4180-8f0b-64e3dd84001f",
   "metadata": {
    "tags": []
   },
   "outputs": [
    {
     "data": {
      "image/png": "[encoded data removed]",
      "text/plain": [
       "<Figure size 640x480 with 1 Axes>"
      ]
     },
     "metadata": {},
     "output_type": "display_data"
    }
   ],
   "source": [
    "data_train.boxplot(column=['sellingprice']);"
   ]
  },
  {
   "cell_type": "code",
   "execution_count": 43,
   "id": "a51cf5e0-c3d7-455b-86b8-634ea8cf2ee3",
   "metadata": {
    "tags": []
   },
   "outputs": [
    {
     "data": {
      "text/plain": [
       "count    409565.000000\n",
       "mean      13749.479685\n",
       "std        8642.024820\n",
       "min           1.000000\n",
       "25%        7600.000000\n",
       "50%       12500.000000\n",
       "75%       18400.000000\n",
       "max       50000.000000\n",
       "Name: sellingprice, dtype: float64"
      ]
     },
     "execution_count": 43,
     "metadata": {},
     "output_type": "execute_result"
    }
   ],
   "source": [
    "data_train['sellingprice'].describe()"
   ]
  },
  {
   "cell_type": "markdown",
   "id": "4c4a170b-12ec-4d5c-a15a-e54d877bb270",
   "metadata": {},
   "source": [
    "Мы  добились нормального распределения данных, о чем свидетельствует среднее значение и mean, разница у них не большая. Изучим год. "
   ]
  },
  {
   "cell_type": "code",
   "execution_count": 44,
   "id": "141ad1c0-bae1-4eb0-ac95-e941f846e194",
   "metadata": {
    "tags": []
   },
   "outputs": [
    {
     "data": {
      "image/png": "[encoded data removed]",
      "text/plain": [
       "<Figure size 640x480 with 1 Axes>"
      ]
     },
     "metadata": {},
     "output_type": "display_data"
    }
   ],
   "source": [
    "data_train.boxplot(column=['year']);"
   ]
  },
  {
   "cell_type": "code",
   "execution_count": 45,
   "id": "8cf93d5a-24ba-4ef3-8cac-843c79ab1d9f",
   "metadata": {
    "tags": []
   },
   "outputs": [
    {
     "data": {
      "text/plain": [
       "721"
      ]
     },
     "execution_count": 45,
     "metadata": {},
     "output_type": "execute_result"
    }
   ],
   "source": [
    "data_train.query('year <= 1995')['year'].count()"
   ]
  },
  {
   "cell_type": "markdown",
   "id": "f4a1bfa1-0b55-498f-accf-b684f0255b3f",
   "metadata": {},
   "source": [
    "Имеются всплески по годам, оставим только машины с 1995 года. если будут проблемы, то вернемся к данному вопросу. "
   ]
  },
  {
   "cell_type": "code",
   "execution_count": 46,
   "id": "7b345c63-27d2-48f2-8834-f5a5eb32054e",
   "metadata": {
    "tags": []
   },
   "outputs": [],
   "source": [
    "data_train = data_train.query('year >= 1995') "
   ]
  },
  {
   "cell_type": "code",
   "execution_count": 47,
   "id": "546e3cad-2b32-47f2-8224-8f561ed3e86f",
   "metadata": {
    "tags": []
   },
   "outputs": [
    {
     "data": {
      "image/png": "[encoded data removed]",
      "text/plain": [
       "<Figure size 640x480 with 1 Axes>"
      ]
     },
     "metadata": {},
     "output_type": "display_data"
    }
   ],
   "source": [
    "data_train.boxplot(column=['year']);"
   ]
  },
  {
   "cell_type": "markdown",
   "id": "a1ffffcd-4087-40ff-8989-446a26642882",
   "metadata": {},
   "source": [
    "Что бы избежать проблем с тестированием модели, изучим тестовую выборку и приведем ее к аналогичному виду, как и тестовую."
   ]
  },
  {
   "cell_type": "markdown",
   "id": "aa5d6436-0701-4307-84a3-5a1e7d458886",
   "metadata": {},
   "source": [
    "Проверим всплески в тестовой выборке. "
   ]
  },
  {
   "cell_type": "markdown",
   "id": "54661504-7864-4dd9-9763-dfb5978ce60c",
   "metadata": {},
   "source": [
    "Мы привели обе выборки, к одинаковым числовым значениям, это позволит нам избежать проблем при обучении модели. Теперь борьба с неявными дубликатами. "
   ]
  },
  {
   "cell_type": "markdown",
   "id": "63753d3a-8e04-4753-815b-e34541934a35",
   "metadata": {},
   "source": [
    "Напишем функцию, которая приведет все названия к одному виде, а именно удалит пробелы и приведет все к одному регистру. "
   ]
  },
  {
   "cell_type": "code",
   "execution_count": 48,
   "id": "87bb2b55-def1-43e4-8d1e-6966d43e613f",
   "metadata": {
    "tags": []
   },
   "outputs": [],
   "source": [
    "def duplicat(data, spis):\n",
    "    for i in spis:\n",
    "        data[i] = data[i].str.lower()\n",
    "        data[i] = data[i].str.replace('  ', ' ')\n",
    "        data[i] = data[i].str.strip()"
   ]
  },
  {
   "cell_type": "code",
   "execution_count": 49,
   "id": "c97342ed-5497-4820-bc83-51fb0d15b07c",
   "metadata": {
    "tags": []
   },
   "outputs": [],
   "source": [
    "duplicat(data_train, text_list)"
   ]
  },
  {
   "cell_type": "code",
   "execution_count": 50,
   "id": "bca64879-29a2-4d64-9031-1612ba18b507",
   "metadata": {
    "tags": []
   },
   "outputs": [
    {
     "data": {
      "text/html": [
       "<div>\n",
       "<style scoped>\n",
       "    .dataframe tbody tr th:only-of-type {\n",
       "        vertical-align: middle;\n",
       "    }\n",
       "\n",
       "    .dataframe tbody tr th {\n",
       "        vertical-align: top;\n",
       "    }\n",
       "\n",
       "    .dataframe thead th {\n",
       "        text-align: right;\n",
       "    }\n",
       "</style>\n",
       "<table border=\"1\" class=\"dataframe\">\n",
       "  <thead>\n",
       "    <tr style=\"text-align: right;\">\n",
       "      <th></th>\n",
       "      <th>year</th>\n",
       "      <th>make</th>\n",
       "      <th>model</th>\n",
       "      <th>trim</th>\n",
       "      <th>body</th>\n",
       "      <th>transmission</th>\n",
       "      <th>vin</th>\n",
       "      <th>state</th>\n",
       "      <th>condition</th>\n",
       "      <th>odometer</th>\n",
       "      <th>color</th>\n",
       "      <th>interior</th>\n",
       "      <th>seller</th>\n",
       "      <th>sellingprice</th>\n",
       "      <th>date</th>\n",
       "    </tr>\n",
       "  </thead>\n",
       "  <tbody>\n",
       "    <tr>\n",
       "      <th>0</th>\n",
       "      <td>2011</td>\n",
       "      <td>ford</td>\n",
       "      <td>edge</td>\n",
       "      <td>sel</td>\n",
       "      <td>suv</td>\n",
       "      <td>automatic</td>\n",
       "      <td>2fmdk3jc4bba41556</td>\n",
       "      <td>md</td>\n",
       "      <td>4.2</td>\n",
       "      <td>111041.0</td>\n",
       "      <td>black</td>\n",
       "      <td>black</td>\n",
       "      <td>santander consumer</td>\n",
       "      <td>12500</td>\n",
       "      <td>2015-06-01</td>\n",
       "    </tr>\n",
       "    <tr>\n",
       "      <th>1</th>\n",
       "      <td>2014</td>\n",
       "      <td>ford</td>\n",
       "      <td>fusion</td>\n",
       "      <td>se</td>\n",
       "      <td>sedan</td>\n",
       "      <td>automatic</td>\n",
       "      <td>3fa6p0h75er208976</td>\n",
       "      <td>mo</td>\n",
       "      <td>3.5</td>\n",
       "      <td>31034.0</td>\n",
       "      <td>black</td>\n",
       "      <td>black</td>\n",
       "      <td>ars/avis budget group</td>\n",
       "      <td>14500</td>\n",
       "      <td>2015-02-24</td>\n",
       "    </tr>\n",
       "    <tr>\n",
       "      <th>2</th>\n",
       "      <td>2012</td>\n",
       "      <td>nissan</td>\n",
       "      <td>sentra</td>\n",
       "      <td>2.0 sl</td>\n",
       "      <td>sedan</td>\n",
       "      <td>automatic</td>\n",
       "      <td>3n1ab6ap4cl698412</td>\n",
       "      <td>nj</td>\n",
       "      <td>2.2</td>\n",
       "      <td>35619.0</td>\n",
       "      <td>black</td>\n",
       "      <td>black</td>\n",
       "      <td>nissan-infiniti lt</td>\n",
       "      <td>9100</td>\n",
       "      <td>2015-06-09</td>\n",
       "    </tr>\n",
       "    <tr>\n",
       "      <th>3</th>\n",
       "      <td>2003</td>\n",
       "      <td>hummer</td>\n",
       "      <td>h2</td>\n",
       "      <td>base</td>\n",
       "      <td>suv</td>\n",
       "      <td>automatic</td>\n",
       "      <td>5grgn23u93h101360</td>\n",
       "      <td>tx</td>\n",
       "      <td>2.8</td>\n",
       "      <td>131301.0</td>\n",
       "      <td>gold</td>\n",
       "      <td>beige</td>\n",
       "      <td>wichita falls ford lin inc</td>\n",
       "      <td>13300</td>\n",
       "      <td>2015-06-16</td>\n",
       "    </tr>\n",
       "    <tr>\n",
       "      <th>4</th>\n",
       "      <td>2007</td>\n",
       "      <td>ford</td>\n",
       "      <td>fusion</td>\n",
       "      <td>sel</td>\n",
       "      <td>sedan</td>\n",
       "      <td>automatic</td>\n",
       "      <td>3fahp08z17r268380</td>\n",
       "      <td>md</td>\n",
       "      <td>2.0</td>\n",
       "      <td>127709.0</td>\n",
       "      <td>black</td>\n",
       "      <td>black</td>\n",
       "      <td>purple heart</td>\n",
       "      <td>1300</td>\n",
       "      <td>2015-02-02</td>\n",
       "    </tr>\n",
       "    <tr>\n",
       "      <th>5</th>\n",
       "      <td>2013</td>\n",
       "      <td>lincoln</td>\n",
       "      <td>mkz</td>\n",
       "      <td>base</td>\n",
       "      <td>sedan</td>\n",
       "      <td>automatic</td>\n",
       "      <td>3ln6l2j91dr817800</td>\n",
       "      <td>mi</td>\n",
       "      <td>2.5</td>\n",
       "      <td>14894.0</td>\n",
       "      <td>black</td>\n",
       "      <td>black</td>\n",
       "      <td>ford motor credit company,llc</td>\n",
       "      <td>22600</td>\n",
       "      <td>2015-05-20</td>\n",
       "    </tr>\n",
       "    <tr>\n",
       "      <th>7</th>\n",
       "      <td>2013</td>\n",
       "      <td>ford</td>\n",
       "      <td>escape</td>\n",
       "      <td>se</td>\n",
       "      <td>suv</td>\n",
       "      <td>automatic</td>\n",
       "      <td>1fmcu0gx3duc59421</td>\n",
       "      <td>fl</td>\n",
       "      <td>4.8</td>\n",
       "      <td>26273.0</td>\n",
       "      <td>blue</td>\n",
       "      <td>gray</td>\n",
       "      <td>fields bmw</td>\n",
       "      <td>15200</td>\n",
       "      <td>2015-02-02</td>\n",
       "    </tr>\n",
       "    <tr>\n",
       "      <th>8</th>\n",
       "      <td>2000</td>\n",
       "      <td>hyundai</td>\n",
       "      <td>elantra</td>\n",
       "      <td>gls</td>\n",
       "      <td>sedan</td>\n",
       "      <td>automatic</td>\n",
       "      <td>kmhjf35f2yu955691</td>\n",
       "      <td>oh</td>\n",
       "      <td>1.9</td>\n",
       "      <td>182624.0</td>\n",
       "      <td>black</td>\n",
       "      <td>tan</td>\n",
       "      <td>dt inventory</td>\n",
       "      <td>700</td>\n",
       "      <td>2015-01-21</td>\n",
       "    </tr>\n",
       "    <tr>\n",
       "      <th>9</th>\n",
       "      <td>2005</td>\n",
       "      <td>ford</td>\n",
       "      <td>freestyle</td>\n",
       "      <td>limited</td>\n",
       "      <td>wagon</td>\n",
       "      <td>automatic</td>\n",
       "      <td>1fmdk06135ga45438</td>\n",
       "      <td>oh</td>\n",
       "      <td>1.0</td>\n",
       "      <td>149364.0</td>\n",
       "      <td>black</td>\n",
       "      <td>tan</td>\n",
       "      <td>wells fargo dealer services</td>\n",
       "      <td>325</td>\n",
       "      <td>2015-06-15</td>\n",
       "    </tr>\n",
       "    <tr>\n",
       "      <th>11</th>\n",
       "      <td>2011</td>\n",
       "      <td>buick</td>\n",
       "      <td>lucerne</td>\n",
       "      <td>cxl</td>\n",
       "      <td>sedan</td>\n",
       "      <td>automatic</td>\n",
       "      <td>1g4hc5em5bu146484</td>\n",
       "      <td>mo</td>\n",
       "      <td>4.8</td>\n",
       "      <td>74760.0</td>\n",
       "      <td>white</td>\n",
       "      <td>tan</td>\n",
       "      <td>santander consumer</td>\n",
       "      <td>12400</td>\n",
       "      <td>2015-01-20</td>\n",
       "    </tr>\n",
       "  </tbody>\n",
       "</table>\n",
       "</div>"
      ],
      "text/plain": [
       "    year     make      model     trim   body transmission                vin  \\\n",
       "0   2011     ford       edge      sel    suv    automatic  2fmdk3jc4bba41556   \n",
       "1   2014     ford     fusion       se  sedan    automatic  3fa6p0h75er208976   \n",
       "2   2012   nissan     sentra   2.0 sl  sedan    automatic  3n1ab6ap4cl698412   \n",
       "3   2003   hummer         h2     base    suv    automatic  5grgn23u93h101360   \n",
       "4   2007     ford     fusion      sel  sedan    automatic  3fahp08z17r268380   \n",
       "5   2013  lincoln        mkz     base  sedan    automatic  3ln6l2j91dr817800   \n",
       "7   2013     ford     escape       se    suv    automatic  1fmcu0gx3duc59421   \n",
       "8   2000  hyundai    elantra      gls  sedan    automatic  kmhjf35f2yu955691   \n",
       "9   2005     ford  freestyle  limited  wagon    automatic  1fmdk06135ga45438   \n",
       "11  2011    buick    lucerne      cxl  sedan    automatic  1g4hc5em5bu146484   \n",
       "\n",
       "   state  condition  odometer  color interior                         seller  \\\n",
       "0     md        4.2  111041.0  black    black             santander consumer   \n",
       "1     mo        3.5   31034.0  black    black          ars/avis budget group   \n",
       "2     nj        2.2   35619.0  black    black             nissan-infiniti lt   \n",
       "3     tx        2.8  131301.0   gold    beige     wichita falls ford lin inc   \n",
       "4     md        2.0  127709.0  black    black                   purple heart   \n",
       "5     mi        2.5   14894.0  black    black  ford motor credit company,llc   \n",
       "7     fl        4.8   26273.0   blue     gray                     fields bmw   \n",
       "8     oh        1.9  182624.0  black      tan                   dt inventory   \n",
       "9     oh        1.0  149364.0  black      tan    wells fargo dealer services   \n",
       "11    mo        4.8   74760.0  white      tan             santander consumer   \n",
       "\n",
       "    sellingprice       date  \n",
       "0          12500 2015-06-01  \n",
       "1          14500 2015-02-24  \n",
       "2           9100 2015-06-09  \n",
       "3          13300 2015-06-16  \n",
       "4           1300 2015-02-02  \n",
       "5          22600 2015-05-20  \n",
       "7          15200 2015-02-02  \n",
       "8            700 2015-01-21  \n",
       "9            325 2015-06-15  \n",
       "11         12400 2015-01-20  "
      ]
     },
     "metadata": {},
     "output_type": "display_data"
    }
   ],
   "source": [
    "display(data_train.head(10))"
   ]
  },
  {
   "cell_type": "code",
   "execution_count": 51,
   "id": "9b5569f3-3d75-4b5a-b3d2-621ac897ae7c",
   "metadata": {
    "tags": []
   },
   "outputs": [],
   "source": [
    "duplicat(data_test, text_list)"
   ]
  },
  {
   "cell_type": "code",
   "execution_count": 52,
   "id": "fe231620-bc9f-493f-89b6-060d540488f5",
   "metadata": {
    "tags": []
   },
   "outputs": [
    {
     "data": {
      "text/html": [
       "<div>\n",
       "<style scoped>\n",
       "    .dataframe tbody tr th:only-of-type {\n",
       "        vertical-align: middle;\n",
       "    }\n",
       "\n",
       "    .dataframe tbody tr th {\n",
       "        vertical-align: top;\n",
       "    }\n",
       "\n",
       "    .dataframe thead th {\n",
       "        text-align: right;\n",
       "    }\n",
       "</style>\n",
       "<table border=\"1\" class=\"dataframe\">\n",
       "  <thead>\n",
       "    <tr style=\"text-align: right;\">\n",
       "      <th></th>\n",
       "      <th>year</th>\n",
       "      <th>make</th>\n",
       "      <th>model</th>\n",
       "      <th>trim</th>\n",
       "      <th>body</th>\n",
       "      <th>transmission</th>\n",
       "      <th>vin</th>\n",
       "      <th>state</th>\n",
       "      <th>condition</th>\n",
       "      <th>odometer</th>\n",
       "      <th>color</th>\n",
       "      <th>interior</th>\n",
       "      <th>seller</th>\n",
       "      <th>date</th>\n",
       "    </tr>\n",
       "  </thead>\n",
       "  <tbody>\n",
       "    <tr>\n",
       "      <th>0</th>\n",
       "      <td>2005</td>\n",
       "      <td>cadillac</td>\n",
       "      <td>cts</td>\n",
       "      <td>base</td>\n",
       "      <td>sedan</td>\n",
       "      <td>automatic</td>\n",
       "      <td>1g6dp567450124779</td>\n",
       "      <td>ca</td>\n",
       "      <td>2.7</td>\n",
       "      <td>116970.0</td>\n",
       "      <td>silver</td>\n",
       "      <td>black</td>\n",
       "      <td>lexus of stevens creek</td>\n",
       "      <td>2015-01-13</td>\n",
       "    </tr>\n",
       "    <tr>\n",
       "      <th>1</th>\n",
       "      <td>2014</td>\n",
       "      <td>gmc</td>\n",
       "      <td>savana cargo</td>\n",
       "      <td>2500</td>\n",
       "      <td>van</td>\n",
       "      <td>automatic</td>\n",
       "      <td>1gtw7fca7e1902207</td>\n",
       "      <td>pa</td>\n",
       "      <td>4.4</td>\n",
       "      <td>6286.0</td>\n",
       "      <td>white</td>\n",
       "      <td>gray</td>\n",
       "      <td>u-haul</td>\n",
       "      <td>2015-02-26</td>\n",
       "    </tr>\n",
       "    <tr>\n",
       "      <th>2</th>\n",
       "      <td>2013</td>\n",
       "      <td>nissan</td>\n",
       "      <td>murano</td>\n",
       "      <td>s</td>\n",
       "      <td>suv</td>\n",
       "      <td>automatic</td>\n",
       "      <td>jn8az1mw6dw303497</td>\n",
       "      <td>oh</td>\n",
       "      <td>4.6</td>\n",
       "      <td>11831.0</td>\n",
       "      <td>gray</td>\n",
       "      <td>black</td>\n",
       "      <td>nissan-infiniti lt</td>\n",
       "      <td>2015-02-23</td>\n",
       "    </tr>\n",
       "    <tr>\n",
       "      <th>3</th>\n",
       "      <td>2013</td>\n",
       "      <td>chevrolet</td>\n",
       "      <td>impala</td>\n",
       "      <td>ls fleet</td>\n",
       "      <td>sedan</td>\n",
       "      <td>automatic</td>\n",
       "      <td>2g1wf5e34d1160703</td>\n",
       "      <td>fl</td>\n",
       "      <td>2.3</td>\n",
       "      <td>57105.0</td>\n",
       "      <td>silver</td>\n",
       "      <td>black</td>\n",
       "      <td>onemain rem/auto club of miami inc dba north dad</td>\n",
       "      <td>2015-03-05</td>\n",
       "    </tr>\n",
       "    <tr>\n",
       "      <th>4</th>\n",
       "      <td>2013</td>\n",
       "      <td>nissan</td>\n",
       "      <td>titan</td>\n",
       "      <td>sv</td>\n",
       "      <td>crew cab</td>\n",
       "      <td>automatic</td>\n",
       "      <td>1n6aa0ec3dn301209</td>\n",
       "      <td>tn</td>\n",
       "      <td>2.9</td>\n",
       "      <td>31083.0</td>\n",
       "      <td>black</td>\n",
       "      <td>black</td>\n",
       "      <td>nissan north america inc.</td>\n",
       "      <td>2015-06-02</td>\n",
       "    </tr>\n",
       "    <tr>\n",
       "      <th>5</th>\n",
       "      <td>2003</td>\n",
       "      <td>volkswagen</td>\n",
       "      <td>passat</td>\n",
       "      <td>gls 1.8t</td>\n",
       "      <td>wagon</td>\n",
       "      <td>automatic</td>\n",
       "      <td>wvwvd63b93e175638</td>\n",
       "      <td>nc</td>\n",
       "      <td>2.4</td>\n",
       "      <td>104155.0</td>\n",
       "      <td>silver</td>\n",
       "      <td>black</td>\n",
       "      <td>fred anderson nissan of fayetteville</td>\n",
       "      <td>2015-06-08</td>\n",
       "    </tr>\n",
       "    <tr>\n",
       "      <th>6</th>\n",
       "      <td>2013</td>\n",
       "      <td>hyundai</td>\n",
       "      <td>sonata</td>\n",
       "      <td>gls</td>\n",
       "      <td>sedan</td>\n",
       "      <td>automatic</td>\n",
       "      <td>5npeb4ac4dh809686</td>\n",
       "      <td>il</td>\n",
       "      <td>3.7</td>\n",
       "      <td>30669.0</td>\n",
       "      <td>silver</td>\n",
       "      <td>gray</td>\n",
       "      <td>merchants leasing</td>\n",
       "      <td>2015-03-02</td>\n",
       "    </tr>\n",
       "    <tr>\n",
       "      <th>7</th>\n",
       "      <td>2013</td>\n",
       "      <td>ford</td>\n",
       "      <td>explorer</td>\n",
       "      <td>base</td>\n",
       "      <td>suv</td>\n",
       "      <td>automatic</td>\n",
       "      <td>1fm5k7b97dgb16454</td>\n",
       "      <td>nc</td>\n",
       "      <td>3.2</td>\n",
       "      <td>87862.0</td>\n",
       "      <td>black</td>\n",
       "      <td>gray</td>\n",
       "      <td>ge fleet services for itself/servicer</td>\n",
       "      <td>2015-02-09</td>\n",
       "    </tr>\n",
       "    <tr>\n",
       "      <th>8</th>\n",
       "      <td>2011</td>\n",
       "      <td>infiniti</td>\n",
       "      <td>g sedan</td>\n",
       "      <td>g37x</td>\n",
       "      <td>g sedan</td>\n",
       "      <td>automatic</td>\n",
       "      <td>jn1cv6ar5bm411441</td>\n",
       "      <td>tn</td>\n",
       "      <td>3.5</td>\n",
       "      <td>47028.0</td>\n",
       "      <td>black</td>\n",
       "      <td>beige</td>\n",
       "      <td>nissan infiniti lt</td>\n",
       "      <td>2015-02-03</td>\n",
       "    </tr>\n",
       "    <tr>\n",
       "      <th>9</th>\n",
       "      <td>2007</td>\n",
       "      <td>chevrolet</td>\n",
       "      <td>suburban</td>\n",
       "      <td>1500 ls</td>\n",
       "      <td>suv</td>\n",
       "      <td>automatic</td>\n",
       "      <td>3gnfc16j77g158033</td>\n",
       "      <td>ga</td>\n",
       "      <td>3.4</td>\n",
       "      <td>191211.0</td>\n",
       "      <td>black</td>\n",
       "      <td>tan</td>\n",
       "      <td>riverside chevrolet inc</td>\n",
       "      <td>2015-02-09</td>\n",
       "    </tr>\n",
       "  </tbody>\n",
       "</table>\n",
       "</div>"
      ],
      "text/plain": [
       "   year        make         model      trim      body transmission  \\\n",
       "0  2005    cadillac           cts      base     sedan    automatic   \n",
       "1  2014         gmc  savana cargo      2500       van    automatic   \n",
       "2  2013      nissan        murano         s       suv    automatic   \n",
       "3  2013   chevrolet        impala  ls fleet     sedan    automatic   \n",
       "4  2013      nissan         titan        sv  crew cab    automatic   \n",
       "5  2003  volkswagen        passat  gls 1.8t     wagon    automatic   \n",
       "6  2013     hyundai        sonata       gls     sedan    automatic   \n",
       "7  2013        ford      explorer      base       suv    automatic   \n",
       "8  2011    infiniti       g sedan      g37x   g sedan    automatic   \n",
       "9  2007   chevrolet      suburban   1500 ls       suv    automatic   \n",
       "\n",
       "                 vin state  condition  odometer   color interior  \\\n",
       "0  1g6dp567450124779    ca        2.7  116970.0  silver    black   \n",
       "1  1gtw7fca7e1902207    pa        4.4    6286.0   white     gray   \n",
       "2  jn8az1mw6dw303497    oh        4.6   11831.0    gray    black   \n",
       "3  2g1wf5e34d1160703    fl        2.3   57105.0  silver    black   \n",
       "4  1n6aa0ec3dn301209    tn        2.9   31083.0   black    black   \n",
       "5  wvwvd63b93e175638    nc        2.4  104155.0  silver    black   \n",
       "6  5npeb4ac4dh809686    il        3.7   30669.0  silver     gray   \n",
       "7  1fm5k7b97dgb16454    nc        3.2   87862.0   black     gray   \n",
       "8  jn1cv6ar5bm411441    tn        3.5   47028.0   black    beige   \n",
       "9  3gnfc16j77g158033    ga        3.4  191211.0   black      tan   \n",
       "\n",
       "                                             seller       date  \n",
       "0                            lexus of stevens creek 2015-01-13  \n",
       "1                                            u-haul 2015-02-26  \n",
       "2                                nissan-infiniti lt 2015-02-23  \n",
       "3  onemain rem/auto club of miami inc dba north dad 2015-03-05  \n",
       "4                         nissan north america inc. 2015-06-02  \n",
       "5              fred anderson nissan of fayetteville 2015-06-08  \n",
       "6                                 merchants leasing 2015-03-02  \n",
       "7             ge fleet services for itself/servicer 2015-02-09  \n",
       "8                                nissan infiniti lt 2015-02-03  \n",
       "9                           riverside chevrolet inc 2015-02-09  "
      ]
     },
     "metadata": {},
     "output_type": "display_data"
    }
   ],
   "source": [
    "display(data_test.head(10))"
   ]
  },
  {
   "cell_type": "markdown",
   "id": "04a283f1-53f3-4c8b-be3f-4710868395a2",
   "metadata": {},
   "source": [
    "На данном этапе, данные подготовлены к дальнейшей работе с ними. Все тектовые значения приведены к одному регистру, удалены лишние пробелы, была попытка применить алгоритм Левинштайна, но это занимает очень много времени, принято решение работать без него, если будет время к данному вопросу мы еще вернемся. "
   ]
  },
  {
   "cell_type": "markdown",
   "id": "6d2ba0f2-c5c5-4afd-ba76-5cfca048a8c2",
   "metadata": {},
   "source": [
    "Предобработка данных завершена, у нас все данные имеют хорощую распределенность, все текстовые данные приведены к одному регистру. Теперь нужно избавиться от неинформативных данных, таких как VIN и  возможно от данных, кто именно продал машину, если бы мы опирались в моделе на ригионы где машины была продана, данная информация играла бы важнуюю роль, но мы судим о машине исхожя только из ее данных - комплектация и тд.. За регион продажи будут отвечать данные с информацие о штате. "
   ]
  },
  {
   "cell_type": "code",
   "execution_count": 53,
   "id": "65706339-ec23-4745-9207-d50c4f719095",
   "metadata": {
    "tags": []
   },
   "outputs": [],
   "source": [
    "data_save = data_test.copy()"
   ]
  },
  {
   "cell_type": "code",
   "execution_count": 54,
   "id": "ad753aea-a384-43ae-9d5c-c84d2314ccfe",
   "metadata": {},
   "outputs": [],
   "source": [
    "def dell_vin_seller(data):\n",
    "    data = data.drop(columns=['vin', 'seller'], axis=1, inplace=True)"
   ]
  },
  {
   "cell_type": "code",
   "execution_count": 55,
   "id": "5b53efd7-396c-474f-8495-1274f686c0f5",
   "metadata": {},
   "outputs": [],
   "source": [
    "dell_vin_seller(data_train)"
   ]
  },
  {
   "cell_type": "markdown",
   "id": "3f067296-aff9-40a7-af63-ad781b93a80c",
   "metadata": {},
   "source": [
    "Ддобавим колонку возраста авто. Эти данные мы сможем получить округлив до года дату продажи и вычесть из него дату изготовления. "
   ]
  },
  {
   "cell_type": "code",
   "execution_count": 56,
   "id": "12acc540-f6eb-4350-b010-08b29a9da1d8",
   "metadata": {},
   "outputs": [],
   "source": [
    "def age_auto(data):\n",
    "    data['age'] = data['date'].dt.year - data['year']\n",
    "    data['age'] = data['age'].astype(\"int16\")"
   ]
  },
  {
   "cell_type": "code",
   "execution_count": 57,
   "id": "61241744-154d-4c2a-a022-7488e25206ba",
   "metadata": {
    "tags": []
   },
   "outputs": [
    {
     "data": {
      "text/html": [
       "<div>\n",
       "<style scoped>\n",
       "    .dataframe tbody tr th:only-of-type {\n",
       "        vertical-align: middle;\n",
       "    }\n",
       "\n",
       "    .dataframe tbody tr th {\n",
       "        vertical-align: top;\n",
       "    }\n",
       "\n",
       "    .dataframe thead th {\n",
       "        text-align: right;\n",
       "    }\n",
       "</style>\n",
       "<table border=\"1\" class=\"dataframe\">\n",
       "  <thead>\n",
       "    <tr style=\"text-align: right;\">\n",
       "      <th></th>\n",
       "      <th>year</th>\n",
       "      <th>make</th>\n",
       "      <th>model</th>\n",
       "      <th>trim</th>\n",
       "      <th>body</th>\n",
       "      <th>transmission</th>\n",
       "      <th>state</th>\n",
       "      <th>condition</th>\n",
       "      <th>odometer</th>\n",
       "      <th>color</th>\n",
       "      <th>interior</th>\n",
       "      <th>sellingprice</th>\n",
       "      <th>date</th>\n",
       "    </tr>\n",
       "  </thead>\n",
       "  <tbody>\n",
       "    <tr>\n",
       "      <th>0</th>\n",
       "      <td>2011</td>\n",
       "      <td>ford</td>\n",
       "      <td>edge</td>\n",
       "      <td>sel</td>\n",
       "      <td>suv</td>\n",
       "      <td>automatic</td>\n",
       "      <td>md</td>\n",
       "      <td>4.2</td>\n",
       "      <td>111041.0</td>\n",
       "      <td>black</td>\n",
       "      <td>black</td>\n",
       "      <td>12500</td>\n",
       "      <td>2015-06-01</td>\n",
       "    </tr>\n",
       "    <tr>\n",
       "      <th>1</th>\n",
       "      <td>2014</td>\n",
       "      <td>ford</td>\n",
       "      <td>fusion</td>\n",
       "      <td>se</td>\n",
       "      <td>sedan</td>\n",
       "      <td>automatic</td>\n",
       "      <td>mo</td>\n",
       "      <td>3.5</td>\n",
       "      <td>31034.0</td>\n",
       "      <td>black</td>\n",
       "      <td>black</td>\n",
       "      <td>14500</td>\n",
       "      <td>2015-02-24</td>\n",
       "    </tr>\n",
       "    <tr>\n",
       "      <th>2</th>\n",
       "      <td>2012</td>\n",
       "      <td>nissan</td>\n",
       "      <td>sentra</td>\n",
       "      <td>2.0 sl</td>\n",
       "      <td>sedan</td>\n",
       "      <td>automatic</td>\n",
       "      <td>nj</td>\n",
       "      <td>2.2</td>\n",
       "      <td>35619.0</td>\n",
       "      <td>black</td>\n",
       "      <td>black</td>\n",
       "      <td>9100</td>\n",
       "      <td>2015-06-09</td>\n",
       "    </tr>\n",
       "    <tr>\n",
       "      <th>3</th>\n",
       "      <td>2003</td>\n",
       "      <td>hummer</td>\n",
       "      <td>h2</td>\n",
       "      <td>base</td>\n",
       "      <td>suv</td>\n",
       "      <td>automatic</td>\n",
       "      <td>tx</td>\n",
       "      <td>2.8</td>\n",
       "      <td>131301.0</td>\n",
       "      <td>gold</td>\n",
       "      <td>beige</td>\n",
       "      <td>13300</td>\n",
       "      <td>2015-06-16</td>\n",
       "    </tr>\n",
       "    <tr>\n",
       "      <th>4</th>\n",
       "      <td>2007</td>\n",
       "      <td>ford</td>\n",
       "      <td>fusion</td>\n",
       "      <td>sel</td>\n",
       "      <td>sedan</td>\n",
       "      <td>automatic</td>\n",
       "      <td>md</td>\n",
       "      <td>2.0</td>\n",
       "      <td>127709.0</td>\n",
       "      <td>black</td>\n",
       "      <td>black</td>\n",
       "      <td>1300</td>\n",
       "      <td>2015-02-02</td>\n",
       "    </tr>\n",
       "  </tbody>\n",
       "</table>\n",
       "</div>"
      ],
      "text/plain": [
       "   year    make   model    trim   body transmission state  condition  \\\n",
       "0  2011    ford    edge     sel    suv    automatic    md        4.2   \n",
       "1  2014    ford  fusion      se  sedan    automatic    mo        3.5   \n",
       "2  2012  nissan  sentra  2.0 sl  sedan    automatic    nj        2.2   \n",
       "3  2003  hummer      h2    base    suv    automatic    tx        2.8   \n",
       "4  2007    ford  fusion     sel  sedan    automatic    md        2.0   \n",
       "\n",
       "   odometer  color interior  sellingprice       date  \n",
       "0  111041.0  black    black         12500 2015-06-01  \n",
       "1   31034.0  black    black         14500 2015-02-24  \n",
       "2   35619.0  black    black          9100 2015-06-09  \n",
       "3  131301.0   gold    beige         13300 2015-06-16  \n",
       "4  127709.0  black    black          1300 2015-02-02  "
      ]
     },
     "execution_count": 57,
     "metadata": {},
     "output_type": "execute_result"
    }
   ],
   "source": [
    "data_train.head()"
   ]
  },
  {
   "cell_type": "code",
   "execution_count": 58,
   "id": "a8fda388-4d48-4515-bea2-3494511b1e7f",
   "metadata": {},
   "outputs": [],
   "source": [
    "age_auto(data_train)"
   ]
  },
  {
   "cell_type": "code",
   "execution_count": 59,
   "id": "a5f68ae3-0632-439d-9481-1fae698db1bd",
   "metadata": {
    "tags": []
   },
   "outputs": [],
   "source": [
    "age_auto(data_test)"
   ]
  },
  {
   "cell_type": "markdown",
   "id": "c2428371-43e5-4276-b179-f8556c9ba7b8",
   "metadata": {},
   "source": [
    "После добавления колонки с возратсом  удалим колонку с датой продажи, для нас она более не информативна, поскольку не несет никакой полезной информации именно о машине."
   ]
  },
  {
   "cell_type": "code",
   "execution_count": 60,
   "id": "a319a61c-bc34-4e34-949f-9a016e551488",
   "metadata": {
    "tags": []
   },
   "outputs": [],
   "source": [
    "data_test = data_test.drop(columns=['date'], axis=1)\n",
    "data_train = data_train.drop(columns=['date'], axis=1)"
   ]
  },
  {
   "cell_type": "code",
   "execution_count": 61,
   "id": "e16b0860-d32d-4282-8cce-60231acc67ad",
   "metadata": {},
   "outputs": [
    {
     "data": {
      "text/html": [
       "<div>\n",
       "<style scoped>\n",
       "    .dataframe tbody tr th:only-of-type {\n",
       "        vertical-align: middle;\n",
       "    }\n",
       "\n",
       "    .dataframe tbody tr th {\n",
       "        vertical-align: top;\n",
       "    }\n",
       "\n",
       "    .dataframe thead th {\n",
       "        text-align: right;\n",
       "    }\n",
       "</style>\n",
       "<table border=\"1\" class=\"dataframe\">\n",
       "  <thead>\n",
       "    <tr style=\"text-align: right;\">\n",
       "      <th></th>\n",
       "      <th>year</th>\n",
       "      <th>make</th>\n",
       "      <th>model</th>\n",
       "      <th>trim</th>\n",
       "      <th>body</th>\n",
       "      <th>transmission</th>\n",
       "      <th>state</th>\n",
       "      <th>condition</th>\n",
       "      <th>odometer</th>\n",
       "      <th>color</th>\n",
       "      <th>interior</th>\n",
       "      <th>sellingprice</th>\n",
       "      <th>age</th>\n",
       "    </tr>\n",
       "  </thead>\n",
       "  <tbody>\n",
       "    <tr>\n",
       "      <th>0</th>\n",
       "      <td>2011</td>\n",
       "      <td>ford</td>\n",
       "      <td>edge</td>\n",
       "      <td>sel</td>\n",
       "      <td>suv</td>\n",
       "      <td>automatic</td>\n",
       "      <td>md</td>\n",
       "      <td>4.2</td>\n",
       "      <td>111041.0</td>\n",
       "      <td>black</td>\n",
       "      <td>black</td>\n",
       "      <td>12500</td>\n",
       "      <td>4</td>\n",
       "    </tr>\n",
       "    <tr>\n",
       "      <th>1</th>\n",
       "      <td>2014</td>\n",
       "      <td>ford</td>\n",
       "      <td>fusion</td>\n",
       "      <td>se</td>\n",
       "      <td>sedan</td>\n",
       "      <td>automatic</td>\n",
       "      <td>mo</td>\n",
       "      <td>3.5</td>\n",
       "      <td>31034.0</td>\n",
       "      <td>black</td>\n",
       "      <td>black</td>\n",
       "      <td>14500</td>\n",
       "      <td>1</td>\n",
       "    </tr>\n",
       "    <tr>\n",
       "      <th>2</th>\n",
       "      <td>2012</td>\n",
       "      <td>nissan</td>\n",
       "      <td>sentra</td>\n",
       "      <td>2.0 sl</td>\n",
       "      <td>sedan</td>\n",
       "      <td>automatic</td>\n",
       "      <td>nj</td>\n",
       "      <td>2.2</td>\n",
       "      <td>35619.0</td>\n",
       "      <td>black</td>\n",
       "      <td>black</td>\n",
       "      <td>9100</td>\n",
       "      <td>3</td>\n",
       "    </tr>\n",
       "    <tr>\n",
       "      <th>3</th>\n",
       "      <td>2003</td>\n",
       "      <td>hummer</td>\n",
       "      <td>h2</td>\n",
       "      <td>base</td>\n",
       "      <td>suv</td>\n",
       "      <td>automatic</td>\n",
       "      <td>tx</td>\n",
       "      <td>2.8</td>\n",
       "      <td>131301.0</td>\n",
       "      <td>gold</td>\n",
       "      <td>beige</td>\n",
       "      <td>13300</td>\n",
       "      <td>12</td>\n",
       "    </tr>\n",
       "    <tr>\n",
       "      <th>4</th>\n",
       "      <td>2007</td>\n",
       "      <td>ford</td>\n",
       "      <td>fusion</td>\n",
       "      <td>sel</td>\n",
       "      <td>sedan</td>\n",
       "      <td>automatic</td>\n",
       "      <td>md</td>\n",
       "      <td>2.0</td>\n",
       "      <td>127709.0</td>\n",
       "      <td>black</td>\n",
       "      <td>black</td>\n",
       "      <td>1300</td>\n",
       "      <td>8</td>\n",
       "    </tr>\n",
       "    <tr>\n",
       "      <th>5</th>\n",
       "      <td>2013</td>\n",
       "      <td>lincoln</td>\n",
       "      <td>mkz</td>\n",
       "      <td>base</td>\n",
       "      <td>sedan</td>\n",
       "      <td>automatic</td>\n",
       "      <td>mi</td>\n",
       "      <td>2.5</td>\n",
       "      <td>14894.0</td>\n",
       "      <td>black</td>\n",
       "      <td>black</td>\n",
       "      <td>22600</td>\n",
       "      <td>2</td>\n",
       "    </tr>\n",
       "    <tr>\n",
       "      <th>7</th>\n",
       "      <td>2013</td>\n",
       "      <td>ford</td>\n",
       "      <td>escape</td>\n",
       "      <td>se</td>\n",
       "      <td>suv</td>\n",
       "      <td>automatic</td>\n",
       "      <td>fl</td>\n",
       "      <td>4.8</td>\n",
       "      <td>26273.0</td>\n",
       "      <td>blue</td>\n",
       "      <td>gray</td>\n",
       "      <td>15200</td>\n",
       "      <td>2</td>\n",
       "    </tr>\n",
       "    <tr>\n",
       "      <th>8</th>\n",
       "      <td>2000</td>\n",
       "      <td>hyundai</td>\n",
       "      <td>elantra</td>\n",
       "      <td>gls</td>\n",
       "      <td>sedan</td>\n",
       "      <td>automatic</td>\n",
       "      <td>oh</td>\n",
       "      <td>1.9</td>\n",
       "      <td>182624.0</td>\n",
       "      <td>black</td>\n",
       "      <td>tan</td>\n",
       "      <td>700</td>\n",
       "      <td>15</td>\n",
       "    </tr>\n",
       "    <tr>\n",
       "      <th>9</th>\n",
       "      <td>2005</td>\n",
       "      <td>ford</td>\n",
       "      <td>freestyle</td>\n",
       "      <td>limited</td>\n",
       "      <td>wagon</td>\n",
       "      <td>automatic</td>\n",
       "      <td>oh</td>\n",
       "      <td>1.0</td>\n",
       "      <td>149364.0</td>\n",
       "      <td>black</td>\n",
       "      <td>tan</td>\n",
       "      <td>325</td>\n",
       "      <td>10</td>\n",
       "    </tr>\n",
       "    <tr>\n",
       "      <th>11</th>\n",
       "      <td>2011</td>\n",
       "      <td>buick</td>\n",
       "      <td>lucerne</td>\n",
       "      <td>cxl</td>\n",
       "      <td>sedan</td>\n",
       "      <td>automatic</td>\n",
       "      <td>mo</td>\n",
       "      <td>4.8</td>\n",
       "      <td>74760.0</td>\n",
       "      <td>white</td>\n",
       "      <td>tan</td>\n",
       "      <td>12400</td>\n",
       "      <td>4</td>\n",
       "    </tr>\n",
       "  </tbody>\n",
       "</table>\n",
       "</div>"
      ],
      "text/plain": [
       "    year     make      model     trim   body transmission state  condition  \\\n",
       "0   2011     ford       edge      sel    suv    automatic    md        4.2   \n",
       "1   2014     ford     fusion       se  sedan    automatic    mo        3.5   \n",
       "2   2012   nissan     sentra   2.0 sl  sedan    automatic    nj        2.2   \n",
       "3   2003   hummer         h2     base    suv    automatic    tx        2.8   \n",
       "4   2007     ford     fusion      sel  sedan    automatic    md        2.0   \n",
       "5   2013  lincoln        mkz     base  sedan    automatic    mi        2.5   \n",
       "7   2013     ford     escape       se    suv    automatic    fl        4.8   \n",
       "8   2000  hyundai    elantra      gls  sedan    automatic    oh        1.9   \n",
       "9   2005     ford  freestyle  limited  wagon    automatic    oh        1.0   \n",
       "11  2011    buick    lucerne      cxl  sedan    automatic    mo        4.8   \n",
       "\n",
       "    odometer  color interior  sellingprice  age  \n",
       "0   111041.0  black    black         12500    4  \n",
       "1    31034.0  black    black         14500    1  \n",
       "2    35619.0  black    black          9100    3  \n",
       "3   131301.0   gold    beige         13300   12  \n",
       "4   127709.0  black    black          1300    8  \n",
       "5    14894.0  black    black         22600    2  \n",
       "7    26273.0   blue     gray         15200    2  \n",
       "8   182624.0  black      tan           700   15  \n",
       "9   149364.0  black      tan           325   10  \n",
       "11   74760.0  white      tan         12400    4  "
      ]
     },
     "execution_count": 61,
     "metadata": {},
     "output_type": "execute_result"
    }
   ],
   "source": [
    "data_train.head(10)"
   ]
  },
  {
   "cell_type": "markdown",
   "id": "5ba70ddd-d3cf-4001-9a1a-4f5fabd54f91",
   "metadata": {},
   "source": [
    "## Подготовка данных"
   ]
  },
  {
   "cell_type": "markdown",
   "id": "a3a7ac20-a03d-4825-9b32-e4f18da2188a",
   "metadata": {},
   "source": [
    "Проведем кодировку данных, для уменьшения объема занимаемой памяти датасетом. "
   ]
  },
  {
   "cell_type": "code",
   "execution_count": 62,
   "id": "24e61902-0121-4e6d-9325-ba7828b02dab",
   "metadata": {},
   "outputs": [],
   "source": [
    "# uint16 колонки\n",
    "uint16_columns = ['condition', 'odometer']\n",
    "\n",
    "# category колонки\n",
    "\n",
    "# изменяем dtypes колонок\n",
    "data_train = data_train.astype({\n",
    "    **{_:'int16' for _ in ['year', 'age', 'sellingprice']},\n",
    "    **{_:'uint16' for _ in uint16_columns},\n",
    "})\n"
   ]
  },
  {
   "cell_type": "code",
   "execution_count": 63,
   "id": "5fbc95bc-ab4d-432f-a451-34ed91a5cee3",
   "metadata": {
    "tags": []
   },
   "outputs": [],
   "source": [
    "text_list = ['make', 'model', 'trim', 'body', 'transmission', 'state',  'color', 'interior']"
   ]
  },
  {
   "cell_type": "code",
   "execution_count": 64,
   "id": "6a223949-3258-425c-9948-7a51933865dc",
   "metadata": {
    "tags": []
   },
   "outputs": [
    {
     "name": "stdout",
     "output_type": "stream",
     "text": [
      "<class 'pandas.core.frame.DataFrame'>\n",
      "Int64Index: 409177 entries, 0 to 440235\n",
      "Data columns (total 13 columns):\n",
      " #   Column        Non-Null Count   Dtype \n",
      "---  ------        --------------   ----- \n",
      " 0   year          409177 non-null  int16 \n",
      " 1   make          409177 non-null  object\n",
      " 2   model         409177 non-null  object\n",
      " 3   trim          409177 non-null  object\n",
      " 4   body          409177 non-null  object\n",
      " 5   transmission  409177 non-null  object\n",
      " 6   state         409177 non-null  object\n",
      " 7   condition     409177 non-null  uint16\n",
      " 8   odometer      409177 non-null  uint16\n",
      " 9   color         409177 non-null  object\n",
      " 10  interior      409177 non-null  object\n",
      " 11  sellingprice  409177 non-null  int16 \n",
      " 12  age           409177 non-null  int16 \n",
      "dtypes: int16(3), object(8), uint16(2)\n",
      "memory usage: 32.0+ MB\n"
     ]
    }
   ],
   "source": [
    "data_train.info()"
   ]
  },
  {
   "cell_type": "markdown",
   "id": "db0e130e-1304-4a0e-8542-edcc1694fadc",
   "metadata": {
    "tags": []
   },
   "source": [
    "transformer = make_column_transformer(\n",
    "    (OneHotEncoder(sparse=False), text_list),\n",
    "    remainder='passthrough')\n",
    "transformed = transformer.fit_transform(data_test)\n",
    "features_test = pd.DataFrame(transformed, columns=transformer.get_feature_names_out())\n",
    "display(features_test)"
   ]
  },
  {
   "cell_type": "code",
   "execution_count": 65,
   "id": "5ef3d4ad-38aa-47b4-9730-6975bcb36240",
   "metadata": {
    "tags": []
   },
   "outputs": [
    {
     "name": "stdout",
     "output_type": "stream",
     "text": [
      "<class 'pandas.core.frame.DataFrame'>\n",
      "RangeIndex: 110058 entries, 0 to 110057\n",
      "Data columns (total 14 columns):\n",
      " #   Column        Non-Null Count   Dtype  \n",
      "---  ------        --------------   -----  \n",
      " 0   year          110058 non-null  int64  \n",
      " 1   make          107997 non-null  object \n",
      " 2   model         107979 non-null  object \n",
      " 3   trim          107944 non-null  object \n",
      " 4   body          107464 non-null  object \n",
      " 5   transmission  109702 non-null  object \n",
      " 6   vin           110058 non-null  object \n",
      " 7   state         110058 non-null  object \n",
      " 8   condition     107679 non-null  float64\n",
      " 9   odometer      110039 non-null  float64\n",
      " 10  color         109900 non-null  object \n",
      " 11  interior      109900 non-null  object \n",
      " 12  seller        110058 non-null  object \n",
      " 13  age           110058 non-null  int16  \n",
      "dtypes: float64(2), int16(1), int64(1), object(10)\n",
      "memory usage: 11.1+ MB\n"
     ]
    }
   ],
   "source": [
    "data_test.info()"
   ]
  },
  {
   "cell_type": "markdown",
   "id": "a7fd0c12-3c3d-49b1-a23a-62d77e86118b",
   "metadata": {},
   "source": [
    "## Заполнение пропусков в data_test"
   ]
  },
  {
   "cell_type": "code",
   "execution_count": null,
   "id": "b3514554-66e1-4af2-9de0-7182c01abfe6",
   "metadata": {
    "tags": []
   },
   "outputs": [],
   "source": []
  },
  {
   "cell_type": "code",
   "execution_count": 66,
   "id": "1eddd9c6-0628-457b-8434-3dc2299a1052",
   "metadata": {
    "tags": []
   },
   "outputs": [
    {
     "data": {
      "text/plain": [
       "year               0\n",
       "make            2061\n",
       "model           2079\n",
       "trim            2114\n",
       "body            2594\n",
       "transmission     356\n",
       "vin                0\n",
       "state              0\n",
       "condition       2379\n",
       "odometer          19\n",
       "color            158\n",
       "interior         158\n",
       "seller             0\n",
       "age                0\n",
       "dtype: int64"
      ]
     },
     "execution_count": 66,
     "metadata": {},
     "output_type": "execute_result"
    }
   ],
   "source": [
    "data_test.isna().sum()"
   ]
  },
  {
   "cell_type": "markdown",
   "id": "f58be31f-2136-4e68-805b-33bff970849c",
   "metadata": {},
   "source": [
    "Напишем функции заполнения ропусков при помощи библиотеки VIN Info."
   ]
  },
  {
   "cell_type": "code",
   "execution_count": 67,
   "id": "2d857024-74b3-480e-b409-168fea535174",
   "metadata": {
    "tags": []
   },
   "outputs": [],
   "source": [
    "def make(data):\n",
    "    for i in tqdm(data.index):\n",
    "        if pd.isnull(data.loc[i, 'make']):\n",
    "            try:\n",
    "                data['make'][i] = Vin(data['vin'][i]).wmi\n",
    "            except:\n",
    "                data['make'][i] = 'not info'"
   ]
  },
  {
   "cell_type": "code",
   "execution_count": 68,
   "id": "56e95247-139d-4ed2-bdd2-8c0738e365f8",
   "metadata": {
    "tags": []
   },
   "outputs": [],
   "source": [
    "def model(data):\n",
    "    for i in tqdm(data.index):\n",
    "        if pd.isnull(data.loc[i, 'model']):\n",
    "            try:\n",
    "                data['model'][i] = Vin(data['vin'][i]).wmi\n",
    "            except:\n",
    "                data['model'][i] = 'not info'"
   ]
  },
  {
   "cell_type": "code",
   "execution_count": 69,
   "id": "9f1cb5bd-f47e-4c20-9e33-75d5b0d6f6a7",
   "metadata": {
    "tags": []
   },
   "outputs": [
    {
     "data": {
      "application/vnd.jupyter.widget-view+json": {
       "model_id": "3d85bf246363402d9fd67be267f03fe7",
       "version_major": 2,
       "version_minor": 0
      },
      "text/plain": [
       "  0%|          | 0/110058 [00:00<?, ?it/s]"
      ]
     },
     "metadata": {},
     "output_type": "display_data"
    }
   ],
   "source": [
    "make(data_test)"
   ]
  },
  {
   "cell_type": "code",
   "execution_count": 70,
   "id": "e4093a62-06e7-4837-a2eb-ce2d83b9e6e8",
   "metadata": {
    "tags": []
   },
   "outputs": [
    {
     "data": {
      "application/vnd.jupyter.widget-view+json": {
       "model_id": "2d537589823e4b4899efef27801f86ab",
       "version_major": 2,
       "version_minor": 0
      },
      "text/plain": [
       "  0%|          | 0/110058 [00:00<?, ?it/s]"
      ]
     },
     "metadata": {},
     "output_type": "display_data"
    }
   ],
   "source": [
    "model(data_test)"
   ]
  },
  {
   "cell_type": "markdown",
   "id": "91724581-e657-46bf-8ce0-1a1f9048883b",
   "metadata": {},
   "source": [
    "Напишем лямбда функцию для заполнения пропусков наиболее частыми вариантами в своих группах. Данных немного, но другого варианта заполнения пропусков не нашлось. "
   ]
  },
  {
   "cell_type": "code",
   "execution_count": 71,
   "id": "f64f6d4b-9e7f-4d4c-a7ab-8f9075586dc3",
   "metadata": {
    "tags": []
   },
   "outputs": [],
   "source": [
    "f = lambda x: x.mode().iat[0] if x.notna().any() else 'not info'    \n",
    "\n",
    "data_test['body'] = data_test.groupby('model')['body'].transform(f)"
   ]
  },
  {
   "cell_type": "code",
   "execution_count": 72,
   "id": "a4f9a9f2-1bc4-4545-bdc0-dc339b348082",
   "metadata": {
    "tags": []
   },
   "outputs": [],
   "source": [
    "f = lambda x: x.mode().iat[0] if x.notna().any() else 'not info'    \n",
    "\n",
    "data_test['trim'] = data_test.groupby('model')['trim'].transform(f)"
   ]
  },
  {
   "cell_type": "markdown",
   "id": "35db7c5b-4ce1-460d-8d3e-205288190945",
   "metadata": {},
   "source": [
    "Наишем функцию заполнения пропусков с информацией о состоянии машины, сделаем выводы исходя из возраста автомобиля. Данных не много, посмотим, как это скажется на обучении."
   ]
  },
  {
   "cell_type": "code",
   "execution_count": 73,
   "id": "a555b163-402d-443c-8ca9-a88b4832c4b3",
   "metadata": {
    "tags": []
   },
   "outputs": [],
   "source": [
    "def condition(data):\n",
    "        for i in range(data.shape[0]):\n",
    "            try:\n",
    "                if pd.isnull(data_test.loc[i, 'condition']):\n",
    "                    if data['age'][i] <= 1:                  \n",
    "                        data['condition'][i] = 5.0\n",
    "                    elif data['age'][i] > 1 and data['age'][i] <= 3:                  \n",
    "                         data['condition'][i] = 4.0\n",
    "                    elif data['age'][i] > 3 and data['age'][i] <= 5:\n",
    "                         data['condition'][i] = 3.0\n",
    "                    elif data['age'][i] > 5:\n",
    "                         data['condition'][i] = 3.0\n",
    "            except:\n",
    "                data['condition'][i] = 0"
   ]
  },
  {
   "cell_type": "code",
   "execution_count": 74,
   "id": "9d078e00-f13a-4b93-b5bf-99cc8de0c774",
   "metadata": {
    "tags": []
   },
   "outputs": [],
   "source": [
    "condition(data_test)"
   ]
  },
  {
   "cell_type": "markdown",
   "id": "84518573-dada-4ac3-957b-39a0f77c20f4",
   "metadata": {},
   "source": [
    "Заполним остальные пропуски наиболее частыми  значениями в своих группах, числовые значения заполним средними значениями."
   ]
  },
  {
   "cell_type": "code",
   "execution_count": 75,
   "id": "fa58458a-00bc-48a8-9542-dcacd3d1f051",
   "metadata": {
    "tags": []
   },
   "outputs": [],
   "source": [
    "mode = data_test['transmission'].value_counts().index[0]\n",
    "data_test['transmission'].fillna(value=mode, inplace=True)"
   ]
  },
  {
   "cell_type": "code",
   "execution_count": 76,
   "id": "446135b9-d02d-49bf-bce3-5c3c005a035e",
   "metadata": {
    "tags": []
   },
   "outputs": [],
   "source": [
    "avg = data_test['odometer'].mean()\n",
    "data_test['odometer'].fillna(value=avg, inplace=True)"
   ]
  },
  {
   "cell_type": "code",
   "execution_count": 77,
   "id": "30e10a37-9be5-4022-83a1-56b54504d502",
   "metadata": {
    "tags": []
   },
   "outputs": [],
   "source": [
    "f = lambda x: x.mode().iat[0] if x.notna().any() else 'not info'    \n",
    "\n",
    "data_test['color'] = data_test.groupby('model')['color'].transform(f)"
   ]
  },
  {
   "cell_type": "code",
   "execution_count": 78,
   "id": "88d3997f-a9ca-4b92-b625-11e3803c5ecb",
   "metadata": {
    "tags": []
   },
   "outputs": [],
   "source": [
    "f = lambda x: x.mode().iat[0] if x.notna().any() else 'not info'    \n",
    "\n",
    "data_test['interior'] = data_test.groupby('model')['interior'].transform(f)"
   ]
  },
  {
   "cell_type": "code",
   "execution_count": 79,
   "id": "6569c925-745d-492b-b482-298373c23cdc",
   "metadata": {
    "tags": []
   },
   "outputs": [],
   "source": [
    "data_test_cat = data_test.copy()"
   ]
  },
  {
   "cell_type": "markdown",
   "id": "e64627a4-e49b-474a-a16f-773f4cb0c634",
   "metadata": {
    "tags": []
   },
   "source": [
    "##  Модель LinearRegression"
   ]
  },
  {
   "cell_type": "markdown",
   "id": "679b4dfb-2b6a-4891-9d14-70e3c57c82cf",
   "metadata": {},
   "source": [
    "Создадим трансформер для различных колонок, в случае с \"линейными\" моделями к категориальным применим OHE, к числовым - StandardScaler. "
   ]
  },
  {
   "cell_type": "code",
   "execution_count": 80,
   "id": "0e95530b-6f8a-46fc-8052-87f1491f1c4e",
   "metadata": {
    "tags": []
   },
   "outputs": [],
   "source": [
    "linear_transformer = make_column_transformer(\n",
    "    (\n",
    "        OneHotEncoder(sparse=False, handle_unknown='ignore'),\n",
    "        text_list\n",
    "    ),\n",
    "    (\n",
    "        StandardScaler(\n",
    "        ), make_column_selector(dtype_include='number')\n",
    "    ),\n",
    "    remainder='passthrough'\n",
    ")"
   ]
  },
  {
   "cell_type": "markdown",
   "id": "0f62df8e-2659-46ed-9ce2-965151ef1ff1",
   "metadata": {},
   "source": [
    "Создадим pipline"
   ]
  },
  {
   "cell_type": "code",
   "execution_count": 81,
   "id": "a0a698fd-9d4e-42a4-8fa7-3e9462bd11ba",
   "metadata": {
    "tags": []
   },
   "outputs": [],
   "source": [
    "pipe_lr = make_pipeline(\n",
    "    linear_transformer,\n",
    "    LinearRegression(\n",
    "                n_jobs=-1\n",
    "    )\n",
    ")"
   ]
  },
  {
   "cell_type": "markdown",
   "id": "02938d85-e1ad-4da3-adb4-0e8bb6b8dad2",
   "metadata": {},
   "source": [
    "Зададим сетку параметров и создадим estimator."
   ]
  },
  {
   "cell_type": "code",
   "execution_count": 82,
   "id": "65f6129c-2feb-453d-8567-debf797bdfe3",
   "metadata": {
    "tags": []
   },
   "outputs": [],
   "source": [
    "param_grid = {}\n",
    "\n",
    "gs_lr = GridSearchCV(\n",
    "    pipe_lr,\n",
    "    param_grid,\n",
    "    verbose=1,\n",
    ")"
   ]
  },
  {
   "cell_type": "markdown",
   "id": "f1a5a75a-103f-4797-bd26-0e80fc68cc0e",
   "metadata": {},
   "source": [
    "Обучим модель, поскльку объем данных слишком большой и компьютер не может их все обработать, обрежим данные."
   ]
  },
  {
   "cell_type": "code",
   "execution_count": 83,
   "id": "4e96ac35-05ed-4bb8-aa27-83c9191cbee4",
   "metadata": {
    "tags": []
   },
   "outputs": [],
   "source": [
    "X = data_train[:int(data_train.shape[0]/1000)].drop(columns=['sellingprice'], axis=1)\n",
    "y = data_train['sellingprice'][:int(data_train.shape[0]/1000)]"
   ]
  },
  {
   "cell_type": "code",
   "execution_count": 84,
   "id": "e1ff974b-d0b7-46a3-8d7c-707a5099be29",
   "metadata": {
    "tags": []
   },
   "outputs": [
    {
     "name": "stdout",
     "output_type": "stream",
     "text": [
      "Fitting 5 folds for each of 1 candidates, totalling 5 fits\n"
     ]
    },
    {
     "data": {
      "text/html": [
       "<style>#sk-container-id-1 {color: black;background-color: white;}#sk-container-id-1 pre{padding: 0;}#sk-container-id-1 div.sk-toggleable {background-color: white;}#sk-container-id-1 label.sk-toggleable__label {cursor: pointer;display: block;width: 100%;margin-bottom: 0;padding: 0.3em;box-sizing: border-box;text-align: center;}#sk-container-id-1 label.sk-toggleable__label-arrow:before {content: \"▸\";float: left;margin-right: 0.25em;color: #696969;}#sk-container-id-1 label.sk-toggleable__label-arrow:hover:before {color: black;}#sk-container-id-1 div.sk-estimator:hover label.sk-toggleable__label-arrow:before {color: black;}#sk-container-id-1 div.sk-toggleable__content {max-height: 0;max-width: 0;overflow: hidden;text-align: left;background-color: #f0f8ff;}#sk-container-id-1 div.sk-toggleable__content pre {margin: 0.2em;color: black;border-radius: 0.25em;background-color: #f0f8ff;}#sk-container-id-1 input.sk-toggleable__control:checked~div.sk-toggleable__content {max-height: 200px;max-width: 100%;overflow: auto;}#sk-container-id-1 input.sk-toggleable__control:checked~label.sk-toggleable__label-arrow:before {content: \"▾\";}#sk-container-id-1 div.sk-estimator input.sk-toggleable__control:checked~label.sk-toggleable__label {background-color: #d4ebff;}#sk-container-id-1 div.sk-label input.sk-toggleable__control:checked~label.sk-toggleable__label {background-color: #d4ebff;}#sk-container-id-1 input.sk-hidden--visually {border: 0;clip: rect(1px 1px 1px 1px);clip: rect(1px, 1px, 1px, 1px);height: 1px;margin: -1px;overflow: hidden;padding: 0;position: absolute;width: 1px;}#sk-container-id-1 div.sk-estimator {font-family: monospace;background-color: #f0f8ff;border: 1px dotted black;border-radius: 0.25em;box-sizing: border-box;margin-bottom: 0.5em;}#sk-container-id-1 div.sk-estimator:hover {background-color: #d4ebff;}#sk-container-id-1 div.sk-parallel-item::after {content: \"\";width: 100%;border-bottom: 1px solid gray;flex-grow: 1;}#sk-container-id-1 div.sk-label:hover label.sk-toggleable__label {background-color: #d4ebff;}#sk-container-id-1 div.sk-serial::before {content: \"\";position: absolute;border-left: 1px solid gray;box-sizing: border-box;top: 0;bottom: 0;left: 50%;z-index: 0;}#sk-container-id-1 div.sk-serial {display: flex;flex-direction: column;align-items: center;background-color: white;padding-right: 0.2em;padding-left: 0.2em;position: relative;}#sk-container-id-1 div.sk-item {position: relative;z-index: 1;}#sk-container-id-1 div.sk-parallel {display: flex;align-items: stretch;justify-content: center;background-color: white;position: relative;}#sk-container-id-1 div.sk-item::before, #sk-container-id-1 div.sk-parallel-item::before {content: \"\";position: absolute;border-left: 1px solid gray;box-sizing: border-box;top: 0;bottom: 0;left: 50%;z-index: -1;}#sk-container-id-1 div.sk-parallel-item {display: flex;flex-direction: column;z-index: 1;position: relative;background-color: white;}#sk-container-id-1 div.sk-parallel-item:first-child::after {align-self: flex-end;width: 50%;}#sk-container-id-1 div.sk-parallel-item:last-child::after {align-self: flex-start;width: 50%;}#sk-container-id-1 div.sk-parallel-item:only-child::after {width: 0;}#sk-container-id-1 div.sk-dashed-wrapped {border: 1px dashed gray;margin: 0 0.4em 0.5em 0.4em;box-sizing: border-box;padding-bottom: 0.4em;background-color: white;}#sk-container-id-1 div.sk-label label {font-family: monospace;font-weight: bold;display: inline-block;line-height: 1.2em;}#sk-container-id-1 div.sk-label-container {text-align: center;}#sk-container-id-1 div.sk-container {/* jupyter's `normalize.less` sets `[hidden] { display: none; }` but bootstrap.min.css set `[hidden] { display: none !important; }` so we also need the `!important` here to be able to override the default hidden behavior on the sphinx rendered scikit-learn.org. See: https://github.com/scikit-learn/scikit-learn/issues/21755 */display: inline-block !important;position: relative;}#sk-container-id-1 div.sk-text-repr-fallback {display: none;}</style><div id=\"sk-container-id-1\" class=\"sk-top-container\"><div class=\"sk-text-repr-fallback\"><pre>GridSearchCV(estimator=Pipeline(steps=[(&#x27;columntransformer&#x27;,\n",
       "                                        ColumnTransformer(remainder=&#x27;passthrough&#x27;,\n",
       "                                                          transformers=[(&#x27;onehotencoder&#x27;,\n",
       "                                                                         OneHotEncoder(handle_unknown=&#x27;ignore&#x27;,\n",
       "                                                                                       sparse=False),\n",
       "                                                                         [&#x27;make&#x27;,\n",
       "                                                                          &#x27;model&#x27;,\n",
       "                                                                          &#x27;trim&#x27;,\n",
       "                                                                          &#x27;body&#x27;,\n",
       "                                                                          &#x27;transmission&#x27;,\n",
       "                                                                          &#x27;state&#x27;,\n",
       "                                                                          &#x27;color&#x27;,\n",
       "                                                                          &#x27;interior&#x27;]),\n",
       "                                                                        (&#x27;standardscaler&#x27;,\n",
       "                                                                         StandardScaler(),\n",
       "                                                                         &lt;sklearn.compose._column_transformer.make_column_selector object at 0x0000022CA9F01910&gt;)])),\n",
       "                                       (&#x27;linearregression&#x27;,\n",
       "                                        LinearRegression(n_jobs=-1))]),\n",
       "             param_grid={}, verbose=1)</pre><b>In a Jupyter environment, please rerun this cell to show the HTML representation or trust the notebook. <br />On GitHub, the HTML representation is unable to render, please try loading this page with nbviewer.org.</b></div><div class=\"sk-container\" hidden><div class=\"sk-item sk-dashed-wrapped\"><div class=\"sk-label-container\"><div class=\"sk-label sk-toggleable\"><input class=\"sk-toggleable__control sk-hidden--visually\" id=\"sk-estimator-id-1\" type=\"checkbox\" ><label for=\"sk-estimator-id-1\" class=\"sk-toggleable__label sk-toggleable__label-arrow\">GridSearchCV</label><div class=\"sk-toggleable__content\"><pre>GridSearchCV(estimator=Pipeline(steps=[(&#x27;columntransformer&#x27;,\n",
       "                                        ColumnTransformer(remainder=&#x27;passthrough&#x27;,\n",
       "                                                          transformers=[(&#x27;onehotencoder&#x27;,\n",
       "                                                                         OneHotEncoder(handle_unknown=&#x27;ignore&#x27;,\n",
       "                                                                                       sparse=False),\n",
       "                                                                         [&#x27;make&#x27;,\n",
       "                                                                          &#x27;model&#x27;,\n",
       "                                                                          &#x27;trim&#x27;,\n",
       "                                                                          &#x27;body&#x27;,\n",
       "                                                                          &#x27;transmission&#x27;,\n",
       "                                                                          &#x27;state&#x27;,\n",
       "                                                                          &#x27;color&#x27;,\n",
       "                                                                          &#x27;interior&#x27;]),\n",
       "                                                                        (&#x27;standardscaler&#x27;,\n",
       "                                                                         StandardScaler(),\n",
       "                                                                         &lt;sklearn.compose._column_transformer.make_column_selector object at 0x0000022CA9F01910&gt;)])),\n",
       "                                       (&#x27;linearregression&#x27;,\n",
       "                                        LinearRegression(n_jobs=-1))]),\n",
       "             param_grid={}, verbose=1)</pre></div></div></div><div class=\"sk-parallel\"><div class=\"sk-parallel-item\"><div class=\"sk-item\"><div class=\"sk-label-container\"><div class=\"sk-label sk-toggleable\"><input class=\"sk-toggleable__control sk-hidden--visually\" id=\"sk-estimator-id-2\" type=\"checkbox\" ><label for=\"sk-estimator-id-2\" class=\"sk-toggleable__label sk-toggleable__label-arrow\">estimator: Pipeline</label><div class=\"sk-toggleable__content\"><pre>Pipeline(steps=[(&#x27;columntransformer&#x27;,\n",
       "                 ColumnTransformer(remainder=&#x27;passthrough&#x27;,\n",
       "                                   transformers=[(&#x27;onehotencoder&#x27;,\n",
       "                                                  OneHotEncoder(handle_unknown=&#x27;ignore&#x27;,\n",
       "                                                                sparse=False),\n",
       "                                                  [&#x27;make&#x27;, &#x27;model&#x27;, &#x27;trim&#x27;,\n",
       "                                                   &#x27;body&#x27;, &#x27;transmission&#x27;,\n",
       "                                                   &#x27;state&#x27;, &#x27;color&#x27;,\n",
       "                                                   &#x27;interior&#x27;]),\n",
       "                                                 (&#x27;standardscaler&#x27;,\n",
       "                                                  StandardScaler(),\n",
       "                                                  &lt;sklearn.compose._column_transformer.make_column_selector object at 0x0000022CA9F01910&gt;)])),\n",
       "                (&#x27;linearregression&#x27;, LinearRegression(n_jobs=-1))])</pre></div></div></div><div class=\"sk-serial\"><div class=\"sk-item\"><div class=\"sk-serial\"><div class=\"sk-item sk-dashed-wrapped\"><div class=\"sk-label-container\"><div class=\"sk-label sk-toggleable\"><input class=\"sk-toggleable__control sk-hidden--visually\" id=\"sk-estimator-id-3\" type=\"checkbox\" ><label for=\"sk-estimator-id-3\" class=\"sk-toggleable__label sk-toggleable__label-arrow\">columntransformer: ColumnTransformer</label><div class=\"sk-toggleable__content\"><pre>ColumnTransformer(remainder=&#x27;passthrough&#x27;,\n",
       "                  transformers=[(&#x27;onehotencoder&#x27;,\n",
       "                                 OneHotEncoder(handle_unknown=&#x27;ignore&#x27;,\n",
       "                                               sparse=False),\n",
       "                                 [&#x27;make&#x27;, &#x27;model&#x27;, &#x27;trim&#x27;, &#x27;body&#x27;,\n",
       "                                  &#x27;transmission&#x27;, &#x27;state&#x27;, &#x27;color&#x27;,\n",
       "                                  &#x27;interior&#x27;]),\n",
       "                                (&#x27;standardscaler&#x27;, StandardScaler(),\n",
       "                                 &lt;sklearn.compose._column_transformer.make_column_selector object at 0x0000022CA9F01910&gt;)])</pre></div></div></div><div class=\"sk-parallel\"><div class=\"sk-parallel-item\"><div class=\"sk-item\"><div class=\"sk-label-container\"><div class=\"sk-label sk-toggleable\"><input class=\"sk-toggleable__control sk-hidden--visually\" id=\"sk-estimator-id-4\" type=\"checkbox\" ><label for=\"sk-estimator-id-4\" class=\"sk-toggleable__label sk-toggleable__label-arrow\">onehotencoder</label><div class=\"sk-toggleable__content\"><pre>[&#x27;make&#x27;, &#x27;model&#x27;, &#x27;trim&#x27;, &#x27;body&#x27;, &#x27;transmission&#x27;, &#x27;state&#x27;, &#x27;color&#x27;, &#x27;interior&#x27;]</pre></div></div></div><div class=\"sk-serial\"><div class=\"sk-item\"><div class=\"sk-estimator sk-toggleable\"><input class=\"sk-toggleable__control sk-hidden--visually\" id=\"sk-estimator-id-5\" type=\"checkbox\" ><label for=\"sk-estimator-id-5\" class=\"sk-toggleable__label sk-toggleable__label-arrow\">OneHotEncoder</label><div class=\"sk-toggleable__content\"><pre>OneHotEncoder(handle_unknown=&#x27;ignore&#x27;, sparse=False)</pre></div></div></div></div></div></div><div class=\"sk-parallel-item\"><div class=\"sk-item\"><div class=\"sk-label-container\"><div class=\"sk-label sk-toggleable\"><input class=\"sk-toggleable__control sk-hidden--visually\" id=\"sk-estimator-id-6\" type=\"checkbox\" ><label for=\"sk-estimator-id-6\" class=\"sk-toggleable__label sk-toggleable__label-arrow\">standardscaler</label><div class=\"sk-toggleable__content\"><pre>&lt;sklearn.compose._column_transformer.make_column_selector object at 0x0000022CA9F01910&gt;</pre></div></div></div><div class=\"sk-serial\"><div class=\"sk-item\"><div class=\"sk-estimator sk-toggleable\"><input class=\"sk-toggleable__control sk-hidden--visually\" id=\"sk-estimator-id-7\" type=\"checkbox\" ><label for=\"sk-estimator-id-7\" class=\"sk-toggleable__label sk-toggleable__label-arrow\">StandardScaler</label><div class=\"sk-toggleable__content\"><pre>StandardScaler()</pre></div></div></div></div></div></div><div class=\"sk-parallel-item\"><div class=\"sk-item\"><div class=\"sk-label-container\"><div class=\"sk-label sk-toggleable\"><input class=\"sk-toggleable__control sk-hidden--visually\" id=\"sk-estimator-id-8\" type=\"checkbox\" ><label for=\"sk-estimator-id-8\" class=\"sk-toggleable__label sk-toggleable__label-arrow\">remainder</label><div class=\"sk-toggleable__content\"><pre></pre></div></div></div><div class=\"sk-serial\"><div class=\"sk-item\"><div class=\"sk-estimator sk-toggleable\"><input class=\"sk-toggleable__control sk-hidden--visually\" id=\"sk-estimator-id-9\" type=\"checkbox\" ><label for=\"sk-estimator-id-9\" class=\"sk-toggleable__label sk-toggleable__label-arrow\">passthrough</label><div class=\"sk-toggleable__content\"><pre>passthrough</pre></div></div></div></div></div></div></div></div><div class=\"sk-item\"><div class=\"sk-estimator sk-toggleable\"><input class=\"sk-toggleable__control sk-hidden--visually\" id=\"sk-estimator-id-10\" type=\"checkbox\" ><label for=\"sk-estimator-id-10\" class=\"sk-toggleable__label sk-toggleable__label-arrow\">LinearRegression</label><div class=\"sk-toggleable__content\"><pre>LinearRegression(n_jobs=-1)</pre></div></div></div></div></div></div></div></div></div></div></div></div>"
      ],
      "text/plain": [
       "GridSearchCV(estimator=Pipeline(steps=[('columntransformer',\n",
       "                                        ColumnTransformer(remainder='passthrough',\n",
       "                                                          transformers=[('onehotencoder',\n",
       "                                                                         OneHotEncoder(handle_unknown='ignore',\n",
       "                                                                                       sparse=False),\n",
       "                                                                         ['make',\n",
       "                                                                          'model',\n",
       "                                                                          'trim',\n",
       "                                                                          'body',\n",
       "                                                                          'transmission',\n",
       "                                                                          'state',\n",
       "                                                                          'color',\n",
       "                                                                          'interior']),\n",
       "                                                                        ('standardscaler',\n",
       "                                                                         StandardScaler(),\n",
       "                                                                         <sklearn.compose._column_transformer.make_column_selector object at 0x0000022CA9F01910>)])),\n",
       "                                       ('linearregression',\n",
       "                                        LinearRegression(n_jobs=-1))]),\n",
       "             param_grid={}, verbose=1)"
      ]
     },
     "execution_count": 84,
     "metadata": {},
     "output_type": "execute_result"
    }
   ],
   "source": [
    "gs_lr.fit(X, y)"
   ]
  },
  {
   "cell_type": "code",
   "execution_count": 85,
   "id": "f76a76a8-b09a-409b-b652-df6a95905966",
   "metadata": {
    "tags": []
   },
   "outputs": [],
   "source": [
    "test_preds = gs_lr.predict(data_test)"
   ]
  },
  {
   "cell_type": "code",
   "execution_count": 86,
   "id": "1beacd38-9271-4d57-a5a9-f3957bdbaa79",
   "metadata": {
    "tags": []
   },
   "outputs": [],
   "source": [
    "train_preds = gs_lr.predict(X)"
   ]
  },
  {
   "cell_type": "code",
   "execution_count": 87,
   "id": "313d5e41-a754-4123-8d85-70e4134e6631",
   "metadata": {
    "tags": []
   },
   "outputs": [],
   "source": [
    "error = mean_absolute_percentage_error(y, train_preds)"
   ]
  },
  {
   "cell_type": "code",
   "execution_count": 88,
   "id": "449089f7-973a-4114-b33f-fafa67fe1e77",
   "metadata": {
    "tags": []
   },
   "outputs": [
    {
     "name": "stdout",
     "output_type": "stream",
     "text": [
      "0.1737014761580211\n"
     ]
    }
   ],
   "source": [
    "print(error)"
   ]
  },
  {
   "cell_type": "markdown",
   "id": "5581f5b8-0409-4ced-8fb3-dc8dd0e63e02",
   "metadata": {},
   "source": [
    "Данная модель показывает хорошуб метрику, но к сожалению только на не больших объемах данных, если увеличить объем обучающей выборки, то метрика МАРЕ увеличивается, что свидетельствует о ухудшении модели. Объем данных был уменьшен в связи с ограниченными способностями аппаратных стредств, воспользоваться облачыми технологиями не позволяет место положения. "
   ]
  },
  {
   "cell_type": "markdown",
   "id": "32b29c1d-f5ff-436b-9c69-387d0de8c685",
   "metadata": {},
   "source": [
    "##  Модель RandomForestRegressor"
   ]
  },
  {
   "cell_type": "code",
   "execution_count": 89,
   "id": "b1d7b295-4fcc-465c-a7cc-8e9f3f31fe58",
   "metadata": {
    "tags": []
   },
   "outputs": [],
   "source": [
    "forest_transformer_rf = make_column_transformer(\n",
    "    (\n",
    "        OneHotEncoder(sparse=False, handle_unknown='ignore'),\n",
    "        text_list\n",
    "    ),\n",
    "    (\n",
    "        StandardScaler(\n",
    "        ), make_column_selector(dtype_include='number')\n",
    "    ),\n",
    "    remainder='passthrough'\n",
    ")"
   ]
  },
  {
   "cell_type": "code",
   "execution_count": 90,
   "id": "bb458b47-c123-47be-afc2-abfc9d82ef35",
   "metadata": {
    "tags": []
   },
   "outputs": [],
   "source": [
    "pipe_rf = make_pipeline(\n",
    "    forest_transformer_rf,\n",
    "    RandomForestRegressor(n_estimators=200)\n",
    ")"
   ]
  },
  {
   "cell_type": "markdown",
   "id": "7f5dde8c-2618-4981-b7b5-93872c4c128c",
   "metadata": {},
   "source": [
    "   'n_estimators': [100, 200, 500],\n",
    "   'max_features': ['auto', 'sqrt', 'log2'],\n",
    "   'max_depth' : [4,5,6,7,8],\n",
    "   'criterion' :['mse', 'mae']"
   ]
  },
  {
   "cell_type": "code",
   "execution_count": 91,
   "id": "af2e8a23-1114-453b-8d60-51e88dc9a75c",
   "metadata": {
    "tags": []
   },
   "outputs": [],
   "source": [
    "param_gri_rf = {}\n",
    "\n",
    "gs_rf = GridSearchCV(\n",
    "    pipe_rf,\n",
    "    param_grid=param_gri_rf,\n",
    "    verbose=1,\n",
    ")"
   ]
  },
  {
   "cell_type": "code",
   "execution_count": 92,
   "id": "3827aa18-8c16-46c8-8171-8ff02be849a2",
   "metadata": {
    "tags": []
   },
   "outputs": [],
   "source": [
    "X = data_train[:int(data_train.shape[0]/100)].drop(columns=['sellingprice'], axis=1)\n",
    "y = data_train['sellingprice'][:int(data_train.shape[0]/100)]"
   ]
  },
  {
   "cell_type": "code",
   "execution_count": 93,
   "id": "27c7ac6b-fe34-4ba5-a689-350afb0cfd6c",
   "metadata": {
    "tags": []
   },
   "outputs": [
    {
     "name": "stdout",
     "output_type": "stream",
     "text": [
      "Fitting 5 folds for each of 1 candidates, totalling 5 fits\n"
     ]
    },
    {
     "data": {
      "text/html": [
       "<style>#sk-container-id-2 {color: black;background-color: white;}#sk-container-id-2 pre{padding: 0;}#sk-container-id-2 div.sk-toggleable {background-color: white;}#sk-container-id-2 label.sk-toggleable__label {cursor: pointer;display: block;width: 100%;margin-bottom: 0;padding: 0.3em;box-sizing: border-box;text-align: center;}#sk-container-id-2 label.sk-toggleable__label-arrow:before {content: \"▸\";float: left;margin-right: 0.25em;color: #696969;}#sk-container-id-2 label.sk-toggleable__label-arrow:hover:before {color: black;}#sk-container-id-2 div.sk-estimator:hover label.sk-toggleable__label-arrow:before {color: black;}#sk-container-id-2 div.sk-toggleable__content {max-height: 0;max-width: 0;overflow: hidden;text-align: left;background-color: #f0f8ff;}#sk-container-id-2 div.sk-toggleable__content pre {margin: 0.2em;color: black;border-radius: 0.25em;background-color: #f0f8ff;}#sk-container-id-2 input.sk-toggleable__control:checked~div.sk-toggleable__content {max-height: 200px;max-width: 100%;overflow: auto;}#sk-container-id-2 input.sk-toggleable__control:checked~label.sk-toggleable__label-arrow:before {content: \"▾\";}#sk-container-id-2 div.sk-estimator input.sk-toggleable__control:checked~label.sk-toggleable__label {background-color: #d4ebff;}#sk-container-id-2 div.sk-label input.sk-toggleable__control:checked~label.sk-toggleable__label {background-color: #d4ebff;}#sk-container-id-2 input.sk-hidden--visually {border: 0;clip: rect(1px 1px 1px 1px);clip: rect(1px, 1px, 1px, 1px);height: 1px;margin: -1px;overflow: hidden;padding: 0;position: absolute;width: 1px;}#sk-container-id-2 div.sk-estimator {font-family: monospace;background-color: #f0f8ff;border: 1px dotted black;border-radius: 0.25em;box-sizing: border-box;margin-bottom: 0.5em;}#sk-container-id-2 div.sk-estimator:hover {background-color: #d4ebff;}#sk-container-id-2 div.sk-parallel-item::after {content: \"\";width: 100%;border-bottom: 1px solid gray;flex-grow: 1;}#sk-container-id-2 div.sk-label:hover label.sk-toggleable__label {background-color: #d4ebff;}#sk-container-id-2 div.sk-serial::before {content: \"\";position: absolute;border-left: 1px solid gray;box-sizing: border-box;top: 0;bottom: 0;left: 50%;z-index: 0;}#sk-container-id-2 div.sk-serial {display: flex;flex-direction: column;align-items: center;background-color: white;padding-right: 0.2em;padding-left: 0.2em;position: relative;}#sk-container-id-2 div.sk-item {position: relative;z-index: 1;}#sk-container-id-2 div.sk-parallel {display: flex;align-items: stretch;justify-content: center;background-color: white;position: relative;}#sk-container-id-2 div.sk-item::before, #sk-container-id-2 div.sk-parallel-item::before {content: \"\";position: absolute;border-left: 1px solid gray;box-sizing: border-box;top: 0;bottom: 0;left: 50%;z-index: -1;}#sk-container-id-2 div.sk-parallel-item {display: flex;flex-direction: column;z-index: 1;position: relative;background-color: white;}#sk-container-id-2 div.sk-parallel-item:first-child::after {align-self: flex-end;width: 50%;}#sk-container-id-2 div.sk-parallel-item:last-child::after {align-self: flex-start;width: 50%;}#sk-container-id-2 div.sk-parallel-item:only-child::after {width: 0;}#sk-container-id-2 div.sk-dashed-wrapped {border: 1px dashed gray;margin: 0 0.4em 0.5em 0.4em;box-sizing: border-box;padding-bottom: 0.4em;background-color: white;}#sk-container-id-2 div.sk-label label {font-family: monospace;font-weight: bold;display: inline-block;line-height: 1.2em;}#sk-container-id-2 div.sk-label-container {text-align: center;}#sk-container-id-2 div.sk-container {/* jupyter's `normalize.less` sets `[hidden] { display: none; }` but bootstrap.min.css set `[hidden] { display: none !important; }` so we also need the `!important` here to be able to override the default hidden behavior on the sphinx rendered scikit-learn.org. See: https://github.com/scikit-learn/scikit-learn/issues/21755 */display: inline-block !important;position: relative;}#sk-container-id-2 div.sk-text-repr-fallback {display: none;}</style><div id=\"sk-container-id-2\" class=\"sk-top-container\"><div class=\"sk-text-repr-fallback\"><pre>GridSearchCV(estimator=Pipeline(steps=[(&#x27;columntransformer&#x27;,\n",
       "                                        ColumnTransformer(remainder=&#x27;passthrough&#x27;,\n",
       "                                                          transformers=[(&#x27;onehotencoder&#x27;,\n",
       "                                                                         OneHotEncoder(handle_unknown=&#x27;ignore&#x27;,\n",
       "                                                                                       sparse=False),\n",
       "                                                                         [&#x27;make&#x27;,\n",
       "                                                                          &#x27;model&#x27;,\n",
       "                                                                          &#x27;trim&#x27;,\n",
       "                                                                          &#x27;body&#x27;,\n",
       "                                                                          &#x27;transmission&#x27;,\n",
       "                                                                          &#x27;state&#x27;,\n",
       "                                                                          &#x27;color&#x27;,\n",
       "                                                                          &#x27;interior&#x27;]),\n",
       "                                                                        (&#x27;standardscaler&#x27;,\n",
       "                                                                         StandardScaler(),\n",
       "                                                                         &lt;sklearn.compose._column_transformer.make_column_selector object at 0x0000022CB5277450&gt;)])),\n",
       "                                       (&#x27;randomforestregressor&#x27;,\n",
       "                                        RandomForestRegressor(n_estimators=200))]),\n",
       "             param_grid={}, verbose=1)</pre><b>In a Jupyter environment, please rerun this cell to show the HTML representation or trust the notebook. <br />On GitHub, the HTML representation is unable to render, please try loading this page with nbviewer.org.</b></div><div class=\"sk-container\" hidden><div class=\"sk-item sk-dashed-wrapped\"><div class=\"sk-label-container\"><div class=\"sk-label sk-toggleable\"><input class=\"sk-toggleable__control sk-hidden--visually\" id=\"sk-estimator-id-11\" type=\"checkbox\" ><label for=\"sk-estimator-id-11\" class=\"sk-toggleable__label sk-toggleable__label-arrow\">GridSearchCV</label><div class=\"sk-toggleable__content\"><pre>GridSearchCV(estimator=Pipeline(steps=[(&#x27;columntransformer&#x27;,\n",
       "                                        ColumnTransformer(remainder=&#x27;passthrough&#x27;,\n",
       "                                                          transformers=[(&#x27;onehotencoder&#x27;,\n",
       "                                                                         OneHotEncoder(handle_unknown=&#x27;ignore&#x27;,\n",
       "                                                                                       sparse=False),\n",
       "                                                                         [&#x27;make&#x27;,\n",
       "                                                                          &#x27;model&#x27;,\n",
       "                                                                          &#x27;trim&#x27;,\n",
       "                                                                          &#x27;body&#x27;,\n",
       "                                                                          &#x27;transmission&#x27;,\n",
       "                                                                          &#x27;state&#x27;,\n",
       "                                                                          &#x27;color&#x27;,\n",
       "                                                                          &#x27;interior&#x27;]),\n",
       "                                                                        (&#x27;standardscaler&#x27;,\n",
       "                                                                         StandardScaler(),\n",
       "                                                                         &lt;sklearn.compose._column_transformer.make_column_selector object at 0x0000022CB5277450&gt;)])),\n",
       "                                       (&#x27;randomforestregressor&#x27;,\n",
       "                                        RandomForestRegressor(n_estimators=200))]),\n",
       "             param_grid={}, verbose=1)</pre></div></div></div><div class=\"sk-parallel\"><div class=\"sk-parallel-item\"><div class=\"sk-item\"><div class=\"sk-label-container\"><div class=\"sk-label sk-toggleable\"><input class=\"sk-toggleable__control sk-hidden--visually\" id=\"sk-estimator-id-12\" type=\"checkbox\" ><label for=\"sk-estimator-id-12\" class=\"sk-toggleable__label sk-toggleable__label-arrow\">estimator: Pipeline</label><div class=\"sk-toggleable__content\"><pre>Pipeline(steps=[(&#x27;columntransformer&#x27;,\n",
       "                 ColumnTransformer(remainder=&#x27;passthrough&#x27;,\n",
       "                                   transformers=[(&#x27;onehotencoder&#x27;,\n",
       "                                                  OneHotEncoder(handle_unknown=&#x27;ignore&#x27;,\n",
       "                                                                sparse=False),\n",
       "                                                  [&#x27;make&#x27;, &#x27;model&#x27;, &#x27;trim&#x27;,\n",
       "                                                   &#x27;body&#x27;, &#x27;transmission&#x27;,\n",
       "                                                   &#x27;state&#x27;, &#x27;color&#x27;,\n",
       "                                                   &#x27;interior&#x27;]),\n",
       "                                                 (&#x27;standardscaler&#x27;,\n",
       "                                                  StandardScaler(),\n",
       "                                                  &lt;sklearn.compose._column_transformer.make_column_selector object at 0x0000022CB5277450&gt;)])),\n",
       "                (&#x27;randomforestregressor&#x27;,\n",
       "                 RandomForestRegressor(n_estimators=200))])</pre></div></div></div><div class=\"sk-serial\"><div class=\"sk-item\"><div class=\"sk-serial\"><div class=\"sk-item sk-dashed-wrapped\"><div class=\"sk-label-container\"><div class=\"sk-label sk-toggleable\"><input class=\"sk-toggleable__control sk-hidden--visually\" id=\"sk-estimator-id-13\" type=\"checkbox\" ><label for=\"sk-estimator-id-13\" class=\"sk-toggleable__label sk-toggleable__label-arrow\">columntransformer: ColumnTransformer</label><div class=\"sk-toggleable__content\"><pre>ColumnTransformer(remainder=&#x27;passthrough&#x27;,\n",
       "                  transformers=[(&#x27;onehotencoder&#x27;,\n",
       "                                 OneHotEncoder(handle_unknown=&#x27;ignore&#x27;,\n",
       "                                               sparse=False),\n",
       "                                 [&#x27;make&#x27;, &#x27;model&#x27;, &#x27;trim&#x27;, &#x27;body&#x27;,\n",
       "                                  &#x27;transmission&#x27;, &#x27;state&#x27;, &#x27;color&#x27;,\n",
       "                                  &#x27;interior&#x27;]),\n",
       "                                (&#x27;standardscaler&#x27;, StandardScaler(),\n",
       "                                 &lt;sklearn.compose._column_transformer.make_column_selector object at 0x0000022CB5277450&gt;)])</pre></div></div></div><div class=\"sk-parallel\"><div class=\"sk-parallel-item\"><div class=\"sk-item\"><div class=\"sk-label-container\"><div class=\"sk-label sk-toggleable\"><input class=\"sk-toggleable__control sk-hidden--visually\" id=\"sk-estimator-id-14\" type=\"checkbox\" ><label for=\"sk-estimator-id-14\" class=\"sk-toggleable__label sk-toggleable__label-arrow\">onehotencoder</label><div class=\"sk-toggleable__content\"><pre>[&#x27;make&#x27;, &#x27;model&#x27;, &#x27;trim&#x27;, &#x27;body&#x27;, &#x27;transmission&#x27;, &#x27;state&#x27;, &#x27;color&#x27;, &#x27;interior&#x27;]</pre></div></div></div><div class=\"sk-serial\"><div class=\"sk-item\"><div class=\"sk-estimator sk-toggleable\"><input class=\"sk-toggleable__control sk-hidden--visually\" id=\"sk-estimator-id-15\" type=\"checkbox\" ><label for=\"sk-estimator-id-15\" class=\"sk-toggleable__label sk-toggleable__label-arrow\">OneHotEncoder</label><div class=\"sk-toggleable__content\"><pre>OneHotEncoder(handle_unknown=&#x27;ignore&#x27;, sparse=False)</pre></div></div></div></div></div></div><div class=\"sk-parallel-item\"><div class=\"sk-item\"><div class=\"sk-label-container\"><div class=\"sk-label sk-toggleable\"><input class=\"sk-toggleable__control sk-hidden--visually\" id=\"sk-estimator-id-16\" type=\"checkbox\" ><label for=\"sk-estimator-id-16\" class=\"sk-toggleable__label sk-toggleable__label-arrow\">standardscaler</label><div class=\"sk-toggleable__content\"><pre>&lt;sklearn.compose._column_transformer.make_column_selector object at 0x0000022CB5277450&gt;</pre></div></div></div><div class=\"sk-serial\"><div class=\"sk-item\"><div class=\"sk-estimator sk-toggleable\"><input class=\"sk-toggleable__control sk-hidden--visually\" id=\"sk-estimator-id-17\" type=\"checkbox\" ><label for=\"sk-estimator-id-17\" class=\"sk-toggleable__label sk-toggleable__label-arrow\">StandardScaler</label><div class=\"sk-toggleable__content\"><pre>StandardScaler()</pre></div></div></div></div></div></div><div class=\"sk-parallel-item\"><div class=\"sk-item\"><div class=\"sk-label-container\"><div class=\"sk-label sk-toggleable\"><input class=\"sk-toggleable__control sk-hidden--visually\" id=\"sk-estimator-id-18\" type=\"checkbox\" ><label for=\"sk-estimator-id-18\" class=\"sk-toggleable__label sk-toggleable__label-arrow\">remainder</label><div class=\"sk-toggleable__content\"><pre></pre></div></div></div><div class=\"sk-serial\"><div class=\"sk-item\"><div class=\"sk-estimator sk-toggleable\"><input class=\"sk-toggleable__control sk-hidden--visually\" id=\"sk-estimator-id-19\" type=\"checkbox\" ><label for=\"sk-estimator-id-19\" class=\"sk-toggleable__label sk-toggleable__label-arrow\">passthrough</label><div class=\"sk-toggleable__content\"><pre>passthrough</pre></div></div></div></div></div></div></div></div><div class=\"sk-item\"><div class=\"sk-estimator sk-toggleable\"><input class=\"sk-toggleable__control sk-hidden--visually\" id=\"sk-estimator-id-20\" type=\"checkbox\" ><label for=\"sk-estimator-id-20\" class=\"sk-toggleable__label sk-toggleable__label-arrow\">RandomForestRegressor</label><div class=\"sk-toggleable__content\"><pre>RandomForestRegressor(n_estimators=200)</pre></div></div></div></div></div></div></div></div></div></div></div></div>"
      ],
      "text/plain": [
       "GridSearchCV(estimator=Pipeline(steps=[('columntransformer',\n",
       "                                        ColumnTransformer(remainder='passthrough',\n",
       "                                                          transformers=[('onehotencoder',\n",
       "                                                                         OneHotEncoder(handle_unknown='ignore',\n",
       "                                                                                       sparse=False),\n",
       "                                                                         ['make',\n",
       "                                                                          'model',\n",
       "                                                                          'trim',\n",
       "                                                                          'body',\n",
       "                                                                          'transmission',\n",
       "                                                                          'state',\n",
       "                                                                          'color',\n",
       "                                                                          'interior']),\n",
       "                                                                        ('standardscaler',\n",
       "                                                                         StandardScaler(),\n",
       "                                                                         <sklearn.compose._column_transformer.make_column_selector object at 0x0000022CB5277450>)])),\n",
       "                                       ('randomforestregressor',\n",
       "                                        RandomForestRegressor(n_estimators=200))]),\n",
       "             param_grid={}, verbose=1)"
      ]
     },
     "execution_count": 93,
     "metadata": {},
     "output_type": "execute_result"
    }
   ],
   "source": [
    "gs_rf.fit(X, y)"
   ]
  },
  {
   "cell_type": "code",
   "execution_count": 94,
   "id": "ec3b8ade-9fa5-4898-a3e1-8c48ce441d3e",
   "metadata": {
    "tags": []
   },
   "outputs": [],
   "source": [
    "test_preds = gs_rf.predict(data_test)"
   ]
  },
  {
   "cell_type": "code",
   "execution_count": 95,
   "id": "b965ed9e-95fc-4b33-ad4e-706c63f404eb",
   "metadata": {
    "tags": []
   },
   "outputs": [],
   "source": [
    "train_preds_rf = gs_rf.predict(X)"
   ]
  },
  {
   "cell_type": "code",
   "execution_count": 96,
   "id": "ce784de7-2374-4ffd-8eef-8a9c95670196",
   "metadata": {
    "tags": []
   },
   "outputs": [],
   "source": [
    "error = mean_absolute_percentage_error(y, train_preds_rf)"
   ]
  },
  {
   "cell_type": "code",
   "execution_count": 97,
   "id": "8fa29531-37c1-4549-8703-566844d9b17b",
   "metadata": {
    "tags": []
   },
   "outputs": [
    {
     "name": "stdout",
     "output_type": "stream",
     "text": [
      "0.12565578349877293\n"
     ]
    }
   ],
   "source": [
    "print(error)"
   ]
  },
  {
   "cell_type": "code",
   "execution_count": 98,
   "id": "3d6a5e0f-0d90-4fa4-b49a-10a615bdb542",
   "metadata": {
    "tags": []
   },
   "outputs": [
    {
     "name": "stdout",
     "output_type": "stream",
     "text": [
      "[14069.    14358.     8857.    10003.375  2899.5   20695.75  15278.07\n",
      "   808.875  1583.375 11887.75 ]\n"
     ]
    }
   ],
   "source": [
    "print(train_preds_rf[:10])"
   ]
  },
  {
   "cell_type": "code",
   "execution_count": 99,
   "id": "d309809a-3b1d-4598-80c4-986a7e78c7f6",
   "metadata": {},
   "outputs": [],
   "source": [
    "data_test['sellingprice']=test_preds"
   ]
  },
  {
   "cell_type": "code",
   "execution_count": 100,
   "id": "b2447300-f1de-4c4b-b43c-dda579974ce4",
   "metadata": {},
   "outputs": [
    {
     "data": {
      "text/html": [
       "<div>\n",
       "<style scoped>\n",
       "    .dataframe tbody tr th:only-of-type {\n",
       "        vertical-align: middle;\n",
       "    }\n",
       "\n",
       "    .dataframe tbody tr th {\n",
       "        vertical-align: top;\n",
       "    }\n",
       "\n",
       "    .dataframe thead th {\n",
       "        text-align: right;\n",
       "    }\n",
       "</style>\n",
       "<table border=\"1\" class=\"dataframe\">\n",
       "  <thead>\n",
       "    <tr style=\"text-align: right;\">\n",
       "      <th></th>\n",
       "      <th>year</th>\n",
       "      <th>make</th>\n",
       "      <th>model</th>\n",
       "      <th>trim</th>\n",
       "      <th>body</th>\n",
       "      <th>transmission</th>\n",
       "      <th>vin</th>\n",
       "      <th>state</th>\n",
       "      <th>condition</th>\n",
       "      <th>odometer</th>\n",
       "      <th>color</th>\n",
       "      <th>interior</th>\n",
       "      <th>seller</th>\n",
       "      <th>age</th>\n",
       "      <th>sellingprice</th>\n",
       "    </tr>\n",
       "  </thead>\n",
       "  <tbody>\n",
       "    <tr>\n",
       "      <th>0</th>\n",
       "      <td>2005</td>\n",
       "      <td>cadillac</td>\n",
       "      <td>cts</td>\n",
       "      <td>base</td>\n",
       "      <td>sedan</td>\n",
       "      <td>automatic</td>\n",
       "      <td>1g6dp567450124779</td>\n",
       "      <td>ca</td>\n",
       "      <td>2.7</td>\n",
       "      <td>116970.0</td>\n",
       "      <td>black</td>\n",
       "      <td>black</td>\n",
       "      <td>lexus of stevens creek</td>\n",
       "      <td>10</td>\n",
       "      <td>5942.50</td>\n",
       "    </tr>\n",
       "    <tr>\n",
       "      <th>1</th>\n",
       "      <td>2014</td>\n",
       "      <td>gmc</td>\n",
       "      <td>savana cargo</td>\n",
       "      <td>2500</td>\n",
       "      <td>van</td>\n",
       "      <td>automatic</td>\n",
       "      <td>1gtw7fca7e1902207</td>\n",
       "      <td>pa</td>\n",
       "      <td>4.4</td>\n",
       "      <td>6286.0</td>\n",
       "      <td>white</td>\n",
       "      <td>gray</td>\n",
       "      <td>u-haul</td>\n",
       "      <td>1</td>\n",
       "      <td>21487.50</td>\n",
       "    </tr>\n",
       "    <tr>\n",
       "      <th>2</th>\n",
       "      <td>2013</td>\n",
       "      <td>nissan</td>\n",
       "      <td>murano</td>\n",
       "      <td>sl</td>\n",
       "      <td>suv</td>\n",
       "      <td>automatic</td>\n",
       "      <td>jn8az1mw6dw303497</td>\n",
       "      <td>oh</td>\n",
       "      <td>4.6</td>\n",
       "      <td>11831.0</td>\n",
       "      <td>black</td>\n",
       "      <td>black</td>\n",
       "      <td>nissan-infiniti lt</td>\n",
       "      <td>2</td>\n",
       "      <td>21231.57</td>\n",
       "    </tr>\n",
       "    <tr>\n",
       "      <th>3</th>\n",
       "      <td>2013</td>\n",
       "      <td>chevrolet</td>\n",
       "      <td>impala</td>\n",
       "      <td>lt</td>\n",
       "      <td>sedan</td>\n",
       "      <td>automatic</td>\n",
       "      <td>2g1wf5e34d1160703</td>\n",
       "      <td>fl</td>\n",
       "      <td>2.3</td>\n",
       "      <td>57105.0</td>\n",
       "      <td>silver</td>\n",
       "      <td>gray</td>\n",
       "      <td>onemain rem/auto club of miami inc dba north dad</td>\n",
       "      <td>2</td>\n",
       "      <td>9229.50</td>\n",
       "    </tr>\n",
       "    <tr>\n",
       "      <th>4</th>\n",
       "      <td>2013</td>\n",
       "      <td>nissan</td>\n",
       "      <td>titan</td>\n",
       "      <td>se</td>\n",
       "      <td>crew cab</td>\n",
       "      <td>automatic</td>\n",
       "      <td>1n6aa0ec3dn301209</td>\n",
       "      <td>tn</td>\n",
       "      <td>2.9</td>\n",
       "      <td>31083.0</td>\n",
       "      <td>black</td>\n",
       "      <td>black</td>\n",
       "      <td>nissan north america inc.</td>\n",
       "      <td>2</td>\n",
       "      <td>19970.31</td>\n",
       "    </tr>\n",
       "    <tr>\n",
       "      <th>5</th>\n",
       "      <td>2003</td>\n",
       "      <td>volkswagen</td>\n",
       "      <td>passat</td>\n",
       "      <td>se pzev</td>\n",
       "      <td>sedan</td>\n",
       "      <td>automatic</td>\n",
       "      <td>wvwvd63b93e175638</td>\n",
       "      <td>nc</td>\n",
       "      <td>2.4</td>\n",
       "      <td>104155.0</td>\n",
       "      <td>gray</td>\n",
       "      <td>black</td>\n",
       "      <td>fred anderson nissan of fayetteville</td>\n",
       "      <td>12</td>\n",
       "      <td>4094.75</td>\n",
       "    </tr>\n",
       "    <tr>\n",
       "      <th>6</th>\n",
       "      <td>2013</td>\n",
       "      <td>hyundai</td>\n",
       "      <td>sonata</td>\n",
       "      <td>gls</td>\n",
       "      <td>sedan</td>\n",
       "      <td>automatic</td>\n",
       "      <td>5npeb4ac4dh809686</td>\n",
       "      <td>il</td>\n",
       "      <td>3.7</td>\n",
       "      <td>30669.0</td>\n",
       "      <td>silver</td>\n",
       "      <td>gray</td>\n",
       "      <td>merchants leasing</td>\n",
       "      <td>2</td>\n",
       "      <td>12620.50</td>\n",
       "    </tr>\n",
       "    <tr>\n",
       "      <th>7</th>\n",
       "      <td>2013</td>\n",
       "      <td>ford</td>\n",
       "      <td>explorer</td>\n",
       "      <td>xlt</td>\n",
       "      <td>suv</td>\n",
       "      <td>automatic</td>\n",
       "      <td>1fm5k7b97dgb16454</td>\n",
       "      <td>nc</td>\n",
       "      <td>3.2</td>\n",
       "      <td>87862.0</td>\n",
       "      <td>black</td>\n",
       "      <td>black</td>\n",
       "      <td>ge fleet services for itself/servicer</td>\n",
       "      <td>2</td>\n",
       "      <td>20165.61</td>\n",
       "    </tr>\n",
       "    <tr>\n",
       "      <th>8</th>\n",
       "      <td>2011</td>\n",
       "      <td>infiniti</td>\n",
       "      <td>g sedan</td>\n",
       "      <td>g37x</td>\n",
       "      <td>g sedan</td>\n",
       "      <td>automatic</td>\n",
       "      <td>jn1cv6ar5bm411441</td>\n",
       "      <td>tn</td>\n",
       "      <td>3.5</td>\n",
       "      <td>47028.0</td>\n",
       "      <td>black</td>\n",
       "      <td>black</td>\n",
       "      <td>nissan infiniti lt</td>\n",
       "      <td>4</td>\n",
       "      <td>18686.50</td>\n",
       "    </tr>\n",
       "    <tr>\n",
       "      <th>9</th>\n",
       "      <td>2007</td>\n",
       "      <td>chevrolet</td>\n",
       "      <td>suburban</td>\n",
       "      <td>1500 ls</td>\n",
       "      <td>suv</td>\n",
       "      <td>automatic</td>\n",
       "      <td>3gnfc16j77g158033</td>\n",
       "      <td>ga</td>\n",
       "      <td>3.4</td>\n",
       "      <td>191211.0</td>\n",
       "      <td>black</td>\n",
       "      <td>black</td>\n",
       "      <td>riverside chevrolet inc</td>\n",
       "      <td>8</td>\n",
       "      <td>11360.25</td>\n",
       "    </tr>\n",
       "  </tbody>\n",
       "</table>\n",
       "</div>"
      ],
      "text/plain": [
       "   year        make         model     trim      body transmission  \\\n",
       "0  2005    cadillac           cts     base     sedan    automatic   \n",
       "1  2014         gmc  savana cargo     2500       van    automatic   \n",
       "2  2013      nissan        murano       sl       suv    automatic   \n",
       "3  2013   chevrolet        impala       lt     sedan    automatic   \n",
       "4  2013      nissan         titan       se  crew cab    automatic   \n",
       "5  2003  volkswagen        passat  se pzev     sedan    automatic   \n",
       "6  2013     hyundai        sonata      gls     sedan    automatic   \n",
       "7  2013        ford      explorer      xlt       suv    automatic   \n",
       "8  2011    infiniti       g sedan     g37x   g sedan    automatic   \n",
       "9  2007   chevrolet      suburban  1500 ls       suv    automatic   \n",
       "\n",
       "                 vin state  condition  odometer   color interior  \\\n",
       "0  1g6dp567450124779    ca        2.7  116970.0   black    black   \n",
       "1  1gtw7fca7e1902207    pa        4.4    6286.0   white     gray   \n",
       "2  jn8az1mw6dw303497    oh        4.6   11831.0   black    black   \n",
       "3  2g1wf5e34d1160703    fl        2.3   57105.0  silver     gray   \n",
       "4  1n6aa0ec3dn301209    tn        2.9   31083.0   black    black   \n",
       "5  wvwvd63b93e175638    nc        2.4  104155.0    gray    black   \n",
       "6  5npeb4ac4dh809686    il        3.7   30669.0  silver     gray   \n",
       "7  1fm5k7b97dgb16454    nc        3.2   87862.0   black    black   \n",
       "8  jn1cv6ar5bm411441    tn        3.5   47028.0   black    black   \n",
       "9  3gnfc16j77g158033    ga        3.4  191211.0   black    black   \n",
       "\n",
       "                                             seller  age  sellingprice  \n",
       "0                            lexus of stevens creek   10       5942.50  \n",
       "1                                            u-haul    1      21487.50  \n",
       "2                                nissan-infiniti lt    2      21231.57  \n",
       "3  onemain rem/auto club of miami inc dba north dad    2       9229.50  \n",
       "4                         nissan north america inc.    2      19970.31  \n",
       "5              fred anderson nissan of fayetteville   12       4094.75  \n",
       "6                                 merchants leasing    2      12620.50  \n",
       "7             ge fleet services for itself/servicer    2      20165.61  \n",
       "8                                nissan infiniti lt    4      18686.50  \n",
       "9                           riverside chevrolet inc    8      11360.25  "
      ]
     },
     "execution_count": 100,
     "metadata": {},
     "output_type": "execute_result"
    }
   ],
   "source": [
    "data_test.head(10)"
   ]
  },
  {
   "cell_type": "code",
   "execution_count": 101,
   "id": "204a0d4d-8048-482a-82dd-725bd87847a5",
   "metadata": {},
   "outputs": [
    {
     "data": {
      "text/plain": [
       "110058"
      ]
     },
     "execution_count": 101,
     "metadata": {},
     "output_type": "execute_result"
    }
   ],
   "source": [
    "data_test.shape[0]"
   ]
  },
  {
   "cell_type": "code",
   "execution_count": 102,
   "id": "9ffac0ac-63ae-4e02-ae13-24d6c1d76aab",
   "metadata": {
    "tags": []
   },
   "outputs": [],
   "source": [
    "data_test = data_test.drop(columns=['year', 'make', 'model', 'trim', 'body', 'transmission', 'state', 'condition', 'odometer', 'color', 'interior', 'seller', 'age'], axis=1)"
   ]
  },
  {
   "cell_type": "code",
   "execution_count": 103,
   "id": "47afa75d-9d9b-4550-b919-6f062dbfb303",
   "metadata": {
    "tags": []
   },
   "outputs": [
    {
     "data": {
      "text/html": [
       "<div>\n",
       "<style scoped>\n",
       "    .dataframe tbody tr th:only-of-type {\n",
       "        vertical-align: middle;\n",
       "    }\n",
       "\n",
       "    .dataframe tbody tr th {\n",
       "        vertical-align: top;\n",
       "    }\n",
       "\n",
       "    .dataframe thead th {\n",
       "        text-align: right;\n",
       "    }\n",
       "</style>\n",
       "<table border=\"1\" class=\"dataframe\">\n",
       "  <thead>\n",
       "    <tr style=\"text-align: right;\">\n",
       "      <th></th>\n",
       "      <th>vin</th>\n",
       "      <th>sellingprice</th>\n",
       "    </tr>\n",
       "  </thead>\n",
       "  <tbody>\n",
       "    <tr>\n",
       "      <th>0</th>\n",
       "      <td>1g6dp567450124779</td>\n",
       "      <td>5942.50</td>\n",
       "    </tr>\n",
       "    <tr>\n",
       "      <th>1</th>\n",
       "      <td>1gtw7fca7e1902207</td>\n",
       "      <td>21487.50</td>\n",
       "    </tr>\n",
       "    <tr>\n",
       "      <th>2</th>\n",
       "      <td>jn8az1mw6dw303497</td>\n",
       "      <td>21231.57</td>\n",
       "    </tr>\n",
       "    <tr>\n",
       "      <th>3</th>\n",
       "      <td>2g1wf5e34d1160703</td>\n",
       "      <td>9229.50</td>\n",
       "    </tr>\n",
       "    <tr>\n",
       "      <th>4</th>\n",
       "      <td>1n6aa0ec3dn301209</td>\n",
       "      <td>19970.31</td>\n",
       "    </tr>\n",
       "    <tr>\n",
       "      <th>5</th>\n",
       "      <td>wvwvd63b93e175638</td>\n",
       "      <td>4094.75</td>\n",
       "    </tr>\n",
       "    <tr>\n",
       "      <th>6</th>\n",
       "      <td>5npeb4ac4dh809686</td>\n",
       "      <td>12620.50</td>\n",
       "    </tr>\n",
       "    <tr>\n",
       "      <th>7</th>\n",
       "      <td>1fm5k7b97dgb16454</td>\n",
       "      <td>20165.61</td>\n",
       "    </tr>\n",
       "    <tr>\n",
       "      <th>8</th>\n",
       "      <td>jn1cv6ar5bm411441</td>\n",
       "      <td>18686.50</td>\n",
       "    </tr>\n",
       "    <tr>\n",
       "      <th>9</th>\n",
       "      <td>3gnfc16j77g158033</td>\n",
       "      <td>11360.25</td>\n",
       "    </tr>\n",
       "  </tbody>\n",
       "</table>\n",
       "</div>"
      ],
      "text/plain": [
       "                 vin  sellingprice\n",
       "0  1g6dp567450124779       5942.50\n",
       "1  1gtw7fca7e1902207      21487.50\n",
       "2  jn8az1mw6dw303497      21231.57\n",
       "3  2g1wf5e34d1160703       9229.50\n",
       "4  1n6aa0ec3dn301209      19970.31\n",
       "5  wvwvd63b93e175638       4094.75\n",
       "6  5npeb4ac4dh809686      12620.50\n",
       "7  1fm5k7b97dgb16454      20165.61\n",
       "8  jn1cv6ar5bm411441      18686.50\n",
       "9  3gnfc16j77g158033      11360.25"
      ]
     },
     "execution_count": 103,
     "metadata": {},
     "output_type": "execute_result"
    }
   ],
   "source": [
    "data_test.head(10)"
   ]
  },
  {
   "cell_type": "code",
   "execution_count": 105,
   "id": "0f9cdb2c-e97d-4b3a-9cad-976ce6a89607",
   "metadata": {
    "tags": []
   },
   "outputs": [],
   "source": [
    "data_test.to_csv('file_fr.csv', index=False)"
   ]
  },
  {
   "cell_type": "markdown",
   "id": "9813cc6b-b884-43a0-a65a-f55bf81a16d1",
   "metadata": {},
   "source": [
    "##  Модель CatBoostRegressor "
   ]
  },
  {
   "cell_type": "markdown",
   "id": "3844bddc-6d67-422b-b736-255398271e2b",
   "metadata": {},
   "source": [
    "Проверим наименование столбцов, что бы они сходились с тренировочной выборкой."
   ]
  },
  {
   "cell_type": "code",
   "execution_count": 106,
   "id": "18cc9955-2b0f-483b-89f3-6aece690ce77",
   "metadata": {
    "tags": []
   },
   "outputs": [
    {
     "name": "stdout",
     "output_type": "stream",
     "text": [
      "<class 'pandas.core.frame.DataFrame'>\n",
      "RangeIndex: 110058 entries, 0 to 110057\n",
      "Data columns (total 14 columns):\n",
      " #   Column        Non-Null Count   Dtype  \n",
      "---  ------        --------------   -----  \n",
      " 0   year          110058 non-null  int64  \n",
      " 1   make          110058 non-null  object \n",
      " 2   model         110058 non-null  object \n",
      " 3   trim          110058 non-null  object \n",
      " 4   body          110058 non-null  object \n",
      " 5   transmission  110058 non-null  object \n",
      " 6   vin           110058 non-null  object \n",
      " 7   state         110058 non-null  object \n",
      " 8   condition     110058 non-null  float64\n",
      " 9   odometer      110058 non-null  float64\n",
      " 10  color         110058 non-null  object \n",
      " 11  interior      110058 non-null  object \n",
      " 12  seller        110058 non-null  object \n",
      " 13  age           110058 non-null  int16  \n",
      "dtypes: float64(2), int16(1), int64(1), object(10)\n",
      "memory usage: 11.1+ MB\n"
     ]
    }
   ],
   "source": [
    "data_test_cat.info()"
   ]
  },
  {
   "cell_type": "markdown",
   "id": "4176eecf-74ba-4dfd-92a9-5ae35de16fd2",
   "metadata": {},
   "source": [
    "Удалим лишние столбцы."
   ]
  },
  {
   "cell_type": "code",
   "execution_count": 144,
   "id": "2946215b-5169-4704-aa76-3b76e8510dee",
   "metadata": {
    "tags": []
   },
   "outputs": [],
   "source": [
    "data_test_cat_feuchers = data_test_cat.drop(columns=['vin','seller'], axis=1)"
   ]
  },
  {
   "cell_type": "markdown",
   "id": "6f8fdb80-15a3-4a79-a461-6cd03ac56efe",
   "metadata": {},
   "source": [
    "Проверим удаление."
   ]
  },
  {
   "cell_type": "code",
   "execution_count": 108,
   "id": "b60594f9-9d78-4a25-9dda-c6de7823b247",
   "metadata": {
    "tags": []
   },
   "outputs": [
    {
     "name": "stdout",
     "output_type": "stream",
     "text": [
      "<class 'pandas.core.frame.DataFrame'>\n",
      "RangeIndex: 110058 entries, 0 to 110057\n",
      "Data columns (total 12 columns):\n",
      " #   Column        Non-Null Count   Dtype  \n",
      "---  ------        --------------   -----  \n",
      " 0   year          110058 non-null  int64  \n",
      " 1   make          110058 non-null  object \n",
      " 2   model         110058 non-null  object \n",
      " 3   trim          110058 non-null  object \n",
      " 4   body          110058 non-null  object \n",
      " 5   transmission  110058 non-null  object \n",
      " 6   state         110058 non-null  object \n",
      " 7   condition     110058 non-null  float64\n",
      " 8   odometer      110058 non-null  float64\n",
      " 9   color         110058 non-null  object \n",
      " 10  interior      110058 non-null  object \n",
      " 11  age           110058 non-null  int16  \n",
      "dtypes: float64(2), int16(1), int64(1), object(8)\n",
      "memory usage: 9.4+ MB\n"
     ]
    }
   ],
   "source": [
    "data_test_cat_feuchers.info()"
   ]
  },
  {
   "cell_type": "markdown",
   "id": "686660a6-ad6d-4ca7-9de4-5d8dad8cade6",
   "metadata": {},
   "source": [
    "Проверим, есть ли пустые значения."
   ]
  },
  {
   "cell_type": "code",
   "execution_count": 109,
   "id": "4a53bece-876c-4648-8781-b85d11b70934",
   "metadata": {
    "tags": []
   },
   "outputs": [
    {
     "data": {
      "text/plain": [
       "year            0\n",
       "make            0\n",
       "model           0\n",
       "trim            0\n",
       "body            0\n",
       "transmission    0\n",
       "state           0\n",
       "condition       0\n",
       "odometer        0\n",
       "color           0\n",
       "interior        0\n",
       "age             0\n",
       "dtype: int64"
      ]
     },
     "execution_count": 109,
     "metadata": {},
     "output_type": "execute_result"
    }
   ],
   "source": [
    "data_test_cat_feuchers.isna().sum()"
   ]
  },
  {
   "cell_type": "markdown",
   "id": "9ea3960c-2a1d-4dca-995e-26b41c99302f",
   "metadata": {},
   "source": [
    "Подготовим данные для модели, была ошибка, что числовые знаения должны быть типа integer, округлим значения и переведем их в нужный формат. "
   ]
  },
  {
   "cell_type": "code",
   "execution_count": 171,
   "id": "4793c14b-cf88-4cea-b7d5-3250d48df424",
   "metadata": {
    "tags": []
   },
   "outputs": [],
   "source": [
    "data_test_cat_feuchers['condition'] = data_test_cat_feuchers['condition'].round().astype('int')"
   ]
  },
  {
   "cell_type": "code",
   "execution_count": 172,
   "id": "950ffd55-93e8-471f-a078-93d6ed9306a9",
   "metadata": {
    "tags": []
   },
   "outputs": [],
   "source": [
    "data_test_cat_feuchers['odometer'] = data_test_cat_feuchers['odometer'].astype('int')"
   ]
  },
  {
   "cell_type": "markdown",
   "id": "3757831b-e3e6-4cb0-8211-4ff14ef3ea53",
   "metadata": {},
   "source": [
    "Поскльку обучение моели занимает очень много времени, принято решение разделить данные, а именно, при поиске наилучших параметров, использовать небольшое число данных."
   ]
  },
  {
   "cell_type": "code",
   "execution_count": 140,
   "id": "b6f5f16e-16ca-450e-b84f-0eda5535151e",
   "metadata": {
    "tags": []
   },
   "outputs": [],
   "source": [
    "X_cat = data_train.drop(columns=['sellingprice'], axis=1)\n",
    "y_cat = data_train['sellingprice']"
   ]
  },
  {
   "cell_type": "code",
   "execution_count": 141,
   "id": "437095f5-a84c-4936-b6ec-63a75ba811a5",
   "metadata": {
    "tags": []
   },
   "outputs": [],
   "source": [
    "X_train = data_train[:int(data_train.shape[0]/1000)].drop(columns=['sellingprice'], axis=1)\n",
    "y_train = data_train['sellingprice'][:int(data_train.shape[0]/1000)]"
   ]
  },
  {
   "cell_type": "markdown",
   "id": "be40ea4f-14ba-45e4-9903-d805361ced44",
   "metadata": {},
   "source": [
    "Зададим для модели 'фичи', согласно котором, она будет обучаться."
   ]
  },
  {
   "cell_type": "code",
   "execution_count": 142,
   "id": "00237a72-e3f9-4da0-a8e7-b13a604c0fbd",
   "metadata": {
    "tags": []
   },
   "outputs": [],
   "source": [
    "cat_features=['year', 'make', 'model', 'trim', 'body', 'transmission', 'state', 'condition', 'odometer', 'color', 'interior', 'age']"
   ]
  },
  {
   "cell_type": "markdown",
   "id": "85c05025-c2e2-4b0b-beba-a34cf2d897b4",
   "metadata": {},
   "source": [
    "Найдем наилучгие параметры для модели. "
   ]
  },
  {
   "cell_type": "code",
   "execution_count": 143,
   "id": "b1d861b1-76f0-415b-9bfb-86231e46a827",
   "metadata": {
    "tags": []
   },
   "outputs": [
    {
     "data": {
      "application/vnd.jupyter.widget-view+json": {
       "model_id": "2691925f96894b02a2ea09a831087009",
       "version_major": 2,
       "version_minor": 0
      },
      "text/plain": [
       "MetricVisualizer(layout=Layout(align_self='stretch', height='500px'))"
      ]
     },
     "metadata": {},
     "output_type": "display_data"
    },
    {
     "data": {
      "text/html": [
       "<style>#sk-container-id-3 {color: black;background-color: white;}#sk-container-id-3 pre{padding: 0;}#sk-container-id-3 div.sk-toggleable {background-color: white;}#sk-container-id-3 label.sk-toggleable__label {cursor: pointer;display: block;width: 100%;margin-bottom: 0;padding: 0.3em;box-sizing: border-box;text-align: center;}#sk-container-id-3 label.sk-toggleable__label-arrow:before {content: \"▸\";float: left;margin-right: 0.25em;color: #696969;}#sk-container-id-3 label.sk-toggleable__label-arrow:hover:before {color: black;}#sk-container-id-3 div.sk-estimator:hover label.sk-toggleable__label-arrow:before {color: black;}#sk-container-id-3 div.sk-toggleable__content {max-height: 0;max-width: 0;overflow: hidden;text-align: left;background-color: #f0f8ff;}#sk-container-id-3 div.sk-toggleable__content pre {margin: 0.2em;color: black;border-radius: 0.25em;background-color: #f0f8ff;}#sk-container-id-3 input.sk-toggleable__control:checked~div.sk-toggleable__content {max-height: 200px;max-width: 100%;overflow: auto;}#sk-container-id-3 input.sk-toggleable__control:checked~label.sk-toggleable__label-arrow:before {content: \"▾\";}#sk-container-id-3 div.sk-estimator input.sk-toggleable__control:checked~label.sk-toggleable__label {background-color: #d4ebff;}#sk-container-id-3 div.sk-label input.sk-toggleable__control:checked~label.sk-toggleable__label {background-color: #d4ebff;}#sk-container-id-3 input.sk-hidden--visually {border: 0;clip: rect(1px 1px 1px 1px);clip: rect(1px, 1px, 1px, 1px);height: 1px;margin: -1px;overflow: hidden;padding: 0;position: absolute;width: 1px;}#sk-container-id-3 div.sk-estimator {font-family: monospace;background-color: #f0f8ff;border: 1px dotted black;border-radius: 0.25em;box-sizing: border-box;margin-bottom: 0.5em;}#sk-container-id-3 div.sk-estimator:hover {background-color: #d4ebff;}#sk-container-id-3 div.sk-parallel-item::after {content: \"\";width: 100%;border-bottom: 1px solid gray;flex-grow: 1;}#sk-container-id-3 div.sk-label:hover label.sk-toggleable__label {background-color: #d4ebff;}#sk-container-id-3 div.sk-serial::before {content: \"\";position: absolute;border-left: 1px solid gray;box-sizing: border-box;top: 0;bottom: 0;left: 50%;z-index: 0;}#sk-container-id-3 div.sk-serial {display: flex;flex-direction: column;align-items: center;background-color: white;padding-right: 0.2em;padding-left: 0.2em;position: relative;}#sk-container-id-3 div.sk-item {position: relative;z-index: 1;}#sk-container-id-3 div.sk-parallel {display: flex;align-items: stretch;justify-content: center;background-color: white;position: relative;}#sk-container-id-3 div.sk-item::before, #sk-container-id-3 div.sk-parallel-item::before {content: \"\";position: absolute;border-left: 1px solid gray;box-sizing: border-box;top: 0;bottom: 0;left: 50%;z-index: -1;}#sk-container-id-3 div.sk-parallel-item {display: flex;flex-direction: column;z-index: 1;position: relative;background-color: white;}#sk-container-id-3 div.sk-parallel-item:first-child::after {align-self: flex-end;width: 50%;}#sk-container-id-3 div.sk-parallel-item:last-child::after {align-self: flex-start;width: 50%;}#sk-container-id-3 div.sk-parallel-item:only-child::after {width: 0;}#sk-container-id-3 div.sk-dashed-wrapped {border: 1px dashed gray;margin: 0 0.4em 0.5em 0.4em;box-sizing: border-box;padding-bottom: 0.4em;background-color: white;}#sk-container-id-3 div.sk-label label {font-family: monospace;font-weight: bold;display: inline-block;line-height: 1.2em;}#sk-container-id-3 div.sk-label-container {text-align: center;}#sk-container-id-3 div.sk-container {/* jupyter's `normalize.less` sets `[hidden] { display: none; }` but bootstrap.min.css set `[hidden] { display: none !important; }` so we also need the `!important` here to be able to override the default hidden behavior on the sphinx rendered scikit-learn.org. See: https://github.com/scikit-learn/scikit-learn/issues/21755 */display: inline-block !important;position: relative;}#sk-container-id-3 div.sk-text-repr-fallback {display: none;}</style><div id=\"sk-container-id-3\" class=\"sk-top-container\"><div class=\"sk-text-repr-fallback\"><pre>GridSearchCV(cv=2,\n",
       "             estimator=&lt;catboost.core.CatBoostRegressor object at 0x0000022CB4F6AB90&gt;,\n",
       "             n_jobs=-1,\n",
       "             param_grid={&#x27;boosting_type&#x27;: [&#x27;Auto&#x27;, &#x27;Ordered&#x27;, &#x27;plain&#x27;],\n",
       "                         &#x27;depth&#x27;: [6, 8, 10, 12, 14, 16],\n",
       "                         &#x27;grow_policy&#x27;: [&#x27;SymmetricTree&#x27;, &#x27;Depthwise&#x27;,\n",
       "                                         &#x27;Lossguide&#x27;],\n",
       "                         &#x27;iterations&#x27;: [30, 50, 100],\n",
       "                         &#x27;l2_leaf_reg&#x27;: [1, 3, 5, 7],\n",
       "                         &#x27;learning_rate&#x27;: [0.01, 0.05, 0.1],\n",
       "                         &#x27;max_leaves&#x27;: [2, 8, 10, 20, 32, 64],\n",
       "                         &#x27;sampling_frequency&#x27;: [&#x27;PerTreeLevel&#x27;, &#x27;PerTree&#x27;]})</pre><b>In a Jupyter environment, please rerun this cell to show the HTML representation or trust the notebook. <br />On GitHub, the HTML representation is unable to render, please try loading this page with nbviewer.org.</b></div><div class=\"sk-container\" hidden><div class=\"sk-item sk-dashed-wrapped\"><div class=\"sk-label-container\"><div class=\"sk-label sk-toggleable\"><input class=\"sk-toggleable__control sk-hidden--visually\" id=\"sk-estimator-id-21\" type=\"checkbox\" ><label for=\"sk-estimator-id-21\" class=\"sk-toggleable__label sk-toggleable__label-arrow\">GridSearchCV</label><div class=\"sk-toggleable__content\"><pre>GridSearchCV(cv=2,\n",
       "             estimator=&lt;catboost.core.CatBoostRegressor object at 0x0000022CB4F6AB90&gt;,\n",
       "             n_jobs=-1,\n",
       "             param_grid={&#x27;boosting_type&#x27;: [&#x27;Auto&#x27;, &#x27;Ordered&#x27;, &#x27;plain&#x27;],\n",
       "                         &#x27;depth&#x27;: [6, 8, 10, 12, 14, 16],\n",
       "                         &#x27;grow_policy&#x27;: [&#x27;SymmetricTree&#x27;, &#x27;Depthwise&#x27;,\n",
       "                                         &#x27;Lossguide&#x27;],\n",
       "                         &#x27;iterations&#x27;: [30, 50, 100],\n",
       "                         &#x27;l2_leaf_reg&#x27;: [1, 3, 5, 7],\n",
       "                         &#x27;learning_rate&#x27;: [0.01, 0.05, 0.1],\n",
       "                         &#x27;max_leaves&#x27;: [2, 8, 10, 20, 32, 64],\n",
       "                         &#x27;sampling_frequency&#x27;: [&#x27;PerTreeLevel&#x27;, &#x27;PerTree&#x27;]})</pre></div></div></div><div class=\"sk-parallel\"><div class=\"sk-parallel-item\"><div class=\"sk-item\"><div class=\"sk-label-container\"><div class=\"sk-label sk-toggleable\"><input class=\"sk-toggleable__control sk-hidden--visually\" id=\"sk-estimator-id-22\" type=\"checkbox\" ><label for=\"sk-estimator-id-22\" class=\"sk-toggleable__label sk-toggleable__label-arrow\">estimator: CatBoostRegressor</label><div class=\"sk-toggleable__content\"><pre>&lt;catboost.core.CatBoostRegressor object at 0x0000022CB4F6AB90&gt;</pre></div></div></div><div class=\"sk-serial\"><div class=\"sk-item\"><div class=\"sk-estimator sk-toggleable\"><input class=\"sk-toggleable__control sk-hidden--visually\" id=\"sk-estimator-id-23\" type=\"checkbox\" ><label for=\"sk-estimator-id-23\" class=\"sk-toggleable__label sk-toggleable__label-arrow\">CatBoostRegressor</label><div class=\"sk-toggleable__content\"><pre>&lt;catboost.core.CatBoostRegressor object at 0x0000022CB4F6AB90&gt;</pre></div></div></div></div></div></div></div></div></div></div>"
      ],
      "text/plain": [
       "GridSearchCV(cv=2,\n",
       "             estimator=<catboost.core.CatBoostRegressor object at 0x0000022CB4F6AB90>,\n",
       "             n_jobs=-1,\n",
       "             param_grid={'boosting_type': ['Auto', 'Ordered', 'plain'],\n",
       "                         'depth': [6, 8, 10, 12, 14, 16],\n",
       "                         'grow_policy': ['SymmetricTree', 'Depthwise',\n",
       "                                         'Lossguide'],\n",
       "                         'iterations': [30, 50, 100],\n",
       "                         'l2_leaf_reg': [1, 3, 5, 7],\n",
       "                         'learning_rate': [0.01, 0.05, 0.1],\n",
       "                         'max_leaves': [2, 8, 10, 20, 32, 64],\n",
       "                         'sampling_frequency': ['PerTreeLevel', 'PerTree']})"
      ]
     },
     "execution_count": 143,
     "metadata": {},
     "output_type": "execute_result"
    }
   ],
   "source": [
    "model = CatBoostRegressor()\n",
    "parameters = {'depth' : [6, 8, 10, 12, 14, 16],\n",
    "              'learning_rate' : [0.01, 0.05, 0.1],\n",
    "              'iterations'    : [30, 50, 100],\n",
    "              'l2_leaf_reg' : [1, 3, 5, 7],\n",
    "              'max_leaves' : [2, 8, 10, 20, 32, 64],\n",
    "              'sampling_frequency' : ['PerTreeLevel', 'PerTree'],\n",
    "              'boosting_type' : ['Auto', 'Ordered', 'plain'],\n",
    "              'grow_policy' : ['SymmetricTree', 'Depthwise', 'Lossguide'],\n",
    "              }\n",
    "\n",
    "grid = GridSearchCV(estimator=model, param_grid = parameters, cv = 2, n_jobs=-1)\n",
    "grid.fit(X_train , y_train , cat_features=cat_features, verbose=False,  plot=True)"
   ]
  },
  {
   "cell_type": "markdown",
   "id": "46fcab1e-db19-4cd6-a373-ebced82dc8c9",
   "metadata": {},
   "source": [
    "Узнаем гиперпараметры, которые показали лучший результат при обучении. "
   ]
  },
  {
   "cell_type": "code",
   "execution_count": 145,
   "id": "75180dd8-cad0-46f0-a05d-897c7db6dc58",
   "metadata": {
    "tags": []
   },
   "outputs": [
    {
     "data": {
      "text/plain": [
       "{'boosting_type': 'Ordered',\n",
       " 'depth': 6,\n",
       " 'grow_policy': 'SymmetricTree',\n",
       " 'iterations': 100,\n",
       " 'l2_leaf_reg': 7,\n",
       " 'learning_rate': 0.05,\n",
       " 'max_leaves': 64,\n",
       " 'sampling_frequency': 'PerTree'}"
      ]
     },
     "execution_count": 145,
     "metadata": {},
     "output_type": "execute_result"
    }
   ],
   "source": [
    "grid.best_params_"
   ]
  },
  {
   "cell_type": "markdown",
   "id": "190a862f-b929-4c59-a90c-77956cedafb0",
   "metadata": {},
   "source": [
    "Обучим модель согласно найденным гипер параметрам. "
   ]
  },
  {
   "cell_type": "code",
   "execution_count": 164,
   "id": "ed36bcbd-b8eb-48fa-ac11-29fa78b11a55",
   "metadata": {
    "tags": []
   },
   "outputs": [],
   "source": [
    "model = CatBoostRegressor(\n",
    "    boosting_type = 'Ordered',\n",
    "    depth=10, \n",
    "    grow_policy= 'SymmetricTree',\n",
    "    l2_leaf_reg= 7,\n",
    "    learning_rate=0.05,\n",
    "    iterations=300,\n",
    "    sampling_frequency= 'PerTree'\n",
    ")"
   ]
  },
  {
   "cell_type": "code",
   "execution_count": 165,
   "id": "89759d74-0b80-499e-a32b-50a6c487d01b",
   "metadata": {
    "tags": []
   },
   "outputs": [
    {
     "data": {
      "application/vnd.jupyter.widget-view+json": {
       "model_id": "9c9d0c06659a449bbc365c6ae5e09ee1",
       "version_major": 2,
       "version_minor": 0
      },
      "text/plain": [
       "MetricVisualizer(layout=Layout(align_self='stretch', height='500px'))"
      ]
     },
     "metadata": {},
     "output_type": "display_data"
    },
    {
     "name": "stderr",
     "output_type": "stream",
     "text": [
      "2023-08-29 02:19:13,666 - INFO     - Executing shutdown due to inactivity...\n",
      "2023-08-29 02:19:13,691 - INFO     - Executing shutdown...\n",
      "2023-08-29 02:19:13,694 - ERROR    - Exception on /shutdown [GET]\n",
      "Traceback (most recent call last):\n",
      "  File \"C:\\Users\\Kvas6\\anaconda3\\Lib\\site-packages\\flask\\app.py\", line 2525, in wsgi_app\n",
      "    response = self.full_dispatch_request()\n",
      "               ^^^^^^^^^^^^^^^^^^^^^^^^^^^^\n",
      "  File \"C:\\Users\\Kvas6\\anaconda3\\Lib\\site-packages\\flask\\app.py\", line 1822, in full_dispatch_request\n",
      "    rv = self.handle_user_exception(e)\n",
      "         ^^^^^^^^^^^^^^^^^^^^^^^^^^^^^\n",
      "  File \"C:\\Users\\Kvas6\\anaconda3\\Lib\\site-packages\\flask\\app.py\", line 1820, in full_dispatch_request\n",
      "    rv = self.dispatch_request()\n",
      "         ^^^^^^^^^^^^^^^^^^^^^^^\n",
      "  File \"C:\\Users\\Kvas6\\anaconda3\\Lib\\site-packages\\flask\\app.py\", line 1796, in dispatch_request\n",
      "    return self.ensure_sync(self.view_functions[rule.endpoint])(**view_args)\n",
      "           ^^^^^^^^^^^^^^^^^^^^^^^^^^^^^^^^^^^^^^^^^^^^^^^^^^^^^^^^^^^^^^^^^\n",
      "  File \"C:\\Users\\Kvas6\\anaconda3\\Lib\\site-packages\\dtale\\app.py\", line 440, in shutdown\n",
      "    shutdown_server()\n",
      "  File \"C:\\Users\\Kvas6\\anaconda3\\Lib\\site-packages\\dtale\\app.py\", line 426, in shutdown_server\n",
      "    raise RuntimeError(\"Not running with the Werkzeug Server\")\n",
      "RuntimeError: Not running with the Werkzeug Server\n"
     ]
    },
    {
     "data": {
      "text/plain": [
       "<catboost.core.CatBoostRegressor at 0x22c823fa910>"
      ]
     },
     "execution_count": 165,
     "metadata": {},
     "output_type": "execute_result"
    }
   ],
   "source": [
    "model.fit(X_cat, y_cat,\n",
    "    cat_features=cat_features,\n",
    "    verbose=False,\n",
    "    plot=True)"
   ]
  },
  {
   "cell_type": "code",
   "execution_count": 166,
   "id": "6d5cb60a-376d-4d6f-bf28-499051a9d816",
   "metadata": {
    "tags": []
   },
   "outputs": [],
   "source": [
    "train_preds = model.predict(X_cat)"
   ]
  },
  {
   "cell_type": "code",
   "execution_count": 167,
   "id": "1f73d3ae-aa07-44de-8ecb-03bf6b1d6a79",
   "metadata": {
    "tags": []
   },
   "outputs": [],
   "source": [
    "error = mean_absolute_percentage_error(y_cat, train_preds)"
   ]
  },
  {
   "cell_type": "code",
   "execution_count": 168,
   "id": "2df756b4-8a1e-4be9-915d-b4f19d2f6a1d",
   "metadata": {
    "tags": []
   },
   "outputs": [
    {
     "name": "stdout",
     "output_type": "stream",
     "text": [
      "0.25446893960190314\n"
     ]
    }
   ],
   "source": [
    "print(error)"
   ]
  },
  {
   "cell_type": "markdown",
   "id": "83bd4119-743d-49c2-8f5b-990fb6eb23a5",
   "metadata": {},
   "source": [
    "Показатель MAPE находится  не самый хороший, для увеличения данного показателя необходимо загрузить больше данных в обучающую модель. Продолжим дальше улучшать даный параметр. "
   ]
  },
  {
   "cell_type": "markdown",
   "id": "9d54a3e1-ad18-4eb9-aa90-a23fe60e6b2e",
   "metadata": {},
   "source": [
    "Предскажем стоимость автомобиля, и запишем результат в таблицу. "
   ]
  },
  {
   "cell_type": "code",
   "execution_count": 173,
   "id": "ed96a72d-37e3-49ac-94b9-b30a02d1dd1b",
   "metadata": {
    "tags": []
   },
   "outputs": [],
   "source": [
    "prediction_dc = model.predict(data_test_cat_feuchers)"
   ]
  },
  {
   "cell_type": "code",
   "execution_count": 174,
   "id": "6ed8faf3-520b-4593-b194-918a30cb747a",
   "metadata": {
    "tags": []
   },
   "outputs": [
    {
     "data": {
      "text/plain": [
       "110058"
      ]
     },
     "execution_count": 174,
     "metadata": {},
     "output_type": "execute_result"
    }
   ],
   "source": [
    "len(prediction_dc)"
   ]
  },
  {
   "cell_type": "code",
   "execution_count": 175,
   "id": "e6b2d684-a67f-4695-a9ac-48500784283c",
   "metadata": {
    "tags": []
   },
   "outputs": [],
   "source": [
    "data_save_cat = data_test_cat.copy()"
   ]
  },
  {
   "cell_type": "code",
   "execution_count": 176,
   "id": "aeba54a8-712f-4121-8b82-01737ffe0236",
   "metadata": {
    "tags": []
   },
   "outputs": [],
   "source": [
    "data_save_cat['sellingprice']=prediction_dc"
   ]
  },
  {
   "cell_type": "code",
   "execution_count": 177,
   "id": "371e2463-c10a-49f2-9d15-1c46ad847f2c",
   "metadata": {
    "tags": []
   },
   "outputs": [
    {
     "data": {
      "text/html": [
       "<div>\n",
       "<style scoped>\n",
       "    .dataframe tbody tr th:only-of-type {\n",
       "        vertical-align: middle;\n",
       "    }\n",
       "\n",
       "    .dataframe tbody tr th {\n",
       "        vertical-align: top;\n",
       "    }\n",
       "\n",
       "    .dataframe thead th {\n",
       "        text-align: right;\n",
       "    }\n",
       "</style>\n",
       "<table border=\"1\" class=\"dataframe\">\n",
       "  <thead>\n",
       "    <tr style=\"text-align: right;\">\n",
       "      <th></th>\n",
       "      <th>year</th>\n",
       "      <th>make</th>\n",
       "      <th>model</th>\n",
       "      <th>trim</th>\n",
       "      <th>body</th>\n",
       "      <th>transmission</th>\n",
       "      <th>vin</th>\n",
       "      <th>state</th>\n",
       "      <th>condition</th>\n",
       "      <th>odometer</th>\n",
       "      <th>color</th>\n",
       "      <th>interior</th>\n",
       "      <th>seller</th>\n",
       "      <th>age</th>\n",
       "      <th>sellingprice</th>\n",
       "    </tr>\n",
       "  </thead>\n",
       "  <tbody>\n",
       "    <tr>\n",
       "      <th>0</th>\n",
       "      <td>2005</td>\n",
       "      <td>cadillac</td>\n",
       "      <td>cts</td>\n",
       "      <td>base</td>\n",
       "      <td>sedan</td>\n",
       "      <td>automatic</td>\n",
       "      <td>1g6dp567450124779</td>\n",
       "      <td>ca</td>\n",
       "      <td>2.7</td>\n",
       "      <td>116970.0</td>\n",
       "      <td>black</td>\n",
       "      <td>black</td>\n",
       "      <td>lexus of stevens creek</td>\n",
       "      <td>10</td>\n",
       "      <td>5366.991063</td>\n",
       "    </tr>\n",
       "    <tr>\n",
       "      <th>1</th>\n",
       "      <td>2014</td>\n",
       "      <td>gmc</td>\n",
       "      <td>savana cargo</td>\n",
       "      <td>2500</td>\n",
       "      <td>van</td>\n",
       "      <td>automatic</td>\n",
       "      <td>1gtw7fca7e1902207</td>\n",
       "      <td>pa</td>\n",
       "      <td>4.4</td>\n",
       "      <td>6286.0</td>\n",
       "      <td>white</td>\n",
       "      <td>gray</td>\n",
       "      <td>u-haul</td>\n",
       "      <td>1</td>\n",
       "      <td>20969.958290</td>\n",
       "    </tr>\n",
       "    <tr>\n",
       "      <th>2</th>\n",
       "      <td>2013</td>\n",
       "      <td>nissan</td>\n",
       "      <td>murano</td>\n",
       "      <td>sl</td>\n",
       "      <td>suv</td>\n",
       "      <td>automatic</td>\n",
       "      <td>jn8az1mw6dw303497</td>\n",
       "      <td>oh</td>\n",
       "      <td>4.6</td>\n",
       "      <td>11831.0</td>\n",
       "      <td>black</td>\n",
       "      <td>black</td>\n",
       "      <td>nissan-infiniti lt</td>\n",
       "      <td>2</td>\n",
       "      <td>21841.796655</td>\n",
       "    </tr>\n",
       "    <tr>\n",
       "      <th>3</th>\n",
       "      <td>2013</td>\n",
       "      <td>chevrolet</td>\n",
       "      <td>impala</td>\n",
       "      <td>lt</td>\n",
       "      <td>sedan</td>\n",
       "      <td>automatic</td>\n",
       "      <td>2g1wf5e34d1160703</td>\n",
       "      <td>fl</td>\n",
       "      <td>2.3</td>\n",
       "      <td>57105.0</td>\n",
       "      <td>silver</td>\n",
       "      <td>gray</td>\n",
       "      <td>onemain rem/auto club of miami inc dba north dad</td>\n",
       "      <td>2</td>\n",
       "      <td>10183.521734</td>\n",
       "    </tr>\n",
       "    <tr>\n",
       "      <th>4</th>\n",
       "      <td>2013</td>\n",
       "      <td>nissan</td>\n",
       "      <td>titan</td>\n",
       "      <td>se</td>\n",
       "      <td>crew cab</td>\n",
       "      <td>automatic</td>\n",
       "      <td>1n6aa0ec3dn301209</td>\n",
       "      <td>tn</td>\n",
       "      <td>2.9</td>\n",
       "      <td>31083.0</td>\n",
       "      <td>black</td>\n",
       "      <td>black</td>\n",
       "      <td>nissan north america inc.</td>\n",
       "      <td>2</td>\n",
       "      <td>14557.050658</td>\n",
       "    </tr>\n",
       "  </tbody>\n",
       "</table>\n",
       "</div>"
      ],
      "text/plain": [
       "   year       make         model  trim      body transmission  \\\n",
       "0  2005   cadillac           cts  base     sedan    automatic   \n",
       "1  2014        gmc  savana cargo  2500       van    automatic   \n",
       "2  2013     nissan        murano    sl       suv    automatic   \n",
       "3  2013  chevrolet        impala    lt     sedan    automatic   \n",
       "4  2013     nissan         titan    se  crew cab    automatic   \n",
       "\n",
       "                 vin state  condition  odometer   color interior  \\\n",
       "0  1g6dp567450124779    ca        2.7  116970.0   black    black   \n",
       "1  1gtw7fca7e1902207    pa        4.4    6286.0   white     gray   \n",
       "2  jn8az1mw6dw303497    oh        4.6   11831.0   black    black   \n",
       "3  2g1wf5e34d1160703    fl        2.3   57105.0  silver     gray   \n",
       "4  1n6aa0ec3dn301209    tn        2.9   31083.0   black    black   \n",
       "\n",
       "                                             seller  age  sellingprice  \n",
       "0                            lexus of stevens creek   10   5366.991063  \n",
       "1                                            u-haul    1  20969.958290  \n",
       "2                                nissan-infiniti lt    2  21841.796655  \n",
       "3  onemain rem/auto club of miami inc dba north dad    2  10183.521734  \n",
       "4                         nissan north america inc.    2  14557.050658  "
      ]
     },
     "execution_count": 177,
     "metadata": {},
     "output_type": "execute_result"
    }
   ],
   "source": [
    "data_save_cat.head()"
   ]
  },
  {
   "cell_type": "code",
   "execution_count": 178,
   "id": "e40a4910-53f1-4034-9622-bd4d986dd20c",
   "metadata": {
    "tags": []
   },
   "outputs": [],
   "source": [
    "data_save_cat = data_save_cat.drop(columns=['year', 'make', 'model', 'trim', 'body', 'transmission', 'state', 'condition', 'odometer', 'color', 'interior', 'seller', 'age'], axis=1)"
   ]
  },
  {
   "cell_type": "code",
   "execution_count": 179,
   "id": "b271e63a-afc5-4a16-a509-22112d9f068c",
   "metadata": {
    "tags": []
   },
   "outputs": [
    {
     "data": {
      "text/html": [
       "<div>\n",
       "<style scoped>\n",
       "    .dataframe tbody tr th:only-of-type {\n",
       "        vertical-align: middle;\n",
       "    }\n",
       "\n",
       "    .dataframe tbody tr th {\n",
       "        vertical-align: top;\n",
       "    }\n",
       "\n",
       "    .dataframe thead th {\n",
       "        text-align: right;\n",
       "    }\n",
       "</style>\n",
       "<table border=\"1\" class=\"dataframe\">\n",
       "  <thead>\n",
       "    <tr style=\"text-align: right;\">\n",
       "      <th></th>\n",
       "      <th>vin</th>\n",
       "      <th>sellingprice</th>\n",
       "    </tr>\n",
       "  </thead>\n",
       "  <tbody>\n",
       "    <tr>\n",
       "      <th>0</th>\n",
       "      <td>1g6dp567450124779</td>\n",
       "      <td>5366.991063</td>\n",
       "    </tr>\n",
       "    <tr>\n",
       "      <th>1</th>\n",
       "      <td>1gtw7fca7e1902207</td>\n",
       "      <td>20969.958290</td>\n",
       "    </tr>\n",
       "    <tr>\n",
       "      <th>2</th>\n",
       "      <td>jn8az1mw6dw303497</td>\n",
       "      <td>21841.796655</td>\n",
       "    </tr>\n",
       "    <tr>\n",
       "      <th>3</th>\n",
       "      <td>2g1wf5e34d1160703</td>\n",
       "      <td>10183.521734</td>\n",
       "    </tr>\n",
       "    <tr>\n",
       "      <th>4</th>\n",
       "      <td>1n6aa0ec3dn301209</td>\n",
       "      <td>14557.050658</td>\n",
       "    </tr>\n",
       "    <tr>\n",
       "      <th>5</th>\n",
       "      <td>wvwvd63b93e175638</td>\n",
       "      <td>1491.955738</td>\n",
       "    </tr>\n",
       "    <tr>\n",
       "      <th>6</th>\n",
       "      <td>5npeb4ac4dh809686</td>\n",
       "      <td>13091.931272</td>\n",
       "    </tr>\n",
       "    <tr>\n",
       "      <th>7</th>\n",
       "      <td>1fm5k7b97dgb16454</td>\n",
       "      <td>22579.369108</td>\n",
       "    </tr>\n",
       "    <tr>\n",
       "      <th>8</th>\n",
       "      <td>jn1cv6ar5bm411441</td>\n",
       "      <td>19650.209967</td>\n",
       "    </tr>\n",
       "    <tr>\n",
       "      <th>9</th>\n",
       "      <td>3gnfc16j77g158033</td>\n",
       "      <td>12469.593872</td>\n",
       "    </tr>\n",
       "  </tbody>\n",
       "</table>\n",
       "</div>"
      ],
      "text/plain": [
       "                 vin  sellingprice\n",
       "0  1g6dp567450124779   5366.991063\n",
       "1  1gtw7fca7e1902207  20969.958290\n",
       "2  jn8az1mw6dw303497  21841.796655\n",
       "3  2g1wf5e34d1160703  10183.521734\n",
       "4  1n6aa0ec3dn301209  14557.050658\n",
       "5  wvwvd63b93e175638   1491.955738\n",
       "6  5npeb4ac4dh809686  13091.931272\n",
       "7  1fm5k7b97dgb16454  22579.369108\n",
       "8  jn1cv6ar5bm411441  19650.209967\n",
       "9  3gnfc16j77g158033  12469.593872"
      ]
     },
     "execution_count": 179,
     "metadata": {},
     "output_type": "execute_result"
    }
   ],
   "source": [
    "data_save_cat.head(10)"
   ]
  },
  {
   "cell_type": "code",
   "execution_count": 181,
   "id": "9bc6466b-b4d9-441d-af65-a54287371806",
   "metadata": {
    "tags": []
   },
   "outputs": [],
   "source": [
    "data_save_cat.to_csv('file_fr_cat_boost.csv', index=False)"
   ]
  },
  {
   "cell_type": "markdown",
   "id": "fa15f3d8-cee9-4829-ae32-99d5a32468ba",
   "metadata": {},
   "source": [
    "## Вывод"
   ]
  },
  {
   "cell_type": "markdown",
   "id": "3b921c4a-8ae7-4300-8f03-3577ed3180a1",
   "metadata": {},
   "source": [
    "Самой простой и быстрой моделью оказалась  модель CATBOOST. Именно она показала лучший результат на платфоре \"kaggle\". Основная сложность при обучении моделей - поиск оптимальных значений при заполнении пропусков. Данный фактор очень важен при обучении и получении итоговых результатов. При выполнении данного проекта был получен обширный опыт, а самое главное, что работа была полезной и интересной. "
   ]
  },
  {
   "cell_type": "code",
   "execution_count": null,
   "id": "38092c4d-4b5c-43e4-937c-523eaea3c09b",
   "metadata": {},
   "outputs": [],
   "source": []
  }
 ],
 "metadata": {
  "kernelspec": {
   "display_name": "Python 3 (ipykernel)",
   "language": "python",
   "name": "python3"
  },
  "language_info": {
   "codemirror_mode": {
    "name": "ipython",
    "version": 3
   },
   "file_extension": ".py",
   "mimetype": "text/x-python",
   "name": "python",
   "nbconvert_exporter": "python",
   "pygments_lexer": "ipython3",
   "version": "3.11.4"
  }
 },
 "nbformat": 4,
 "nbformat_minor": 5
}
